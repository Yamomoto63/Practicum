{
 "cells": [
  {
   "cell_type": "markdown",
   "metadata": {
    "toc": true
   },
   "source": [
    "<h1>Содержание<span class=\"tocSkip\"></span></h1>\n",
    "<div class=\"toc\"><ul class=\"toc-item\"><li><span><a href=\"#Подготовка\" data-toc-modified-id=\"Подготовка-1\"><span class=\"toc-item-num\">1&nbsp;&nbsp;</span>Подготовка</a></span></li><li><span><a href=\"#Обучение\" data-toc-modified-id=\"Обучение-2\"><span class=\"toc-item-num\">2&nbsp;&nbsp;</span>Обучение</a></span><ul class=\"toc-item\"><li><span><a href=\"#LogisticRegression\" data-toc-modified-id=\"LogisticRegression-2.1\"><span class=\"toc-item-num\">2.1&nbsp;&nbsp;</span>LogisticRegression</a></span></li><li><span><a href=\"#CatBoostClassifier\" data-toc-modified-id=\"CatBoostClassifier-2.2\"><span class=\"toc-item-num\">2.2&nbsp;&nbsp;</span>CatBoostClassifier</a></span></li><li><span><a href=\"#LGBMClassifier\" data-toc-modified-id=\"LGBMClassifier-2.3\"><span class=\"toc-item-num\">2.3&nbsp;&nbsp;</span>LGBMClassifier</a></span></li><li><span><a href=\"#Проверка\" data-toc-modified-id=\"Проверка-2.4\"><span class=\"toc-item-num\">2.4&nbsp;&nbsp;</span>Проверка</a></span></li></ul></li><li><span><a href=\"#Выводы\" data-toc-modified-id=\"Выводы-3\"><span class=\"toc-item-num\">3&nbsp;&nbsp;</span>Выводы</a></span></li><li><span><a href=\"#Чек-лист-проверки\" data-toc-modified-id=\"Чек-лист-проверки-4\"><span class=\"toc-item-num\">4&nbsp;&nbsp;</span>Чек-лист проверки</a></span></li></ul></div>"
   ]
  },
  {
   "cell_type": "markdown",
   "metadata": {},
   "source": [
    "# Проект для «Викишоп»"
   ]
  },
  {
   "cell_type": "markdown",
   "metadata": {},
   "source": [
    "Интернет-магазин «Викишоп» запускает новый сервис. Теперь пользователи могут редактировать и дополнять описания товаров, как в вики-сообществах. То есть клиенты предлагают свои правки и комментируют изменения других. Магазину нужен инструмент, который будет искать токсичные комментарии и отправлять их на модерацию. \n",
    "\n",
    "Обучите модель классифицировать комментарии на позитивные и негативные. В вашем распоряжении набор данных с разметкой о токсичности правок.\n",
    "\n",
    "Постройте модель со значением метрики качества *F1* не меньше 0.75. \n",
    "\n",
    "**Инструкция по выполнению проекта**\n",
    "\n",
    "1. Загрузите и подготовьте данные.\n",
    "2. Обучите разные модели. \n",
    "3. Сделайте выводы.\n",
    "\n",
    "Для выполнения проекта применять *BERT* необязательно, но вы можете попробовать.\n",
    "\n",
    "**Описание данных**\n",
    "\n",
    "Данные находятся в файле `toxic_comments.csv`. Столбец *text* в нём содержит текст комментария, а *toxic* — целевой признак."
   ]
  },
  {
   "cell_type": "markdown",
   "metadata": {},
   "source": [
    "## Подготовка"
   ]
  },
  {
   "cell_type": "code",
   "execution_count": 11,
   "metadata": {},
   "outputs": [
    {
     "name": "stderr",
     "output_type": "stream",
     "text": [
      "[nltk_data] Downloading package averaged_perceptron_tagger to\n",
      "[nltk_data]     /home/jovyan/nltk_data...\n",
      "[nltk_data]   Package averaged_perceptron_tagger is already up-to-\n",
      "[nltk_data]       date!\n"
     ]
    },
    {
     "data": {
      "text/plain": [
       "True"
      ]
     },
     "execution_count": 11,
     "metadata": {},
     "output_type": "execute_result"
    }
   ],
   "source": [
    "import os\n",
    "import pandas as pd\n",
    "import re\n",
    "import nltk\n",
    "from nltk.corpus import stopwords\n",
    "from nltk.stem import WordNetLemmatizer\n",
    "from nltk.corpus import wordnet\n",
    "from nltk import pos_tag\n",
    "from sklearn.pipeline import Pipeline\n",
    "from sklearn.model_selection import train_test_split\n",
    "from sklearn.feature_extraction.text import TfidfVectorizer\n",
    "from sklearn.model_selection import train_test_split, GridSearchCV\n",
    "from sklearn.linear_model import LogisticRegression\n",
    "from catboost import CatBoostClassifier\n",
    "from lightgbm import LGBMClassifier\n",
    "from sklearn.metrics import f1_score, confusion_matrix\n",
    "from sklearn.metrics import roc_curve, auc\n",
    "import matplotlib.pyplot as plt\n",
    "\n",
    "random_state = 123\n",
    "\n",
    "#nltk.download('stopwords')\n",
    "#nltk.download('punkt')\n",
    "#nltk.download('wordnet')\n",
    "nltk.download('averaged_perceptron_tagger')"
   ]
  },
  {
   "cell_type": "code",
   "execution_count": 12,
   "metadata": {},
   "outputs": [],
   "source": [
    "# Удаление ненужных символов\n",
    "def remove_special_characters(text):\n",
    "    # Удаление знаков пунктуации\n",
    "    text = re.sub(r'[^\\w\\s]', '', text)\n",
    "    # Удаление специальных символов\n",
    "    text = re.sub(r'[^a-zA-Z0-9]', ' ', text)\n",
    "    return text\n",
    "\n",
    "# Функция для преобразования POS-тегов из nltk в формат WordNet\n",
    "def get_wordnet_pos(nltk_pos):\n",
    "    if nltk_pos.startswith('J'):\n",
    "        return wordnet.ADJ\n",
    "    elif nltk_pos.startswith('V'):\n",
    "        return wordnet.VERB\n",
    "    elif nltk_pos.startswith('N'):\n",
    "        return wordnet.NOUN\n",
    "    elif nltk_pos.startswith('R'):\n",
    "        return wordnet.ADV\n",
    "    else:\n",
    "        return wordnet.NOUN  # По умолчанию считаем, что это существительное"
   ]
  },
  {
   "cell_type": "markdown",
   "metadata": {},
   "source": [
    "Начнем с загрузки данных."
   ]
  },
  {
   "cell_type": "code",
   "execution_count": 13,
   "metadata": {},
   "outputs": [
    {
     "data": {
      "text/html": [
       "<div>\n",
       "<style scoped>\n",
       "    .dataframe tbody tr th:only-of-type {\n",
       "        vertical-align: middle;\n",
       "    }\n",
       "\n",
       "    .dataframe tbody tr th {\n",
       "        vertical-align: top;\n",
       "    }\n",
       "\n",
       "    .dataframe thead th {\n",
       "        text-align: right;\n",
       "    }\n",
       "</style>\n",
       "<table border=\"1\" class=\"dataframe\">\n",
       "  <thead>\n",
       "    <tr style=\"text-align: right;\">\n",
       "      <th></th>\n",
       "      <th>text</th>\n",
       "      <th>toxic</th>\n",
       "    </tr>\n",
       "  </thead>\n",
       "  <tbody>\n",
       "    <tr>\n",
       "      <th>0</th>\n",
       "      <td>Explanation\\nWhy the edits made under my usern...</td>\n",
       "      <td>0</td>\n",
       "    </tr>\n",
       "    <tr>\n",
       "      <th>1</th>\n",
       "      <td>D'aww! He matches this background colour I'm s...</td>\n",
       "      <td>0</td>\n",
       "    </tr>\n",
       "    <tr>\n",
       "      <th>2</th>\n",
       "      <td>Hey man, I'm really not trying to edit war. It...</td>\n",
       "      <td>0</td>\n",
       "    </tr>\n",
       "    <tr>\n",
       "      <th>3</th>\n",
       "      <td>\"\\nMore\\nI can't make any real suggestions on ...</td>\n",
       "      <td>0</td>\n",
       "    </tr>\n",
       "    <tr>\n",
       "      <th>4</th>\n",
       "      <td>You, sir, are my hero. Any chance you remember...</td>\n",
       "      <td>0</td>\n",
       "    </tr>\n",
       "  </tbody>\n",
       "</table>\n",
       "</div>"
      ],
      "text/plain": [
       "                                                text  toxic\n",
       "0  Explanation\\nWhy the edits made under my usern...      0\n",
       "1  D'aww! He matches this background colour I'm s...      0\n",
       "2  Hey man, I'm really not trying to edit war. It...      0\n",
       "3  \"\\nMore\\nI can't make any real suggestions on ...      0\n",
       "4  You, sir, are my hero. Any chance you remember...      0"
      ]
     },
     "execution_count": 13,
     "metadata": {},
     "output_type": "execute_result"
    }
   ],
   "source": [
    "### Импорт данных\n",
    "pth1 = '/datasets/toxic_comments.csv'\n",
    "pth2 = 'https://code.s3.yandex.net/datasets/toxic_comments.csv'\n",
    "\n",
    "if os.path.exists(pth1):\n",
    "    comments = pd.read_csv(pth1, index_col=[0])\n",
    "elif os.path.exists(pth2):\n",
    "    comments = pd.read_csv(pth2, index_col=[0])\n",
    "\n",
    "comments.head(5)"
   ]
  },
  {
   "cell_type": "code",
   "execution_count": 14,
   "metadata": {},
   "outputs": [
    {
     "name": "stdout",
     "output_type": "stream",
     "text": [
      "<class 'pandas.core.frame.DataFrame'>\n",
      "Int64Index: 159292 entries, 0 to 159450\n",
      "Data columns (total 2 columns):\n",
      " #   Column  Non-Null Count   Dtype \n",
      "---  ------  --------------   ----- \n",
      " 0   text    159292 non-null  object\n",
      " 1   toxic   159292 non-null  int64 \n",
      "dtypes: int64(1), object(1)\n",
      "memory usage: 3.6+ MB\n"
     ]
    }
   ],
   "source": [
    "comments.info()"
   ]
  },
  {
   "cell_type": "code",
   "execution_count": 15,
   "metadata": {
    "scrolled": true
   },
   "outputs": [
    {
     "data": {
      "text/plain": [
       "0    143106\n",
       "1     16186\n",
       "Name: toxic, dtype: int64"
      ]
     },
     "execution_count": 15,
     "metadata": {},
     "output_type": "execute_result"
    }
   ],
   "source": [
    "comments['toxic'].value_counts()"
   ]
  },
  {
   "cell_type": "markdown",
   "metadata": {},
   "source": [
    "Вывод\n",
    "\n",
    "Данные содержат неодинаковое количество примеров для каждого класса, поэтому важно учитывать этот дисбаланс при обучении моделей."
   ]
  },
  {
   "cell_type": "markdown",
   "metadata": {},
   "source": [
    "Приведем текст к нижнему регистру"
   ]
  },
  {
   "cell_type": "code",
   "execution_count": 16,
   "metadata": {},
   "outputs": [
    {
     "data": {
      "text/html": [
       "<div>\n",
       "<style scoped>\n",
       "    .dataframe tbody tr th:only-of-type {\n",
       "        vertical-align: middle;\n",
       "    }\n",
       "\n",
       "    .dataframe tbody tr th {\n",
       "        vertical-align: top;\n",
       "    }\n",
       "\n",
       "    .dataframe thead th {\n",
       "        text-align: right;\n",
       "    }\n",
       "</style>\n",
       "<table border=\"1\" class=\"dataframe\">\n",
       "  <thead>\n",
       "    <tr style=\"text-align: right;\">\n",
       "      <th></th>\n",
       "      <th>text</th>\n",
       "      <th>toxic</th>\n",
       "    </tr>\n",
       "  </thead>\n",
       "  <tbody>\n",
       "    <tr>\n",
       "      <th>0</th>\n",
       "      <td>explanation\\nwhy the edits made under my usern...</td>\n",
       "      <td>0</td>\n",
       "    </tr>\n",
       "    <tr>\n",
       "      <th>1</th>\n",
       "      <td>d'aww! he matches this background colour i'm s...</td>\n",
       "      <td>0</td>\n",
       "    </tr>\n",
       "    <tr>\n",
       "      <th>2</th>\n",
       "      <td>hey man, i'm really not trying to edit war. it...</td>\n",
       "      <td>0</td>\n",
       "    </tr>\n",
       "    <tr>\n",
       "      <th>3</th>\n",
       "      <td>\"\\nmore\\ni can't make any real suggestions on ...</td>\n",
       "      <td>0</td>\n",
       "    </tr>\n",
       "    <tr>\n",
       "      <th>4</th>\n",
       "      <td>you, sir, are my hero. any chance you remember...</td>\n",
       "      <td>0</td>\n",
       "    </tr>\n",
       "  </tbody>\n",
       "</table>\n",
       "</div>"
      ],
      "text/plain": [
       "                                                text  toxic\n",
       "0  explanation\\nwhy the edits made under my usern...      0\n",
       "1  d'aww! he matches this background colour i'm s...      0\n",
       "2  hey man, i'm really not trying to edit war. it...      0\n",
       "3  \"\\nmore\\ni can't make any real suggestions on ...      0\n",
       "4  you, sir, are my hero. any chance you remember...      0"
      ]
     },
     "execution_count": 16,
     "metadata": {},
     "output_type": "execute_result"
    }
   ],
   "source": [
    "# Приведение текста к нижнему регистру\n",
    "comments['text'] = comments['text'].str.lower()\n",
    "comments.head()"
   ]
  },
  {
   "cell_type": "markdown",
   "metadata": {},
   "source": [
    "Удалим лишние символы и стоп-слова(общие слова, которые не несут смысловой нагрузки)."
   ]
  },
  {
   "cell_type": "code",
   "execution_count": 17,
   "metadata": {},
   "outputs": [],
   "source": [
    "# Удаление ненужных символов\n",
    "comments['text'] = comments['text'].apply(remove_special_characters)"
   ]
  },
  {
   "cell_type": "code",
   "execution_count": 18,
   "metadata": {},
   "outputs": [],
   "source": [
    "# Удаление стоп-слов\n",
    "stop_words = set(stopwords.words('english'))\n",
    "\n",
    "comments['text'] = comments['text'].apply(lambda x: ' '.join([word for word in x.split() if word not in stop_words]))"
   ]
  },
  {
   "cell_type": "code",
   "execution_count": 19,
   "metadata": {},
   "outputs": [
    {
     "data": {
      "text/html": [
       "<div>\n",
       "<style scoped>\n",
       "    .dataframe tbody tr th:only-of-type {\n",
       "        vertical-align: middle;\n",
       "    }\n",
       "\n",
       "    .dataframe tbody tr th {\n",
       "        vertical-align: top;\n",
       "    }\n",
       "\n",
       "    .dataframe thead th {\n",
       "        text-align: right;\n",
       "    }\n",
       "</style>\n",
       "<table border=\"1\" class=\"dataframe\">\n",
       "  <thead>\n",
       "    <tr style=\"text-align: right;\">\n",
       "      <th></th>\n",
       "      <th>text</th>\n",
       "      <th>toxic</th>\n",
       "    </tr>\n",
       "  </thead>\n",
       "  <tbody>\n",
       "    <tr>\n",
       "      <th>0</th>\n",
       "      <td>explanation edits made username hardcore metal...</td>\n",
       "      <td>0</td>\n",
       "    </tr>\n",
       "    <tr>\n",
       "      <th>1</th>\n",
       "      <td>daww matches background colour im seemingly st...</td>\n",
       "      <td>0</td>\n",
       "    </tr>\n",
       "    <tr>\n",
       "      <th>2</th>\n",
       "      <td>hey man im really trying edit war guy constant...</td>\n",
       "      <td>0</td>\n",
       "    </tr>\n",
       "    <tr>\n",
       "      <th>3</th>\n",
       "      <td>cant make real suggestions improvement wondere...</td>\n",
       "      <td>0</td>\n",
       "    </tr>\n",
       "    <tr>\n",
       "      <th>4</th>\n",
       "      <td>sir hero chance remember page thats</td>\n",
       "      <td>0</td>\n",
       "    </tr>\n",
       "  </tbody>\n",
       "</table>\n",
       "</div>"
      ],
      "text/plain": [
       "                                                text  toxic\n",
       "0  explanation edits made username hardcore metal...      0\n",
       "1  daww matches background colour im seemingly st...      0\n",
       "2  hey man im really trying edit war guy constant...      0\n",
       "3  cant make real suggestions improvement wondere...      0\n",
       "4                sir hero chance remember page thats      0"
      ]
     },
     "execution_count": 19,
     "metadata": {},
     "output_type": "execute_result"
    }
   ],
   "source": [
    "comments.head()"
   ]
  },
  {
   "cell_type": "markdown",
   "metadata": {},
   "source": [
    "Разделим текст на отдельные слова или токены."
   ]
  },
  {
   "cell_type": "code",
   "execution_count": 20,
   "metadata": {},
   "outputs": [],
   "source": [
    "# Токенизация\n",
    "comments['tokens'] = comments['text'].apply(nltk.word_tokenize)"
   ]
  },
  {
   "cell_type": "code",
   "execution_count": 21,
   "metadata": {},
   "outputs": [
    {
     "data": {
      "text/html": [
       "<div>\n",
       "<style scoped>\n",
       "    .dataframe tbody tr th:only-of-type {\n",
       "        vertical-align: middle;\n",
       "    }\n",
       "\n",
       "    .dataframe tbody tr th {\n",
       "        vertical-align: top;\n",
       "    }\n",
       "\n",
       "    .dataframe thead th {\n",
       "        text-align: right;\n",
       "    }\n",
       "</style>\n",
       "<table border=\"1\" class=\"dataframe\">\n",
       "  <thead>\n",
       "    <tr style=\"text-align: right;\">\n",
       "      <th></th>\n",
       "      <th>text</th>\n",
       "      <th>toxic</th>\n",
       "      <th>tokens</th>\n",
       "    </tr>\n",
       "  </thead>\n",
       "  <tbody>\n",
       "    <tr>\n",
       "      <th>0</th>\n",
       "      <td>explanation edits made username hardcore metal...</td>\n",
       "      <td>0</td>\n",
       "      <td>[explanation, edits, made, username, hardcore,...</td>\n",
       "    </tr>\n",
       "    <tr>\n",
       "      <th>1</th>\n",
       "      <td>daww matches background colour im seemingly st...</td>\n",
       "      <td>0</td>\n",
       "      <td>[daww, matches, background, colour, im, seemin...</td>\n",
       "    </tr>\n",
       "    <tr>\n",
       "      <th>2</th>\n",
       "      <td>hey man im really trying edit war guy constant...</td>\n",
       "      <td>0</td>\n",
       "      <td>[hey, man, im, really, trying, edit, war, guy,...</td>\n",
       "    </tr>\n",
       "    <tr>\n",
       "      <th>3</th>\n",
       "      <td>cant make real suggestions improvement wondere...</td>\n",
       "      <td>0</td>\n",
       "      <td>[cant, make, real, suggestions, improvement, w...</td>\n",
       "    </tr>\n",
       "    <tr>\n",
       "      <th>4</th>\n",
       "      <td>sir hero chance remember page thats</td>\n",
       "      <td>0</td>\n",
       "      <td>[sir, hero, chance, remember, page, thats]</td>\n",
       "    </tr>\n",
       "  </tbody>\n",
       "</table>\n",
       "</div>"
      ],
      "text/plain": [
       "                                                text  toxic  \\\n",
       "0  explanation edits made username hardcore metal...      0   \n",
       "1  daww matches background colour im seemingly st...      0   \n",
       "2  hey man im really trying edit war guy constant...      0   \n",
       "3  cant make real suggestions improvement wondere...      0   \n",
       "4                sir hero chance remember page thats      0   \n",
       "\n",
       "                                              tokens  \n",
       "0  [explanation, edits, made, username, hardcore,...  \n",
       "1  [daww, matches, background, colour, im, seemin...  \n",
       "2  [hey, man, im, really, trying, edit, war, guy,...  \n",
       "3  [cant, make, real, suggestions, improvement, w...  \n",
       "4         [sir, hero, chance, remember, page, thats]  "
      ]
     },
     "execution_count": 21,
     "metadata": {},
     "output_type": "execute_result"
    }
   ],
   "source": [
    "comments.head()"
   ]
  },
  {
   "cell_type": "markdown",
   "metadata": {},
   "source": [
    "Приведем наши токены к их базовой форме (лемме)."
   ]
  },
  {
   "cell_type": "code",
   "execution_count": 22,
   "metadata": {},
   "outputs": [],
   "source": [
    "# Cоздаем экземпляр лемматизатора\n",
    "lemmatizer = WordNetLemmatizer()\n",
    "# Лемматизация\n",
    "comments['lemmas'] = comments['tokens'].apply(lambda tokens: ' '.join([lemmatizer.lemmatize(token, get_wordnet_pos(pos)) for token, pos in pos_tag(tokens)]))"
   ]
  },
  {
   "cell_type": "code",
   "execution_count": 23,
   "metadata": {},
   "outputs": [
    {
     "data": {
      "text/html": [
       "<div>\n",
       "<style scoped>\n",
       "    .dataframe tbody tr th:only-of-type {\n",
       "        vertical-align: middle;\n",
       "    }\n",
       "\n",
       "    .dataframe tbody tr th {\n",
       "        vertical-align: top;\n",
       "    }\n",
       "\n",
       "    .dataframe thead th {\n",
       "        text-align: right;\n",
       "    }\n",
       "</style>\n",
       "<table border=\"1\" class=\"dataframe\">\n",
       "  <thead>\n",
       "    <tr style=\"text-align: right;\">\n",
       "      <th></th>\n",
       "      <th>text</th>\n",
       "      <th>toxic</th>\n",
       "      <th>tokens</th>\n",
       "      <th>lemmas</th>\n",
       "    </tr>\n",
       "  </thead>\n",
       "  <tbody>\n",
       "    <tr>\n",
       "      <th>0</th>\n",
       "      <td>explanation edits made username hardcore metal...</td>\n",
       "      <td>0</td>\n",
       "      <td>[explanation, edits, made, username, hardcore,...</td>\n",
       "      <td>explanation edits make username hardcore metal...</td>\n",
       "    </tr>\n",
       "    <tr>\n",
       "      <th>1</th>\n",
       "      <td>daww matches background colour im seemingly st...</td>\n",
       "      <td>0</td>\n",
       "      <td>[daww, matches, background, colour, im, seemin...</td>\n",
       "      <td>daww match background colour im seemingly stuc...</td>\n",
       "    </tr>\n",
       "    <tr>\n",
       "      <th>2</th>\n",
       "      <td>hey man im really trying edit war guy constant...</td>\n",
       "      <td>0</td>\n",
       "      <td>[hey, man, im, really, trying, edit, war, guy,...</td>\n",
       "      <td>hey man im really try edit war guy constantly ...</td>\n",
       "    </tr>\n",
       "    <tr>\n",
       "      <th>3</th>\n",
       "      <td>cant make real suggestions improvement wondere...</td>\n",
       "      <td>0</td>\n",
       "      <td>[cant, make, real, suggestions, improvement, w...</td>\n",
       "      <td>cant make real suggestion improvement wonder s...</td>\n",
       "    </tr>\n",
       "    <tr>\n",
       "      <th>4</th>\n",
       "      <td>sir hero chance remember page thats</td>\n",
       "      <td>0</td>\n",
       "      <td>[sir, hero, chance, remember, page, thats]</td>\n",
       "      <td>sir hero chance remember page thats</td>\n",
       "    </tr>\n",
       "  </tbody>\n",
       "</table>\n",
       "</div>"
      ],
      "text/plain": [
       "                                                text  toxic  \\\n",
       "0  explanation edits made username hardcore metal...      0   \n",
       "1  daww matches background colour im seemingly st...      0   \n",
       "2  hey man im really trying edit war guy constant...      0   \n",
       "3  cant make real suggestions improvement wondere...      0   \n",
       "4                sir hero chance remember page thats      0   \n",
       "\n",
       "                                              tokens  \\\n",
       "0  [explanation, edits, made, username, hardcore,...   \n",
       "1  [daww, matches, background, colour, im, seemin...   \n",
       "2  [hey, man, im, really, trying, edit, war, guy,...   \n",
       "3  [cant, make, real, suggestions, improvement, w...   \n",
       "4         [sir, hero, chance, remember, page, thats]   \n",
       "\n",
       "                                              lemmas  \n",
       "0  explanation edits make username hardcore metal...  \n",
       "1  daww match background colour im seemingly stuc...  \n",
       "2  hey man im really try edit war guy constantly ...  \n",
       "3  cant make real suggestion improvement wonder s...  \n",
       "4                sir hero chance remember page thats  "
      ]
     },
     "execution_count": 23,
     "metadata": {},
     "output_type": "execute_result"
    }
   ],
   "source": [
    "comments.head()"
   ]
  },
  {
   "cell_type": "markdown",
   "metadata": {},
   "source": [
    "Разобьем данные на обучающую и тестовую выборки, а затем векторизуем текст с использованием метода TF-IDF."
   ]
  },
  {
   "cell_type": "raw",
   "metadata": {},
   "source": [
    "features_test_vectorized = vectorizer.transform(features_test.apply(lambda x: ' '.join(x)))"
   ]
  },
  {
   "cell_type": "code",
   "execution_count": 24,
   "metadata": {},
   "outputs": [],
   "source": [
    "features = comments['lemmas']\n",
    "target = comments['toxic']\n",
    "\n",
    "features_train, features_test, target_train, target_test = train_test_split(features, target, test_size=0.2, random_state=random_state)"
   ]
  },
  {
   "cell_type": "code",
   "execution_count": 25,
   "metadata": {},
   "outputs": [],
   "source": [
    "# Cоздаем экземпляр векторизатора\n",
    "vectorizer = TfidfVectorizer()\n",
    "\n",
    "# Векторизация с использованием TF-IDF\n",
    "features_train_vectorized = vectorizer.fit_transform(features_train)\n",
    "features_test_vectorized = vectorizer.transform(features_test)"
   ]
  },
  {
   "cell_type": "markdown",
   "metadata": {},
   "source": [
    "Итак мы прошли цикл подготовки текста для обучения моделей предсказания токсичности комментариев, в хаде которого совершили следующие преобразования:\n",
    "\n",
    "* Привели текст к нижнему регистру.\n",
    "\n",
    "* Избавились  от ненужных символов, таких как знаки пунктуации, специальные символы и т.д. \n",
    "\n",
    "* Токенизация: Разделили текст на отдельные слова или токены.\n",
    "\n",
    "* Лемматизация: Привели слова к их базовой форме - лемме.\n",
    "\n",
    "* Разделение данные на обучающую и тестовую выборки.\n",
    "\n",
    "* Векторизация текста: Преобразовали текстовые данные в числовой вид, чтобы их можно было использовать для обучения модели. "
   ]
  },
  {
   "cell_type": "markdown",
   "metadata": {},
   "source": [
    "## Обучение"
   ]
  },
  {
   "cell_type": "markdown",
   "metadata": {},
   "source": [
    "Обучим несколько моделей и посмотрим на метрики."
   ]
  },
  {
   "cell_type": "markdown",
   "metadata": {},
   "source": [
    "### LogisticRegression "
   ]
  },
  {
   "cell_type": "markdown",
   "metadata": {},
   "source": [
    "```python\n",
    "#Создаем экземпляр Pipeline и передаем ему список шагов\n",
    "pipeline = Pipeline([\n",
    "    ('vectorizer', TfidfVectorizer()),\n",
    "    ('model', LogisticRegression(random_state=random_state, max_iter=1000))\n",
    "])\n",
    "\n",
    "#Определяем сетку параметров для модели\n",
    "logreg_param_grid = {\n",
    "    'model__C': [5],\n",
    "    'model__class_weight': ['balanced']\n",
    "}\n",
    "\n",
    "#Создаем экземпляр GridSearchCV и передаем ему Pipeline и параметры для подбора\n",
    "logreg_grid_search = GridSearchCV(pipeline, logreg_param_grid, cv=3, scoring='f1')\n",
    "\n",
    "#Обучаем модель на обучающих данных\n",
    "logreg_grid_search.fit(features_train, target_train)\n",
    "\n",
    "# Получаем параметры лучшей модели\n",
    "logreg_best_model = logreg_grid_search.best_estimator_\n",
    "\n",
    "print(\"Лучшая модель LogisticRegression: \", best_model)\n",
    "print(\"F1-мера для LogisticRegression: \", grid_search.best_score_)\n",
    "```"
   ]
  },
  {
   "cell_type": "code",
   "execution_count": 26,
   "metadata": {},
   "outputs": [
    {
     "name": "stdout",
     "output_type": "stream",
     "text": [
      "Лучшая модель LogisticRegression:  LogisticRegression(C=5, class_weight='balanced', max_iter=1000,\n",
      "                   random_state=123)\n",
      "F1-мера для LogisticRegression:  0.7620217630919189\n",
      "CPU times: user 2min 25s, sys: 4min 51s, total: 7min 17s\n",
      "Wall time: 7min 17s\n"
     ]
    }
   ],
   "source": [
    "%%time\n",
    "\n",
    "logreg = LogisticRegression(random_state=random_state, max_iter=1000)\n",
    "logreg_param_grid = {'C':[5], # 0.1, 1, 10\n",
    "                'class_weight':['balanced']}\n",
    "logreg_grid_search = GridSearchCV(logreg, logreg_param_grid, cv=3, scoring='f1')\n",
    "logreg_grid_search.fit(features_train_vectorized, target_train)\n",
    "logreg_best_model = logreg_grid_search.best_estimator_\n",
    "print(\"Лучшая модель LogisticRegression: \", logreg_best_model)\n",
    "print(\"F1-мера для LogisticRegression: \", logreg_grid_search.best_score_)"
   ]
  },
  {
   "cell_type": "markdown",
   "metadata": {},
   "source": [
    "Лучшая модель LogisticRegression:  LogisticRegression(C=5, class_weight='balanced', max_iter=1000,\n",
    "                   random_state=123)\n",
    "F1-мера для LogisticRegression:  0.7620217630919189"
   ]
  },
  {
   "cell_type": "markdown",
   "metadata": {},
   "source": [
    "### CatBoostClassifier"
   ]
  },
  {
   "cell_type": "code",
   "execution_count": null,
   "metadata": {},
   "outputs": [],
   "source": [
    "%%time\n",
    "\n",
    "catboost = CatBoostClassifier(random_state=random_state)\n",
    "catboost_param_grid = {'learning_rate': [1], # 0.03, 0.1, 0.3, 0.5 \n",
    "                       'iterations':[100]}\n",
    "catboost_grid_search = GridSearchCV(catboost, catboost_param_grid, cv=3, scoring='f1')\n",
    "catboost_grid_search.fit(features_train_vectorized, target_train)\n",
    "catboost_best_model = catboost_grid_search.best_estimator_\n",
    "print(\"Лучшая модель CatBoostClassifier: \", catboost_best_model)\n",
    "print(\"F1-мера для CatBoostClassifier: \", catboost_grid_search.best_score_)"
   ]
  },
  {
   "cell_type": "code",
   "execution_count": null,
   "metadata": {
    "scrolled": true
   },
   "outputs": [],
   "source": [
    "catboost_grid_search.best_params_"
   ]
  },
  {
   "cell_type": "markdown",
   "metadata": {},
   "source": [
    "Лучшая модель CatBoostClassifier:  <catboost.core.CatBoostClassifier object at 0x7f1e50b5db80>\n",
    "F1-мера для CatBoostClassifier:  0.7376318503666361"
   ]
  },
  {
   "cell_type": "markdown",
   "metadata": {},
   "source": [
    "### LGBMClassifier"
   ]
  },
  {
   "cell_type": "code",
   "execution_count": null,
   "metadata": {
    "scrolled": true
   },
   "outputs": [],
   "source": [
    "%%time\n",
    "\n",
    "lgbm = LGBMClassifier(random_state=random_state)\n",
    "lgbm_param_grid = {'max_depth' : [-1], # 1\n",
    "                'learning_rate':[0.5], # 0.03, 0.1, 0.3\n",
    "                'n_estimators' : [500]}  #100\n",
    "lgbm_grid_search = GridSearchCV(lgbm, lgbm_param_grid, cv=3, scoring='f1')\n",
    "lgbm_grid_search.fit(features_train_vectorized, target_train)\n",
    "lgbm_best_model = lgbm_grid_search.best_estimator_\n",
    "print(\"Лучшая модель LGBMClassifier: \", lgbm_best_model)\n",
    "print(\"F1-мера для LGBMClassifier: \", lgbm_grid_search.best_score_)"
   ]
  },
  {
   "cell_type": "markdown",
   "metadata": {},
   "source": [
    "Лучшая модель LGBMClassifier:  LGBMClassifier(learning_rate=0.5, n_estimators=500, random_state=123)\n",
    "F1-мера для LGBMClassifier:  0.7619142248266857"
   ]
  },
  {
   "cell_type": "markdown",
   "metadata": {},
   "source": [
    "### Проверка"
   ]
  },
  {
   "cell_type": "markdown",
   "metadata": {},
   "source": [
    "Лучшую метрику показала модель LogisticRegression F1-мера - 0.762 Проверим на тестовой выборке."
   ]
  },
  {
   "cell_type": "code",
   "execution_count": 27,
   "metadata": {
    "scrolled": true
   },
   "outputs": [
    {
     "name": "stdout",
     "output_type": "stream",
     "text": [
      "F1-мера для LogisticRegression:  0.7663981588032222\n",
      "Матрица ошибок для LogisticRegression\n",
      "[[27571  1161]\n",
      " [  463  2664]]\n",
      "CPU times: user 47.2 s, sys: 1min 32s, total: 2min 19s\n",
      "Wall time: 2min 19s\n"
     ]
    }
   ],
   "source": [
    "%%time\n",
    "logreg_best_model.fit(features_train_vectorized, target_train)\n",
    "prediction = logreg_best_model.predict(features_test_vectorized)\n",
    "f1 = f1_score(target_test, prediction)\n",
    "print(\"F1-мера для LogisticRegression: \", f1)\n",
    "print('Матрица ошибок для LogisticRegression')\n",
    "print(confusion_matrix(target_test, prediction))"
   ]
  },
  {
   "cell_type": "code",
   "execution_count": 28,
   "metadata": {},
   "outputs": [],
   "source": [
    "# Получение вероятностей принадлежности объектов к классу 1\n",
    "y_pred_prob = logreg_best_model.predict_proba(features_test_vectorized)[:, 1]"
   ]
  },
  {
   "cell_type": "code",
   "execution_count": 29,
   "metadata": {},
   "outputs": [],
   "source": [
    "# Вычисление FP_rate и TP_rate\n",
    "fpr, tpr, thresholds = roc_curve(target_test, y_pred_prob)"
   ]
  },
  {
   "cell_type": "code",
   "execution_count": 30,
   "metadata": {},
   "outputs": [],
   "source": [
    "# Вычисление площади под ROC-кривой (AUC-ROC)\n",
    "roc_auc = auc(fpr, tpr)"
   ]
  },
  {
   "cell_type": "code",
   "execution_count": 31,
   "metadata": {},
   "outputs": [
    {
     "data": {
      "image/png": "[encoded data removed]",
      "text/plain": [
       "<Figure size 432x288 with 1 Axes>"
      ]
     },
     "metadata": {
      "needs_background": "light"
     },
     "output_type": "display_data"
    }
   ],
   "source": [
    "# Построение ROC-кривой\n",
    "plt.plot(fpr, tpr, color='darkorange', lw=2, label='ROC curve (area = %0.2f)' % roc_auc)\n",
    "plt.plot([0, 1], [0, 1], color='navy', lw=2, linestyle='--')\n",
    "plt.xlim([0.0, 1.0])\n",
    "plt.ylim([0.0, 1.05])\n",
    "plt.xlabel('False Positive Rate')\n",
    "plt.ylabel('True Positive Rate')\n",
    "plt.title('Receiver operating characteristic')\n",
    "plt.legend(loc=\"lower right\")\n",
    "plt.show()"
   ]
  },
  {
   "cell_type": "markdown",
   "metadata": {},
   "source": [
    "## Выводы"
   ]
  },
  {
   "cell_type": "markdown",
   "metadata": {},
   "source": [
    "Исходя из проведенного анализа, можно сделать вывод, что модель LogisticRegression является наилучшей для решения поставленной задачи классификации. На обучающей выборке значение F1-меры составило 0.7668, а на тестовой выборке - 0.7678, что говорит о высокой точности модели.\n",
    "\n",
    "Матрица ошибок показала, что модель совершает ошибки в классификации на 1140 ложно-положительных случаях и 468 ложно-отрицательных случаях. Однако, в данном случае, ложно-положительные предсказания не являются критичными, так как в дальнейшем они будут отфильтрованы при модерации.\n",
    "\n",
    "Таким образом, для решения поставленной задачи классификации рекомендуется использовать модель LogisticRegression."
   ]
  }
 ],
 "metadata": {
  "ExecuteTimeLog": [
   {
    "duration": 44,
    "start_time": "2023-06-30T07:16:06.754Z"
   },
   {
    "duration": 2294,
    "start_time": "2023-06-30T07:16:28.791Z"
   },
   {
    "duration": 2282,
    "start_time": "2023-06-30T07:16:31.087Z"
   },
   {
    "duration": 805,
    "start_time": "2023-06-30T07:16:53.665Z"
   },
   {
    "duration": 737,
    "start_time": "2023-06-30T07:17:03.884Z"
   },
   {
    "duration": 704,
    "start_time": "2023-06-30T07:17:39.615Z"
   },
   {
    "duration": 34,
    "start_time": "2023-06-30T07:17:56.309Z"
   },
   {
    "duration": 774,
    "start_time": "2023-06-30T07:18:38.486Z"
   },
   {
    "duration": 30,
    "start_time": "2023-06-30T07:18:41.025Z"
   },
   {
    "duration": 9,
    "start_time": "2023-06-30T07:19:16.936Z"
   },
   {
    "duration": 6,
    "start_time": "2023-06-30T07:19:24.781Z"
   },
   {
    "duration": 7,
    "start_time": "2023-06-30T07:19:43.006Z"
   },
   {
    "duration": 5,
    "start_time": "2023-06-30T07:19:46.666Z"
   },
   {
    "duration": 6,
    "start_time": "2023-06-30T07:22:23.145Z"
   },
   {
    "duration": 2425,
    "start_time": "2023-07-03T11:25:49.923Z"
   },
   {
    "duration": 2812,
    "start_time": "2023-07-03T11:25:52.350Z"
   },
   {
    "duration": 27,
    "start_time": "2023-07-03T11:25:55.164Z"
   },
   {
    "duration": 8,
    "start_time": "2023-07-03T11:25:55.193Z"
   },
   {
    "duration": 15,
    "start_time": "2023-07-03T11:25:55.203Z"
   },
   {
    "duration": 570,
    "start_time": "2023-07-03T13:02:23.615Z"
   },
   {
    "duration": 2245,
    "start_time": "2023-07-03T13:02:28.108Z"
   },
   {
    "duration": 24,
    "start_time": "2023-07-03T13:02:32.812Z"
   },
   {
    "duration": 6,
    "start_time": "2023-07-03T13:02:53.357Z"
   },
   {
    "duration": 221,
    "start_time": "2023-07-03T13:03:17.948Z"
   },
   {
    "duration": 207,
    "start_time": "2023-07-03T13:03:26.032Z"
   },
   {
    "duration": 73,
    "start_time": "2023-07-03T13:03:47.512Z"
   },
   {
    "duration": 6,
    "start_time": "2023-07-03T13:04:02.282Z"
   },
   {
    "duration": 6,
    "start_time": "2023-07-03T13:06:02.361Z"
   },
   {
    "duration": 3448,
    "start_time": "2023-07-03T13:09:45.725Z"
   },
   {
    "duration": 5345,
    "start_time": "2023-07-03T13:09:50.027Z"
   },
   {
    "duration": 71982,
    "start_time": "2023-07-03T13:09:57.207Z"
   },
   {
    "duration": 15,
    "start_time": "2023-07-03T13:11:09.190Z"
   },
   {
    "duration": 8,
    "start_time": "2023-07-03T13:14:08.127Z"
   },
   {
    "duration": 825,
    "start_time": "2023-07-03T13:14:08.619Z"
   },
   {
    "duration": 21,
    "start_time": "2023-07-03T13:14:09.446Z"
   },
   {
    "duration": 6,
    "start_time": "2023-07-03T13:14:10.108Z"
   },
   {
    "duration": 222,
    "start_time": "2023-07-03T13:14:11.214Z"
   },
   {
    "duration": 8,
    "start_time": "2023-07-03T13:14:12.755Z"
   },
   {
    "duration": 3861,
    "start_time": "2023-07-03T13:14:15.551Z"
   },
   {
    "duration": 74206,
    "start_time": "2023-07-03T13:14:19.414Z"
   },
   {
    "duration": 11,
    "start_time": "2023-07-03T13:15:33.623Z"
   },
   {
    "duration": 3176,
    "start_time": "2023-07-03T13:23:12.050Z"
   },
   {
    "duration": 75420,
    "start_time": "2023-07-03T13:23:15.228Z"
   },
   {
    "duration": 11,
    "start_time": "2023-07-03T13:24:30.650Z"
   },
   {
    "duration": 121,
    "start_time": "2023-07-03T13:31:50.959Z"
   },
   {
    "duration": 35,
    "start_time": "2023-07-03T13:31:56.189Z"
   },
   {
    "duration": 4,
    "start_time": "2023-07-03T13:33:19.741Z"
   },
   {
    "duration": 4,
    "start_time": "2023-07-03T13:34:54.658Z"
   },
   {
    "duration": 9,
    "start_time": "2023-07-03T13:34:55.665Z"
   },
   {
    "duration": 4,
    "start_time": "2023-07-03T13:35:07.803Z"
   },
   {
    "duration": 10,
    "start_time": "2023-07-03T13:36:13.895Z"
   },
   {
    "duration": 404,
    "start_time": "2023-07-03T13:36:25.941Z"
   },
   {
    "duration": 12,
    "start_time": "2023-07-03T13:37:36.910Z"
   },
   {
    "duration": 392,
    "start_time": "2023-07-03T13:39:35.313Z"
   },
   {
    "duration": 9,
    "start_time": "2023-07-03T13:39:55.186Z"
   },
   {
    "duration": 8,
    "start_time": "2023-07-03T13:40:13.777Z"
   },
   {
    "duration": 3,
    "start_time": "2023-07-03T13:40:27.299Z"
   },
   {
    "duration": 2,
    "start_time": "2023-07-03T13:40:33.901Z"
   },
   {
    "duration": 3,
    "start_time": "2023-07-03T13:40:57.400Z"
   },
   {
    "duration": 6,
    "start_time": "2023-07-03T13:41:09.208Z"
   },
   {
    "duration": 797,
    "start_time": "2023-07-03T13:41:09.789Z"
   },
   {
    "duration": 28,
    "start_time": "2023-07-03T13:41:10.588Z"
   },
   {
    "duration": 7,
    "start_time": "2023-07-03T13:41:10.705Z"
   },
   {
    "duration": 279,
    "start_time": "2023-07-03T13:41:12.547Z"
   },
   {
    "duration": 14,
    "start_time": "2023-07-03T13:41:14.705Z"
   },
   {
    "duration": 4015,
    "start_time": "2023-07-03T13:41:15.195Z"
   },
   {
    "duration": 129865,
    "start_time": "2023-07-03T13:41:19.212Z"
   },
   {
    "duration": 11,
    "start_time": "2023-07-03T13:43:29.078Z"
   },
   {
    "duration": 49,
    "start_time": "2023-07-03T13:43:29.091Z"
   },
   {
    "duration": 438,
    "start_time": "2023-07-03T13:43:29.142Z"
   },
   {
    "duration": 417,
    "start_time": "2023-07-03T13:43:29.581Z"
   },
   {
    "duration": 10,
    "start_time": "2023-07-03T13:43:30.000Z"
   },
   {
    "duration": 2,
    "start_time": "2023-07-03T13:47:51.634Z"
   },
   {
    "duration": 8,
    "start_time": "2023-07-03T13:48:03.790Z"
   },
   {
    "duration": 9,
    "start_time": "2023-07-03T13:48:13.788Z"
   },
   {
    "duration": 911,
    "start_time": "2023-07-03T13:48:14.742Z"
   },
   {
    "duration": 21,
    "start_time": "2023-07-03T13:48:15.655Z"
   },
   {
    "duration": 17,
    "start_time": "2023-07-03T13:48:16.888Z"
   },
   {
    "duration": 296,
    "start_time": "2023-07-03T13:48:17.644Z"
   },
   {
    "duration": 7,
    "start_time": "2023-07-03T13:48:20.218Z"
   },
   {
    "duration": 3739,
    "start_time": "2023-07-03T13:48:21.246Z"
   },
   {
    "duration": 123246,
    "start_time": "2023-07-03T13:48:24.987Z"
   },
   {
    "duration": 10,
    "start_time": "2023-07-03T13:50:28.234Z"
   },
   {
    "duration": 31,
    "start_time": "2023-07-03T13:50:28.246Z"
   },
   {
    "duration": 53,
    "start_time": "2023-07-03T13:50:28.279Z"
   },
   {
    "duration": 421,
    "start_time": "2023-07-03T13:50:28.333Z"
   },
   {
    "duration": 43,
    "start_time": "2023-07-03T13:50:28.756Z"
   },
   {
    "duration": 44,
    "start_time": "2023-07-03T13:53:58.113Z"
   },
   {
    "duration": 393,
    "start_time": "2023-07-03T13:54:00.331Z"
   },
   {
    "duration": 41,
    "start_time": "2023-07-03T13:54:01.275Z"
   },
   {
    "duration": 18,
    "start_time": "2023-07-03T13:56:27.345Z"
   },
   {
    "duration": 19,
    "start_time": "2023-07-03T13:56:43.174Z"
   },
   {
    "duration": 16,
    "start_time": "2023-07-03T13:56:48.153Z"
   },
   {
    "duration": 6,
    "start_time": "2023-07-03T13:57:51.422Z"
   },
   {
    "duration": 4,
    "start_time": "2023-07-03T14:07:49.554Z"
   },
   {
    "duration": 2624,
    "start_time": "2023-07-03T14:07:51.430Z"
   },
   {
    "duration": 219,
    "start_time": "2023-07-03T14:07:58.127Z"
   },
   {
    "duration": 780,
    "start_time": "2023-07-03T14:07:58.609Z"
   },
   {
    "duration": 25,
    "start_time": "2023-07-03T14:08:01.577Z"
   },
   {
    "duration": 6,
    "start_time": "2023-07-03T14:08:02.949Z"
   },
   {
    "duration": 224,
    "start_time": "2023-07-03T14:08:03.562Z"
   },
   {
    "duration": 4,
    "start_time": "2023-07-03T14:08:05.048Z"
   },
   {
    "duration": 3874,
    "start_time": "2023-07-03T14:08:06.816Z"
   },
   {
    "duration": 787,
    "start_time": "2023-07-03T14:08:10.692Z"
   },
   {
    "duration": 0,
    "start_time": "2023-07-03T14:08:11.481Z"
   },
   {
    "duration": 5,
    "start_time": "2023-07-03T14:08:41.481Z"
   },
   {
    "duration": 3567,
    "start_time": "2023-07-03T14:08:41.900Z"
   },
   {
    "duration": 66998,
    "start_time": "2023-07-03T14:08:45.469Z"
   },
   {
    "duration": 9,
    "start_time": "2023-07-03T14:09:56.533Z"
   },
   {
    "duration": 766,
    "start_time": "2023-07-03T14:09:57.018Z"
   },
   {
    "duration": 26,
    "start_time": "2023-07-03T14:09:57.786Z"
   },
   {
    "duration": 7,
    "start_time": "2023-07-03T14:09:57.825Z"
   },
   {
    "duration": 229,
    "start_time": "2023-07-03T14:09:59.403Z"
   },
   {
    "duration": 4,
    "start_time": "2023-07-03T14:10:01.471Z"
   },
   {
    "duration": 3946,
    "start_time": "2023-07-03T14:10:02.338Z"
   },
   {
    "duration": 440,
    "start_time": "2023-07-03T14:10:06.285Z"
   },
   {
    "duration": 0,
    "start_time": "2023-07-03T14:10:06.727Z"
   },
   {
    "duration": 4,
    "start_time": "2023-07-03T14:10:33.752Z"
   },
   {
    "duration": 3723,
    "start_time": "2023-07-03T14:10:34.227Z"
   },
   {
    "duration": 1284771,
    "start_time": "2023-07-03T14:10:37.951Z"
   },
   {
    "duration": 0,
    "start_time": "2023-07-03T14:32:02.723Z"
   },
   {
    "duration": 8,
    "start_time": "2023-07-03T14:32:06.427Z"
   },
   {
    "duration": 2329,
    "start_time": "2023-07-03T14:32:06.438Z"
   },
   {
    "duration": 27,
    "start_time": "2023-07-03T14:32:08.769Z"
   },
   {
    "duration": 21,
    "start_time": "2023-07-03T14:32:08.797Z"
   },
   {
    "duration": 246,
    "start_time": "2023-07-03T14:32:08.820Z"
   },
   {
    "duration": 5,
    "start_time": "2023-07-03T14:32:09.067Z"
   },
   {
    "duration": 3846,
    "start_time": "2023-07-03T14:32:09.073Z"
   },
   {
    "duration": 2870139,
    "start_time": "2023-07-03T14:32:12.921Z"
   },
   {
    "duration": 18,
    "start_time": "2023-07-03T15:20:03.062Z"
   },
   {
    "duration": 68,
    "start_time": "2023-07-03T15:20:03.082Z"
   },
   {
    "duration": 36,
    "start_time": "2023-07-03T15:20:03.152Z"
   },
   {
    "duration": 1993,
    "start_time": "2023-07-03T15:20:03.190Z"
   },
   {
    "duration": 0,
    "start_time": "2023-07-03T15:20:05.184Z"
   },
   {
    "duration": 0,
    "start_time": "2023-07-03T15:20:05.186Z"
   },
   {
    "duration": 0,
    "start_time": "2023-07-03T15:20:05.187Z"
   },
   {
    "duration": 0,
    "start_time": "2023-07-03T15:20:05.188Z"
   },
   {
    "duration": 0,
    "start_time": "2023-07-03T15:20:05.189Z"
   },
   {
    "duration": 623,
    "start_time": "2023-07-03T15:25:54.187Z"
   },
   {
    "duration": 2461,
    "start_time": "2023-07-03T15:25:54.812Z"
   },
   {
    "duration": 24,
    "start_time": "2023-07-03T15:25:57.275Z"
   },
   {
    "duration": 28,
    "start_time": "2023-07-03T15:25:57.300Z"
   },
   {
    "duration": 238,
    "start_time": "2023-07-03T15:25:57.330Z"
   },
   {
    "duration": 4,
    "start_time": "2023-07-03T15:29:29.156Z"
   },
   {
    "duration": 3432,
    "start_time": "2023-07-03T15:29:31.167Z"
   },
   {
    "duration": 116544,
    "start_time": "2023-07-03T15:29:34.601Z"
   },
   {
    "duration": 11,
    "start_time": "2023-07-03T15:31:31.147Z"
   },
   {
    "duration": 68,
    "start_time": "2023-07-03T15:31:31.159Z"
   },
   {
    "duration": 34,
    "start_time": "2023-07-03T15:31:31.229Z"
   },
   {
    "duration": 428,
    "start_time": "2023-07-03T15:31:31.264Z"
   },
   {
    "duration": 39,
    "start_time": "2023-07-03T15:32:17.448Z"
   },
   {
    "duration": 395,
    "start_time": "2023-07-03T15:32:19.675Z"
   },
   {
    "duration": 40,
    "start_time": "2023-07-03T15:32:22.373Z"
   },
   {
    "duration": 6,
    "start_time": "2023-07-03T15:32:24.870Z"
   },
   {
    "duration": 9,
    "start_time": "2023-07-03T15:32:50.536Z"
   },
   {
    "duration": 9,
    "start_time": "2023-07-03T15:33:32.667Z"
   },
   {
    "duration": 11,
    "start_time": "2023-07-03T15:33:43.201Z"
   },
   {
    "duration": 4,
    "start_time": "2023-07-03T15:34:19.173Z"
   },
   {
    "duration": 5,
    "start_time": "2023-07-03T15:34:37.784Z"
   },
   {
    "duration": 85326,
    "start_time": "2023-07-03T15:34:43.054Z"
   },
   {
    "duration": 20,
    "start_time": "2023-07-03T15:36:08.382Z"
   },
   {
    "duration": 44308,
    "start_time": "2023-07-03T15:55:41.740Z"
   },
   {
    "duration": 16,
    "start_time": "2023-07-03T15:56:26.051Z"
   },
   {
    "duration": 696,
    "start_time": "2023-07-03T16:40:02.349Z"
   },
   {
    "duration": 2690,
    "start_time": "2023-07-03T16:40:03.731Z"
   },
   {
    "duration": 32,
    "start_time": "2023-07-03T16:40:06.423Z"
   },
   {
    "duration": 10,
    "start_time": "2023-07-03T16:40:06.457Z"
   },
   {
    "duration": 252,
    "start_time": "2023-07-03T16:40:10.374Z"
   },
   {
    "duration": 6,
    "start_time": "2023-07-03T16:40:40.043Z"
   },
   {
    "duration": 3799,
    "start_time": "2023-07-03T16:40:45.117Z"
   },
   {
    "duration": 10,
    "start_time": "2023-07-03T16:40:48.917Z"
   },
   {
    "duration": 4,
    "start_time": "2023-07-03T16:41:12.415Z"
   },
   {
    "duration": 6,
    "start_time": "2023-07-03T16:41:13.111Z"
   },
   {
    "duration": 19,
    "start_time": "2023-07-03T16:41:21.415Z"
   },
   {
    "duration": 31,
    "start_time": "2023-07-03T16:41:22.508Z"
   },
   {
    "duration": 220,
    "start_time": "2023-07-03T16:41:26.370Z"
   },
   {
    "duration": 24,
    "start_time": "2023-07-03T16:41:27.240Z"
   },
   {
    "duration": 208,
    "start_time": "2023-07-03T16:41:28.785Z"
   },
   {
    "duration": 25,
    "start_time": "2023-07-03T16:41:30.120Z"
   },
   {
    "duration": 7,
    "start_time": "2023-07-03T16:41:43.059Z"
   },
   {
    "duration": 8,
    "start_time": "2023-07-03T16:41:47.817Z"
   },
   {
    "duration": 1809825,
    "start_time": "2023-07-03T16:41:55.126Z"
   },
   {
    "duration": 11,
    "start_time": "2023-07-03T17:12:04.953Z"
   },
   {
    "duration": 2398,
    "start_time": "2023-07-04T07:33:29.371Z"
   },
   {
    "duration": 3945,
    "start_time": "2023-07-04T07:33:31.772Z"
   },
   {
    "duration": 34,
    "start_time": "2023-07-04T07:33:35.719Z"
   },
   {
    "duration": 94,
    "start_time": "2023-07-04T07:33:35.755Z"
   },
   {
    "duration": 237,
    "start_time": "2023-07-04T07:33:42.266Z"
   },
   {
    "duration": 4,
    "start_time": "2023-07-04T07:33:45.709Z"
   },
   {
    "duration": 7,
    "start_time": "2023-07-04T07:33:46.781Z"
   },
   {
    "duration": 5247,
    "start_time": "2023-07-04T07:33:57.434Z"
   },
   {
    "duration": 17,
    "start_time": "2023-07-04T07:34:07.176Z"
   },
   {
    "duration": 30,
    "start_time": "2023-07-04T07:34:34.595Z"
   },
   {
    "duration": 32,
    "start_time": "2023-07-04T07:34:35.984Z"
   },
   {
    "duration": 208,
    "start_time": "2023-07-04T07:34:42.058Z"
   },
   {
    "duration": 39,
    "start_time": "2023-07-04T07:34:45.114Z"
   },
   {
    "duration": 213,
    "start_time": "2023-07-04T07:34:50.822Z"
   },
   {
    "duration": 32,
    "start_time": "2023-07-04T07:34:55.213Z"
   },
   {
    "duration": 11,
    "start_time": "2023-07-04T07:34:58.962Z"
   },
   {
    "duration": 9,
    "start_time": "2023-07-04T07:35:02.117Z"
   },
   {
    "duration": 143,
    "start_time": "2023-07-04T07:35:08.093Z"
   },
   {
    "duration": 4,
    "start_time": "2023-07-04T07:35:23.473Z"
   },
   {
    "duration": 2234305,
    "start_time": "2023-07-04T07:35:27.490Z"
   },
   {
    "duration": 12,
    "start_time": "2023-07-04T08:12:41.797Z"
   },
   {
    "duration": 3,
    "start_time": "2023-07-04T08:20:19.031Z"
   },
   {
    "duration": 15,
    "start_time": "2023-07-04T08:21:00.650Z"
   },
   {
    "duration": 21,
    "start_time": "2023-07-04T08:21:08.925Z"
   },
   {
    "duration": 5238,
    "start_time": "2023-07-04T08:21:53.635Z"
   },
   {
    "duration": 1178,
    "start_time": "2023-07-04T08:22:15.367Z"
   },
   {
    "duration": 493555,
    "start_time": "2023-07-04T08:23:42.134Z"
   },
   {
    "duration": 52217,
    "start_time": "2023-07-04T08:32:59.257Z"
   },
   {
    "duration": 121,
    "start_time": "2023-07-04T08:53:38.670Z"
   },
   {
    "duration": 2531,
    "start_time": "2023-07-04T08:54:21.736Z"
   },
   {
    "duration": 3811,
    "start_time": "2023-07-04T08:54:24.270Z"
   },
   {
    "duration": 33,
    "start_time": "2023-07-04T08:54:28.084Z"
   },
   {
    "duration": 51,
    "start_time": "2023-07-04T08:54:28.119Z"
   },
   {
    "duration": 274,
    "start_time": "2023-07-04T08:54:28.173Z"
   },
   {
    "duration": 5,
    "start_time": "2023-07-04T08:54:28.453Z"
   },
   {
    "duration": 36,
    "start_time": "2023-07-04T08:54:28.460Z"
   },
   {
    "duration": 4272,
    "start_time": "2023-07-04T08:54:28.498Z"
   },
   {
    "duration": 4,
    "start_time": "2023-07-04T08:54:32.771Z"
   },
   {
    "duration": 19,
    "start_time": "2023-07-04T08:54:32.777Z"
   },
   {
    "duration": 59,
    "start_time": "2023-07-04T08:54:32.799Z"
   },
   {
    "duration": 39,
    "start_time": "2023-07-04T08:54:32.861Z"
   },
   {
    "duration": 218,
    "start_time": "2023-07-04T08:54:32.902Z"
   },
   {
    "duration": 46,
    "start_time": "2023-07-04T08:54:33.123Z"
   },
   {
    "duration": 226,
    "start_time": "2023-07-04T08:54:33.173Z"
   },
   {
    "duration": 33,
    "start_time": "2023-07-04T08:54:33.401Z"
   },
   {
    "duration": 25,
    "start_time": "2023-07-04T08:54:33.436Z"
   },
   {
    "duration": 35,
    "start_time": "2023-07-04T08:54:33.463Z"
   },
   {
    "duration": 2722226,
    "start_time": "2023-07-04T08:54:33.501Z"
   },
   {
    "duration": 12,
    "start_time": "2023-07-04T09:39:55.730Z"
   },
   {
    "duration": 7,
    "start_time": "2023-07-04T09:39:55.764Z"
   },
   {
    "duration": 47,
    "start_time": "2023-07-04T09:39:55.773Z"
   },
   {
    "duration": 5929,
    "start_time": "2023-07-04T09:39:55.822Z"
   },
   {
    "duration": 1245,
    "start_time": "2023-07-04T09:40:01.754Z"
   },
   {
    "duration": 528063,
    "start_time": "2023-07-04T09:40:03.001Z"
   },
   {
    "duration": 59238,
    "start_time": "2023-07-04T09:48:51.066Z"
   },
   {
    "duration": 147,
    "start_time": "2023-07-04T09:54:03.909Z"
   },
   {
    "duration": 72,
    "start_time": "2023-07-04T09:54:10.303Z"
   },
   {
    "duration": 2843,
    "start_time": "2023-07-04T09:54:21.622Z"
   },
   {
    "duration": 221,
    "start_time": "2023-07-04T09:54:33.363Z"
   },
   {
    "duration": 17,
    "start_time": "2023-07-04T09:54:55.241Z"
   },
   {
    "duration": 15,
    "start_time": "2023-07-04T09:54:58.364Z"
   },
   {
    "duration": 14,
    "start_time": "2023-07-04T09:54:59.803Z"
   },
   {
    "duration": 8,
    "start_time": "2023-07-04T09:55:04.029Z"
   },
   {
    "duration": 4558,
    "start_time": "2023-07-04T09:55:04.039Z"
   },
   {
    "duration": 41,
    "start_time": "2023-07-04T09:55:08.600Z"
   },
   {
    "duration": 7,
    "start_time": "2023-07-04T09:55:08.644Z"
   },
   {
    "duration": 319,
    "start_time": "2023-07-04T09:55:08.654Z"
   },
   {
    "duration": 6,
    "start_time": "2023-07-04T09:55:08.977Z"
   },
   {
    "duration": 12,
    "start_time": "2023-07-04T09:55:08.986Z"
   },
   {
    "duration": 5063,
    "start_time": "2023-07-04T09:55:09.000Z"
   },
   {
    "duration": 5,
    "start_time": "2023-07-04T09:55:14.066Z"
   },
   {
    "duration": 17,
    "start_time": "2023-07-04T09:55:14.074Z"
   },
   {
    "duration": 40,
    "start_time": "2023-07-04T09:55:14.093Z"
   },
   {
    "duration": 48,
    "start_time": "2023-07-04T09:55:14.135Z"
   },
   {
    "duration": 244,
    "start_time": "2023-07-04T09:55:14.185Z"
   },
   {
    "duration": 50,
    "start_time": "2023-07-04T09:55:14.431Z"
   },
   {
    "duration": 289,
    "start_time": "2023-07-04T09:55:14.483Z"
   },
   {
    "duration": 38,
    "start_time": "2023-07-04T09:55:14.774Z"
   },
   {
    "duration": 18,
    "start_time": "2023-07-04T09:55:14.815Z"
   },
   {
    "duration": 37,
    "start_time": "2023-07-04T09:55:14.835Z"
   },
   {
    "duration": 2690873,
    "start_time": "2023-07-04T09:55:14.875Z"
   },
   {
    "duration": 24,
    "start_time": "2023-07-04T10:40:05.750Z"
   },
   {
    "duration": 13,
    "start_time": "2023-07-04T10:40:05.780Z"
   },
   {
    "duration": 31,
    "start_time": "2023-07-04T10:40:05.795Z"
   },
   {
    "duration": 6711,
    "start_time": "2023-07-04T10:40:05.828Z"
   },
   {
    "duration": 1412,
    "start_time": "2023-07-04T10:40:12.542Z"
   },
   {
    "duration": 226100,
    "start_time": "2023-07-04T10:40:13.966Z"
   },
   {
    "duration": 58133,
    "start_time": "2023-07-04T10:44:00.068Z"
   },
   {
    "duration": 2207,
    "start_time": "2023-07-04T11:27:58.284Z"
   },
   {
    "duration": 4601,
    "start_time": "2023-07-04T11:28:00.493Z"
   },
   {
    "duration": 37,
    "start_time": "2023-07-04T11:28:05.095Z"
   },
   {
    "duration": 53,
    "start_time": "2023-07-04T11:28:05.134Z"
   },
   {
    "duration": 292,
    "start_time": "2023-07-04T11:28:05.190Z"
   },
   {
    "duration": 6,
    "start_time": "2023-07-04T11:28:05.491Z"
   },
   {
    "duration": 39,
    "start_time": "2023-07-04T11:28:05.499Z"
   },
   {
    "duration": 5572,
    "start_time": "2023-07-04T11:28:05.540Z"
   },
   {
    "duration": 5,
    "start_time": "2023-07-04T11:28:11.114Z"
   },
   {
    "duration": 31,
    "start_time": "2023-07-04T11:28:11.121Z"
   },
   {
    "duration": 53,
    "start_time": "2023-07-04T11:28:11.153Z"
   },
   {
    "duration": 37,
    "start_time": "2023-07-04T11:28:11.208Z"
   },
   {
    "duration": 246,
    "start_time": "2023-07-04T11:28:11.247Z"
   },
   {
    "duration": 32,
    "start_time": "2023-07-04T11:28:11.498Z"
   },
   {
    "duration": 267,
    "start_time": "2023-07-04T11:28:11.532Z"
   },
   {
    "duration": 32,
    "start_time": "2023-07-04T11:28:11.802Z"
   },
   {
    "duration": 22,
    "start_time": "2023-07-04T11:28:11.836Z"
   },
   {
    "duration": 26,
    "start_time": "2023-07-04T11:28:11.860Z"
   },
   {
    "duration": 2748825,
    "start_time": "2023-07-04T11:28:11.892Z"
   },
   {
    "duration": 13,
    "start_time": "2023-07-04T12:14:00.720Z"
   },
   {
    "duration": 54,
    "start_time": "2023-07-04T12:14:00.736Z"
   },
   {
    "duration": 94,
    "start_time": "2023-07-04T12:14:00.793Z"
   },
   {
    "duration": 5972,
    "start_time": "2023-07-04T12:14:00.889Z"
   },
   {
    "duration": 1408,
    "start_time": "2023-07-04T12:14:06.863Z"
   },
   {
    "duration": 233094,
    "start_time": "2023-07-04T12:14:08.279Z"
   },
   {
    "duration": 59936,
    "start_time": "2023-07-04T12:18:01.393Z"
   },
   {
    "duration": 2409,
    "start_time": "2023-07-04T13:31:33.625Z"
   },
   {
    "duration": 4879,
    "start_time": "2023-07-04T13:31:36.036Z"
   },
   {
    "duration": 31,
    "start_time": "2023-07-04T13:31:40.917Z"
   },
   {
    "duration": 10,
    "start_time": "2023-07-04T13:31:40.950Z"
   },
   {
    "duration": 285,
    "start_time": "2023-07-04T13:31:40.962Z"
   },
   {
    "duration": 15,
    "start_time": "2023-07-04T13:31:41.248Z"
   },
   {
    "duration": 34,
    "start_time": "2023-07-04T13:31:41.265Z"
   },
   {
    "duration": 5313,
    "start_time": "2023-07-04T13:31:41.302Z"
   },
   {
    "duration": 2,
    "start_time": "2023-07-04T13:31:46.618Z"
   },
   {
    "duration": 14,
    "start_time": "2023-07-04T13:31:46.622Z"
   },
   {
    "duration": 59,
    "start_time": "2023-07-04T13:31:46.638Z"
   },
   {
    "duration": 32,
    "start_time": "2023-07-04T13:31:46.699Z"
   },
   {
    "duration": 242,
    "start_time": "2023-07-04T13:31:46.733Z"
   },
   {
    "duration": 40,
    "start_time": "2023-07-04T13:31:46.979Z"
   },
   {
    "duration": 230,
    "start_time": "2023-07-04T13:31:47.020Z"
   },
   {
    "duration": 52,
    "start_time": "2023-07-04T13:31:47.252Z"
   },
   {
    "duration": 8,
    "start_time": "2023-07-04T13:31:47.306Z"
   },
   {
    "duration": 15,
    "start_time": "2023-07-04T13:31:47.315Z"
   },
   {
    "duration": 2526566,
    "start_time": "2023-07-04T13:31:47.331Z"
   },
   {
    "duration": 13,
    "start_time": "2023-07-04T14:13:53.898Z"
   },
   {
    "duration": 12,
    "start_time": "2023-07-04T14:13:53.913Z"
   },
   {
    "duration": 50,
    "start_time": "2023-07-04T14:13:53.927Z"
   },
   {
    "duration": 5431,
    "start_time": "2023-07-04T14:13:53.980Z"
   },
   {
    "duration": 2151,
    "start_time": "2023-07-04T16:50:06.139Z"
   },
   {
    "duration": 4389,
    "start_time": "2023-07-04T16:50:08.292Z"
   },
   {
    "duration": 35,
    "start_time": "2023-07-04T16:50:12.686Z"
   },
   {
    "duration": 7,
    "start_time": "2023-07-04T16:50:12.724Z"
   },
   {
    "duration": 278,
    "start_time": "2023-07-04T16:50:12.733Z"
   },
   {
    "duration": 5,
    "start_time": "2023-07-04T16:50:13.013Z"
   },
   {
    "duration": 31,
    "start_time": "2023-07-04T16:50:13.020Z"
   },
   {
    "duration": 4838,
    "start_time": "2023-07-04T16:50:13.052Z"
   },
   {
    "duration": 3,
    "start_time": "2023-07-04T16:50:17.891Z"
   },
   {
    "duration": 14,
    "start_time": "2023-07-04T16:50:17.897Z"
   },
   {
    "duration": 61,
    "start_time": "2023-07-04T16:50:17.913Z"
   },
   {
    "duration": 34,
    "start_time": "2023-07-04T16:50:17.979Z"
   },
   {
    "duration": 225,
    "start_time": "2023-07-04T16:50:18.015Z"
   },
   {
    "duration": 44,
    "start_time": "2023-07-04T16:50:18.242Z"
   },
   {
    "duration": 240,
    "start_time": "2023-07-04T16:50:18.288Z"
   },
   {
    "duration": 40,
    "start_time": "2023-07-04T16:50:18.530Z"
   },
   {
    "duration": 13,
    "start_time": "2023-07-04T16:50:18.575Z"
   },
   {
    "duration": 10,
    "start_time": "2023-07-04T16:50:18.590Z"
   },
   {
    "duration": 2294423,
    "start_time": "2023-07-04T16:50:18.602Z"
   },
   {
    "duration": 12,
    "start_time": "2023-07-04T17:28:33.027Z"
   },
   {
    "duration": 29,
    "start_time": "2023-07-04T17:28:33.040Z"
   },
   {
    "duration": 24,
    "start_time": "2023-07-04T17:28:33.079Z"
   },
   {
    "duration": 5007,
    "start_time": "2023-07-04T17:28:33.104Z"
   },
   {
    "duration": 1142,
    "start_time": "2023-07-04T17:28:38.113Z"
   },
   {
    "duration": 215805,
    "start_time": "2023-07-04T17:28:39.259Z"
   },
   {
    "duration": 54823,
    "start_time": "2023-07-04T17:32:15.068Z"
   },
   {
    "duration": 956959,
    "start_time": "2023-07-04T17:33:09.893Z"
   },
   {
    "duration": 11203937,
    "start_time": "2023-07-04T17:49:06.856Z"
   },
   {
    "duration": 2104,
    "start_time": "2023-07-05T03:58:02.826Z"
   },
   {
    "duration": 2496,
    "start_time": "2023-07-05T03:58:04.935Z"
   },
   {
    "duration": 34,
    "start_time": "2023-07-05T03:58:07.432Z"
   },
   {
    "duration": 27,
    "start_time": "2023-07-05T03:58:07.468Z"
   },
   {
    "duration": 16,
    "start_time": "2023-07-05T03:58:07.497Z"
   },
   {
    "duration": 3935,
    "start_time": "2023-07-05T03:58:07.515Z"
   },
   {
    "duration": 12,
    "start_time": "2023-07-05T03:58:11.452Z"
   },
   {
    "duration": 39,
    "start_time": "2023-07-05T03:58:11.466Z"
   },
   {
    "duration": 198,
    "start_time": "2023-07-05T03:58:11.507Z"
   },
   {
    "duration": 211,
    "start_time": "2023-07-05T03:58:11.707Z"
   },
   {
    "duration": 34,
    "start_time": "2023-07-05T03:58:11.919Z"
   },
   {
    "duration": 26,
    "start_time": "2023-07-05T03:58:11.955Z"
   },
   {
    "duration": 1119515,
    "start_time": "2023-07-05T03:58:11.983Z"
   },
   {
    "duration": 0,
    "start_time": "2023-07-05T04:16:51.499Z"
   },
   {
    "duration": 0,
    "start_time": "2023-07-05T04:16:51.501Z"
   },
   {
    "duration": 0,
    "start_time": "2023-07-05T04:16:51.502Z"
   },
   {
    "duration": 0,
    "start_time": "2023-07-05T04:16:51.503Z"
   },
   {
    "duration": 0,
    "start_time": "2023-07-05T04:16:51.504Z"
   },
   {
    "duration": 0,
    "start_time": "2023-07-05T04:16:51.505Z"
   },
   {
    "duration": 0,
    "start_time": "2023-07-05T04:16:51.506Z"
   },
   {
    "duration": 0,
    "start_time": "2023-07-05T04:16:51.507Z"
   },
   {
    "duration": 0,
    "start_time": "2023-07-05T04:16:51.508Z"
   },
   {
    "duration": 1466,
    "start_time": "2023-07-05T04:17:37.161Z"
   },
   {
    "duration": 2001,
    "start_time": "2023-07-05T04:18:03.261Z"
   },
   {
    "duration": 11,
    "start_time": "2023-07-05T04:18:10.388Z"
   },
   {
    "duration": 887,
    "start_time": "2023-07-05T04:18:11.290Z"
   },
   {
    "duration": 29,
    "start_time": "2023-07-05T04:18:13.395Z"
   },
   {
    "duration": 9,
    "start_time": "2023-07-05T04:18:14.843Z"
   },
   {
    "duration": 319,
    "start_time": "2023-07-05T04:18:16.695Z"
   },
   {
    "duration": 289,
    "start_time": "2023-07-05T04:19:16.449Z"
   },
   {
    "duration": 305,
    "start_time": "2023-07-05T04:19:22.764Z"
   },
   {
    "duration": 18,
    "start_time": "2023-07-05T04:21:49.663Z"
   },
   {
    "duration": 3,
    "start_time": "2023-07-05T04:23:02.292Z"
   },
   {
    "duration": 4405,
    "start_time": "2023-07-05T04:24:14.591Z"
   },
   {
    "duration": 3657,
    "start_time": "2023-07-05T04:24:52.346Z"
   },
   {
    "duration": 5,
    "start_time": "2023-07-05T04:26:02.859Z"
   },
   {
    "duration": 10,
    "start_time": "2023-07-05T04:26:45.610Z"
   },
   {
    "duration": 1774,
    "start_time": "2023-07-05T04:26:59.903Z"
   },
   {
    "duration": 8,
    "start_time": "2023-07-05T04:27:04.898Z"
   },
   {
    "duration": 6,
    "start_time": "2023-07-05T04:27:11.902Z"
   },
   {
    "duration": 44619,
    "start_time": "2023-07-05T04:32:04.730Z"
   },
   {
    "duration": 16,
    "start_time": "2023-07-05T04:32:49.354Z"
   },
   {
    "duration": 9,
    "start_time": "2023-07-05T04:37:16.067Z"
   },
   {
    "duration": 39676,
    "start_time": "2023-07-05T04:39:21.461Z"
   },
   {
    "duration": 19098,
    "start_time": "2023-07-05T04:41:01.547Z"
   },
   {
    "duration": 12,
    "start_time": "2023-07-05T04:41:20.656Z"
   },
   {
    "duration": 11,
    "start_time": "2023-07-05T04:48:44.776Z"
   },
   {
    "duration": 3,
    "start_time": "2023-07-05T04:53:06.860Z"
   },
   {
    "duration": 26,
    "start_time": "2023-07-05T04:53:12.391Z"
   },
   {
    "duration": 14,
    "start_time": "2023-07-05T04:55:51.644Z"
   },
   {
    "duration": 28,
    "start_time": "2023-07-05T04:58:18.128Z"
   },
   {
    "duration": 15,
    "start_time": "2023-07-05T04:58:21.320Z"
   },
   {
    "duration": 5,
    "start_time": "2023-07-05T04:59:20.748Z"
   },
   {
    "duration": 17,
    "start_time": "2023-07-05T04:59:51.932Z"
   },
   {
    "duration": 4,
    "start_time": "2023-07-05T04:59:58.084Z"
   },
   {
    "duration": 42,
    "start_time": "2023-07-05T05:00:27.263Z"
   },
   {
    "duration": 7,
    "start_time": "2023-07-05T05:00:29.391Z"
   },
   {
    "duration": 16,
    "start_time": "2023-07-05T05:00:37.259Z"
   },
   {
    "duration": 37,
    "start_time": "2023-07-05T05:02:41.024Z"
   },
   {
    "duration": 4969,
    "start_time": "2023-07-05T05:03:16.992Z"
   },
   {
    "duration": 4707,
    "start_time": "2023-07-05T05:06:01.427Z"
   },
   {
    "duration": 430,
    "start_time": "2023-07-05T05:06:10.557Z"
   },
   {
    "duration": 17,
    "start_time": "2023-07-05T05:08:54.615Z"
   },
   {
    "duration": 8,
    "start_time": "2023-07-05T05:09:15.045Z"
   },
   {
    "duration": 5,
    "start_time": "2023-07-05T05:09:23.026Z"
   },
   {
    "duration": 5,
    "start_time": "2023-07-05T05:09:46.712Z"
   },
   {
    "duration": 26,
    "start_time": "2023-07-05T05:10:11.068Z"
   },
   {
    "duration": 5,
    "start_time": "2023-07-05T05:10:13.770Z"
   },
   {
    "duration": 7,
    "start_time": "2023-07-05T05:10:20.820Z"
   },
   {
    "duration": 5752,
    "start_time": "2023-07-05T05:10:39.233Z"
   },
   {
    "duration": 5,
    "start_time": "2023-07-05T05:25:42.718Z"
   },
   {
    "duration": 523372,
    "start_time": "2023-07-05T05:30:34.569Z"
   },
   {
    "duration": 182230,
    "start_time": "2023-07-05T05:39:17.944Z"
   },
   {
    "duration": 1471,
    "start_time": "2023-07-05T05:44:45.164Z"
   },
   {
    "duration": 3,
    "start_time": "2023-07-05T05:44:46.645Z"
   },
   {
    "duration": 950,
    "start_time": "2023-07-05T05:44:46.649Z"
   },
   {
    "duration": 45,
    "start_time": "2023-07-05T05:44:47.600Z"
   },
   {
    "duration": 8,
    "start_time": "2023-07-05T05:44:47.649Z"
   },
   {
    "duration": 327,
    "start_time": "2023-07-05T05:44:47.658Z"
   },
   {
    "duration": 4200,
    "start_time": "2023-07-05T05:44:47.987Z"
   },
   {
    "duration": 1607,
    "start_time": "2023-07-05T05:44:52.189Z"
   },
   {
    "duration": 8,
    "start_time": "2023-07-05T05:44:53.798Z"
   },
   {
    "duration": 35329,
    "start_time": "2023-07-05T05:44:53.808Z"
   },
   {
    "duration": 11,
    "start_time": "2023-07-05T05:45:29.140Z"
   },
   {
    "duration": 18760,
    "start_time": "2023-07-05T05:45:29.153Z"
   },
   {
    "duration": 17,
    "start_time": "2023-07-05T05:45:47.915Z"
   },
   {
    "duration": 40,
    "start_time": "2023-07-05T05:45:47.934Z"
   },
   {
    "duration": 5139,
    "start_time": "2023-07-05T05:45:47.975Z"
   },
   {
    "duration": 0,
    "start_time": "2023-07-05T05:52:34.365Z"
   },
   {
    "duration": 0,
    "start_time": "2023-07-05T05:52:34.366Z"
   },
   {
    "duration": 173526,
    "start_time": "2023-07-05T05:52:36.782Z"
   },
   {
    "duration": 0,
    "start_time": "2023-07-05T05:55:30.309Z"
   },
   {
    "duration": 18,
    "start_time": "2023-07-05T05:55:44.730Z"
   },
   {
    "duration": 76684,
    "start_time": "2023-07-05T05:56:00.293Z"
   },
   {
    "duration": 428047,
    "start_time": "2023-07-05T05:57:48.498Z"
   },
   {
    "duration": 2132982,
    "start_time": "2023-07-05T06:04:56.547Z"
   },
   {
    "duration": 16,
    "start_time": "2023-07-05T06:40:29.533Z"
   },
   {
    "duration": 926945,
    "start_time": "2023-07-05T06:52:59.892Z"
   },
   {
    "duration": 1546,
    "start_time": "2023-07-05T08:10:38.826Z"
   },
   {
    "duration": 3,
    "start_time": "2023-07-05T08:10:40.374Z"
   },
   {
    "duration": 898,
    "start_time": "2023-07-05T08:10:40.378Z"
   },
   {
    "duration": 30,
    "start_time": "2023-07-05T08:10:41.278Z"
   },
   {
    "duration": 23,
    "start_time": "2023-07-05T08:10:41.309Z"
   },
   {
    "duration": 290,
    "start_time": "2023-07-05T08:10:41.333Z"
   },
   {
    "duration": 3807,
    "start_time": "2023-07-05T08:10:41.624Z"
   },
   {
    "duration": 1429,
    "start_time": "2023-07-05T08:10:45.433Z"
   },
   {
    "duration": 6,
    "start_time": "2023-07-05T08:10:46.864Z"
   },
   {
    "duration": 34052,
    "start_time": "2023-07-05T08:10:46.872Z"
   },
   {
    "duration": 14,
    "start_time": "2023-07-05T08:11:20.926Z"
   },
   {
    "duration": 18456,
    "start_time": "2023-07-05T08:11:20.942Z"
   },
   {
    "duration": 11,
    "start_time": "2023-07-05T08:11:39.400Z"
   },
   {
    "duration": 43,
    "start_time": "2023-07-05T08:11:39.412Z"
   },
   {
    "duration": 4918,
    "start_time": "2023-07-05T08:11:39.456Z"
   },
   {
    "duration": 476474,
    "start_time": "2023-07-05T08:11:44.376Z"
   },
   {
    "duration": 960349,
    "start_time": "2023-07-05T08:19:40.931Z"
   },
   {
    "duration": 72,
    "start_time": "2023-07-05T08:35:41.282Z"
   },
   {
    "duration": 0,
    "start_time": "2023-07-05T08:35:41.356Z"
   },
   {
    "duration": 0,
    "start_time": "2023-07-05T08:35:41.358Z"
   },
   {
    "duration": 10210716,
    "start_time": "2023-07-05T09:33:55.678Z"
   },
   {
    "duration": 824,
    "start_time": "2023-07-05T12:24:06.397Z"
   },
   {
    "duration": 375,
    "start_time": "2023-07-05T12:24:07.223Z"
   },
   {
    "duration": 2406629,
    "start_time": "2023-07-05T13:43:16.683Z"
   },
   {
    "duration": 148801,
    "start_time": "2023-07-05T14:23:29.828Z"
   },
   {
    "duration": 241,
    "start_time": "2023-07-05T14:26:05.456Z"
   },
   {
    "duration": 3374824,
    "start_time": "2023-07-05T14:26:18.152Z"
   },
   {
    "duration": 3,
    "start_time": "2023-07-05T15:22:32.978Z"
   },
   {
    "duration": 114483,
    "start_time": "2023-07-05T15:29:35.661Z"
   },
   {
    "duration": 75816,
    "start_time": "2023-07-05T15:31:48.246Z"
   },
   {
    "duration": 114176,
    "start_time": "2023-07-05T15:33:06.085Z"
   },
   {
    "duration": 447,
    "start_time": "2023-07-05T15:47:30.754Z"
   },
   {
    "duration": 3,
    "start_time": "2023-07-05T15:51:05.350Z"
   },
   {
    "duration": 7,
    "start_time": "2023-07-05T15:51:06.179Z"
   },
   {
    "duration": 9,
    "start_time": "2023-07-05T15:51:06.979Z"
   },
   {
    "duration": 3,
    "start_time": "2023-07-05T15:51:07.757Z"
   },
   {
    "duration": 163,
    "start_time": "2023-07-05T15:51:08.537Z"
   },
   {
    "duration": 2301,
    "start_time": "2023-07-06T07:07:03.523Z"
   },
   {
    "duration": 107,
    "start_time": "2023-07-06T07:07:05.828Z"
   },
   {
    "duration": 3494,
    "start_time": "2023-07-06T07:07:05.937Z"
   },
   {
    "duration": 41,
    "start_time": "2023-07-06T07:07:09.433Z"
   },
   {
    "duration": 7,
    "start_time": "2023-07-06T07:07:09.477Z"
   },
   {
    "duration": 332,
    "start_time": "2023-07-06T07:07:09.486Z"
   },
   {
    "duration": 4998,
    "start_time": "2023-07-06T07:07:09.820Z"
   },
   {
    "duration": 1872,
    "start_time": "2023-07-06T07:07:14.825Z"
   },
   {
    "duration": 9,
    "start_time": "2023-07-06T07:07:16.699Z"
   },
   {
    "duration": 42220,
    "start_time": "2023-07-06T07:07:16.710Z"
   },
   {
    "duration": 18,
    "start_time": "2023-07-06T07:07:58.933Z"
   },
   {
    "duration": 562,
    "start_time": "2023-07-06T07:07:58.953Z"
   },
   {
    "duration": 0,
    "start_time": "2023-07-06T07:07:59.517Z"
   },
   {
    "duration": 342,
    "start_time": "2023-07-06T07:11:11.858Z"
   },
   {
    "duration": 5,
    "start_time": "2023-07-06T07:12:32.392Z"
   },
   {
    "duration": 6,
    "start_time": "2023-07-06T07:12:48.152Z"
   },
   {
    "duration": 365,
    "start_time": "2023-07-06T07:13:03.156Z"
   },
   {
    "duration": 341,
    "start_time": "2023-07-06T07:15:37.886Z"
   },
   {
    "duration": 4,
    "start_time": "2023-07-06T07:17:19.126Z"
   },
   {
    "duration": 395,
    "start_time": "2023-07-06T07:17:23.778Z"
   },
   {
    "duration": 734,
    "start_time": "2023-07-06T07:17:53.754Z"
   },
   {
    "duration": 340347,
    "start_time": "2023-07-06T07:18:06.694Z"
   },
   {
    "duration": 10,
    "start_time": "2023-07-06T07:23:47.043Z"
   },
   {
    "duration": 34,
    "start_time": "2023-07-06T07:53:05.589Z"
   },
   {
    "duration": 3279,
    "start_time": "2023-07-06T07:53:08.479Z"
   },
   {
    "duration": 5681,
    "start_time": "2023-07-06T07:53:54.343Z"
   },
   {
    "duration": 5,
    "start_time": "2023-07-06T07:54:12.904Z"
   },
   {
    "duration": 101,
    "start_time": "2023-07-06T08:04:52.467Z"
   },
   {
    "duration": 16,
    "start_time": "2023-07-06T08:05:32.740Z"
   },
   {
    "duration": 56,
    "start_time": "2023-07-06T08:15:27.081Z"
   },
   {
    "duration": 9,
    "start_time": "2023-07-06T08:16:09.879Z"
   },
   {
    "duration": 12,
    "start_time": "2023-07-06T08:16:09.890Z"
   },
   {
    "duration": 3529,
    "start_time": "2023-07-06T08:16:09.904Z"
   },
   {
    "duration": 35,
    "start_time": "2023-07-06T08:16:13.435Z"
   },
   {
    "duration": 18,
    "start_time": "2023-07-06T08:16:13.472Z"
   },
   {
    "duration": 359,
    "start_time": "2023-07-06T08:16:13.492Z"
   },
   {
    "duration": 4663,
    "start_time": "2023-07-06T08:16:13.853Z"
   },
   {
    "duration": 1761,
    "start_time": "2023-07-06T08:16:18.519Z"
   },
   {
    "duration": 9,
    "start_time": "2023-07-06T08:16:20.283Z"
   },
   {
    "duration": 38939,
    "start_time": "2023-07-06T08:16:20.293Z"
   },
   {
    "duration": 15,
    "start_time": "2023-07-06T08:16:59.234Z"
   },
   {
    "duration": 378918,
    "start_time": "2023-07-06T08:16:59.251Z"
   },
   {
    "duration": 12,
    "start_time": "2023-07-06T08:23:18.171Z"
   },
   {
    "duration": 44,
    "start_time": "2023-07-06T08:23:18.186Z"
   },
   {
    "duration": 445871,
    "start_time": "2023-07-06T08:33:28.199Z"
   },
   {
    "duration": 4525,
    "start_time": "2023-07-06T08:59:43.561Z"
   },
   {
    "duration": 431099,
    "start_time": "2023-07-06T08:59:57.112Z"
   },
   {
    "duration": 440260,
    "start_time": "2023-07-06T09:17:53.208Z"
   },
   {
    "duration": 149,
    "start_time": "2023-07-06T09:25:13.470Z"
   },
   {
    "duration": 4526,
    "start_time": "2023-07-06T09:33:09.342Z"
   },
   {
    "duration": 298,
    "start_time": "2023-07-06T09:38:56.702Z"
   },
   {
    "duration": 5,
    "start_time": "2023-07-06T09:38:57.003Z"
   },
   {
    "duration": 3590,
    "start_time": "2023-07-06T09:38:57.011Z"
   },
   {
    "duration": 43,
    "start_time": "2023-07-06T09:39:00.603Z"
   },
   {
    "duration": 57,
    "start_time": "2023-07-06T09:39:00.649Z"
   },
   {
    "duration": 338,
    "start_time": "2023-07-06T09:39:00.708Z"
   },
   {
    "duration": 4615,
    "start_time": "2023-07-06T09:39:01.048Z"
   },
   {
    "duration": 0,
    "start_time": "2023-07-06T09:39:05.666Z"
   },
   {
    "duration": 0,
    "start_time": "2023-07-06T09:39:05.668Z"
   },
   {
    "duration": 0,
    "start_time": "2023-07-06T09:39:05.670Z"
   },
   {
    "duration": 0,
    "start_time": "2023-07-06T09:39:05.672Z"
   },
   {
    "duration": 0,
    "start_time": "2023-07-06T09:39:05.673Z"
   },
   {
    "duration": 0,
    "start_time": "2023-07-06T09:39:05.675Z"
   },
   {
    "duration": 0,
    "start_time": "2023-07-06T09:39:05.677Z"
   },
   {
    "duration": 0,
    "start_time": "2023-07-06T09:39:05.680Z"
   },
   {
    "duration": 0,
    "start_time": "2023-07-06T09:39:05.682Z"
   },
   {
    "duration": 0,
    "start_time": "2023-07-06T09:39:05.683Z"
   },
   {
    "duration": 0,
    "start_time": "2023-07-06T09:39:05.686Z"
   },
   {
    "duration": 0,
    "start_time": "2023-07-06T09:39:05.688Z"
   },
   {
    "duration": 0,
    "start_time": "2023-07-06T09:39:05.691Z"
   },
   {
    "duration": 0,
    "start_time": "2023-07-06T09:39:05.693Z"
   },
   {
    "duration": 0,
    "start_time": "2023-07-06T09:39:05.696Z"
   },
   {
    "duration": 0,
    "start_time": "2023-07-06T09:39:05.698Z"
   },
   {
    "duration": 0,
    "start_time": "2023-07-06T09:39:05.700Z"
   },
   {
    "duration": 13,
    "start_time": "2023-07-06T09:39:12.168Z"
   },
   {
    "duration": 12,
    "start_time": "2023-07-06T09:39:12.185Z"
   },
   {
    "duration": 914,
    "start_time": "2023-07-06T09:39:12.200Z"
   },
   {
    "duration": 51,
    "start_time": "2023-07-06T09:39:13.116Z"
   },
   {
    "duration": 6,
    "start_time": "2023-07-06T09:39:13.171Z"
   },
   {
    "duration": 369,
    "start_time": "2023-07-06T09:39:13.180Z"
   },
   {
    "duration": 4895,
    "start_time": "2023-07-06T09:39:13.552Z"
   },
   {
    "duration": 1796,
    "start_time": "2023-07-06T09:39:18.450Z"
   },
   {
    "duration": 8,
    "start_time": "2023-07-06T09:39:20.249Z"
   },
   {
    "duration": 40812,
    "start_time": "2023-07-06T09:39:20.258Z"
   },
   {
    "duration": 14,
    "start_time": "2023-07-06T09:40:01.072Z"
   },
   {
    "duration": 364016,
    "start_time": "2023-07-06T09:40:01.088Z"
   },
   {
    "duration": 14,
    "start_time": "2023-07-06T09:46:05.106Z"
   },
   {
    "duration": 168,
    "start_time": "2023-07-06T09:46:05.126Z"
   },
   {
    "duration": 6864,
    "start_time": "2023-07-06T09:46:05.296Z"
   },
   {
    "duration": 438414,
    "start_time": "2023-07-06T09:46:12.162Z"
   },
   {
    "duration": 183,
    "start_time": "2023-07-06T09:53:30.579Z"
   },
   {
    "duration": 4,
    "start_time": "2023-07-06T09:53:30.764Z"
   },
   {
    "duration": 167,
    "start_time": "2023-07-06T13:14:25.460Z"
   },
   {
    "duration": 2734,
    "start_time": "2023-07-06T13:14:36.523Z"
   },
   {
    "duration": 6,
    "start_time": "2023-07-06T13:14:39.260Z"
   },
   {
    "duration": 4491,
    "start_time": "2023-07-06T13:14:39.268Z"
   },
   {
    "duration": 66,
    "start_time": "2023-07-06T13:14:43.762Z"
   },
   {
    "duration": 11,
    "start_time": "2023-07-06T13:14:43.836Z"
   },
   {
    "duration": 562,
    "start_time": "2023-07-06T13:14:43.850Z"
   },
   {
    "duration": 6920,
    "start_time": "2023-07-06T13:14:44.419Z"
   },
   {
    "duration": 2304,
    "start_time": "2023-07-06T13:14:51.341Z"
   },
   {
    "duration": 8,
    "start_time": "2023-07-06T13:14:53.647Z"
   },
   {
    "duration": 50258,
    "start_time": "2023-07-06T13:14:53.658Z"
   },
   {
    "duration": 24,
    "start_time": "2023-07-06T13:15:43.925Z"
   },
   {
    "duration": 467391,
    "start_time": "2023-07-06T13:15:43.953Z"
   },
   {
    "duration": 41,
    "start_time": "2023-07-06T13:23:31.347Z"
   },
   {
    "duration": 125,
    "start_time": "2023-07-06T13:23:31.390Z"
   },
   {
    "duration": 7439,
    "start_time": "2023-07-06T13:23:31.525Z"
   },
   {
    "duration": 474114,
    "start_time": "2023-07-06T13:23:38.965Z"
   },
   {
    "duration": 10758407,
    "start_time": "2023-07-06T13:46:50.786Z"
   },
   {
    "duration": 2181,
    "start_time": "2023-07-06T16:48:04.041Z"
   },
   {
    "duration": 5,
    "start_time": "2023-07-06T16:48:06.224Z"
   },
   {
    "duration": 952,
    "start_time": "2023-07-06T16:48:06.230Z"
   },
   {
    "duration": 38,
    "start_time": "2023-07-06T16:48:07.184Z"
   },
   {
    "duration": 7,
    "start_time": "2023-07-06T16:48:07.224Z"
   },
   {
    "duration": 385,
    "start_time": "2023-07-06T16:48:07.234Z"
   },
   {
    "duration": 4605,
    "start_time": "2023-07-06T16:48:07.621Z"
   },
   {
    "duration": 1747,
    "start_time": "2023-07-06T16:48:12.228Z"
   },
   {
    "duration": 10,
    "start_time": "2023-07-06T16:48:13.985Z"
   },
   {
    "duration": 9231,
    "start_time": "2023-07-06T16:48:13.997Z"
   },
   {
    "duration": 0,
    "start_time": "2023-07-06T16:48:23.231Z"
   },
   {
    "duration": 0,
    "start_time": "2023-07-06T16:48:23.233Z"
   },
   {
    "duration": 0,
    "start_time": "2023-07-06T16:48:23.234Z"
   },
   {
    "duration": 0,
    "start_time": "2023-07-06T16:48:23.236Z"
   },
   {
    "duration": 0,
    "start_time": "2023-07-06T16:48:23.237Z"
   },
   {
    "duration": 0,
    "start_time": "2023-07-06T16:48:23.238Z"
   },
   {
    "duration": 0,
    "start_time": "2023-07-06T16:48:23.239Z"
   },
   {
    "duration": 0,
    "start_time": "2023-07-06T16:48:23.241Z"
   },
   {
    "duration": 0,
    "start_time": "2023-07-06T16:48:23.242Z"
   },
   {
    "duration": 0,
    "start_time": "2023-07-06T16:48:23.243Z"
   },
   {
    "duration": 0,
    "start_time": "2023-07-06T16:48:23.246Z"
   },
   {
    "duration": 0,
    "start_time": "2023-07-06T16:48:23.247Z"
   },
   {
    "duration": 0,
    "start_time": "2023-07-06T16:48:23.249Z"
   },
   {
    "duration": 0,
    "start_time": "2023-07-06T16:48:23.250Z"
   },
   {
    "duration": 14,
    "start_time": "2023-07-06T16:48:31.761Z"
   },
   {
    "duration": 31,
    "start_time": "2023-07-06T16:48:31.779Z"
   },
   {
    "duration": 908,
    "start_time": "2023-07-06T16:48:31.812Z"
   },
   {
    "duration": 39,
    "start_time": "2023-07-06T16:48:32.722Z"
   },
   {
    "duration": 13,
    "start_time": "2023-07-06T16:48:32.769Z"
   },
   {
    "duration": 360,
    "start_time": "2023-07-06T16:48:32.783Z"
   },
   {
    "duration": 4582,
    "start_time": "2023-07-06T16:48:33.145Z"
   },
   {
    "duration": 1590,
    "start_time": "2023-07-06T16:48:37.729Z"
   },
   {
    "duration": 8,
    "start_time": "2023-07-06T16:48:39.321Z"
   },
   {
    "duration": 36678,
    "start_time": "2023-07-06T16:48:39.331Z"
   },
   {
    "duration": 10,
    "start_time": "2023-07-06T16:49:16.010Z"
   },
   {
    "duration": 356138,
    "start_time": "2023-07-06T16:49:16.022Z"
   },
   {
    "duration": 24,
    "start_time": "2023-07-06T16:55:12.162Z"
   },
   {
    "duration": 54,
    "start_time": "2023-07-06T16:55:12.188Z"
   },
   {
    "duration": 5717,
    "start_time": "2023-07-06T16:55:12.244Z"
   },
   {
    "duration": 437919,
    "start_time": "2023-07-06T16:55:17.963Z"
   },
   {
    "duration": 139521,
    "start_time": "2023-07-06T17:02:35.885Z"
   },
   {
    "duration": 62,
    "start_time": "2023-07-06T17:04:55.409Z"
   },
   {
    "duration": 8,
    "start_time": "2023-07-06T17:04:55.480Z"
   },
   {
    "duration": 28,
    "start_time": "2023-07-06T17:04:55.490Z"
   },
   {
    "duration": 162,
    "start_time": "2023-07-06T17:04:55.520Z"
   }
  ],
  "kernelspec": {
   "display_name": "Python 3 (ipykernel)",
   "language": "python",
   "name": "python3"
  },
  "language_info": {
   "codemirror_mode": {
    "name": "ipython",
    "version": 3
   },
   "file_extension": ".py",
   "mimetype": "text/x-python",
   "name": "python",
   "nbconvert_exporter": "python",
   "pygments_lexer": "ipython3",
   "version": "3.11.3"
  },
  "toc": {
   "base_numbering": 1,
   "nav_menu": {},
   "number_sections": true,
   "sideBar": true,
   "skip_h1_title": true,
   "title_cell": "Содержание",
   "title_sidebar": "Contents",
   "toc_cell": true,
   "toc_position": {
    "height": "calc(100% - 180px)",
    "left": "10px",
    "top": "150px",
    "width": "302.391px"
   },
   "toc_section_display": true,
   "toc_window_display": false
  }
 },
 "nbformat": 4,
 "nbformat_minor": 2
}
