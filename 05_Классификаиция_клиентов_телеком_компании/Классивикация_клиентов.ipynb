{
 "cells": [
  {
   "cell_type": "markdown",
   "metadata": {},
   "source": [
    "# Рекомендация тарифов"
   ]
  },
  {
   "cell_type": "markdown",
   "metadata": {},
   "source": [
    "В вашем распоряжении данные о поведении клиентов, которые уже перешли на эти тарифы (из проекта курса «Статистический анализ данных»). Нужно построить модель для задачи классификации, которая выберет подходящий тариф. Предобработка данных не понадобится — вы её уже сделали.\n",
    "\n",
    "Постройте модель с максимально большим значением *accuracy*. Чтобы сдать проект успешно, нужно довести долю правильных ответов по крайней мере до 0.75. Проверьте *accuracy* на тестовой выборке самостоятельно."
   ]
  },
  {
   "cell_type": "markdown",
   "metadata": {},
   "source": [
    "## Откроем и изучим файл"
   ]
  },
  {
   "cell_type": "markdown",
   "metadata": {},
   "source": [
    "Импортируем все необходимые библиотеки."
   ]
  },
  {
   "cell_type": "code",
   "execution_count": 1,
   "metadata": {},
   "outputs": [],
   "source": [
    "# все что потребуется импортитроватть в процессе работы складываем тут\n",
    "import pandas as pd \n",
    "import numpy as np\n",
    "\n",
    "from sklearn.model_selection import train_test_split\n",
    "\n",
    "from sklearn.neighbors import KNeighborsClassifier\n",
    "from sklearn.ensemble import RandomForestClassifier, VotingClassifier\n",
    "from sklearn.linear_model import LogisticRegression\n",
    "from sklearn.model_selection import GridSearchCV\n",
    "\n",
    "from sklearn.metrics import accuracy_score\n",
    "from sklearn.metrics import confusion_matrix, ConfusionMatrixDisplay\n",
    "from sklearn.metrics import precision_recall_fscore_support\n",
    "from sklearn.metrics import classification_report\n",
    "import warnings\n",
    "warnings.filterwarnings('ignore') # чтобы было красивее и не пугали предупреждения"
   ]
  },
  {
   "cell_type": "code",
   "execution_count": 2,
   "metadata": {},
   "outputs": [],
   "source": [
    "data = pd.read_csv('/datasets/users_behavior.csv')"
   ]
  },
  {
   "cell_type": "code",
   "execution_count": 3,
   "metadata": {},
   "outputs": [
    {
     "data": {
      "text/html": [
       "<div>\n",
       "<style scoped>\n",
       "    .dataframe tbody tr th:only-of-type {\n",
       "        vertical-align: middle;\n",
       "    }\n",
       "\n",
       "    .dataframe tbody tr th {\n",
       "        vertical-align: top;\n",
       "    }\n",
       "\n",
       "    .dataframe thead th {\n",
       "        text-align: right;\n",
       "    }\n",
       "</style>\n",
       "<table border=\"1\" class=\"dataframe\">\n",
       "  <thead>\n",
       "    <tr style=\"text-align: right;\">\n",
       "      <th></th>\n",
       "      <th>calls</th>\n",
       "      <th>minutes</th>\n",
       "      <th>messages</th>\n",
       "      <th>mb_used</th>\n",
       "      <th>is_ultra</th>\n",
       "    </tr>\n",
       "  </thead>\n",
       "  <tbody>\n",
       "    <tr>\n",
       "      <th>0</th>\n",
       "      <td>40.0</td>\n",
       "      <td>311.90</td>\n",
       "      <td>83.0</td>\n",
       "      <td>19915.42</td>\n",
       "      <td>0</td>\n",
       "    </tr>\n",
       "    <tr>\n",
       "      <th>1</th>\n",
       "      <td>85.0</td>\n",
       "      <td>516.75</td>\n",
       "      <td>56.0</td>\n",
       "      <td>22696.96</td>\n",
       "      <td>0</td>\n",
       "    </tr>\n",
       "    <tr>\n",
       "      <th>2</th>\n",
       "      <td>77.0</td>\n",
       "      <td>467.66</td>\n",
       "      <td>86.0</td>\n",
       "      <td>21060.45</td>\n",
       "      <td>0</td>\n",
       "    </tr>\n",
       "    <tr>\n",
       "      <th>3</th>\n",
       "      <td>106.0</td>\n",
       "      <td>745.53</td>\n",
       "      <td>81.0</td>\n",
       "      <td>8437.39</td>\n",
       "      <td>1</td>\n",
       "    </tr>\n",
       "    <tr>\n",
       "      <th>4</th>\n",
       "      <td>66.0</td>\n",
       "      <td>418.74</td>\n",
       "      <td>1.0</td>\n",
       "      <td>14502.75</td>\n",
       "      <td>0</td>\n",
       "    </tr>\n",
       "    <tr>\n",
       "      <th>...</th>\n",
       "      <td>...</td>\n",
       "      <td>...</td>\n",
       "      <td>...</td>\n",
       "      <td>...</td>\n",
       "      <td>...</td>\n",
       "    </tr>\n",
       "    <tr>\n",
       "      <th>3209</th>\n",
       "      <td>122.0</td>\n",
       "      <td>910.98</td>\n",
       "      <td>20.0</td>\n",
       "      <td>35124.90</td>\n",
       "      <td>1</td>\n",
       "    </tr>\n",
       "    <tr>\n",
       "      <th>3210</th>\n",
       "      <td>25.0</td>\n",
       "      <td>190.36</td>\n",
       "      <td>0.0</td>\n",
       "      <td>3275.61</td>\n",
       "      <td>0</td>\n",
       "    </tr>\n",
       "    <tr>\n",
       "      <th>3211</th>\n",
       "      <td>97.0</td>\n",
       "      <td>634.44</td>\n",
       "      <td>70.0</td>\n",
       "      <td>13974.06</td>\n",
       "      <td>0</td>\n",
       "    </tr>\n",
       "    <tr>\n",
       "      <th>3212</th>\n",
       "      <td>64.0</td>\n",
       "      <td>462.32</td>\n",
       "      <td>90.0</td>\n",
       "      <td>31239.78</td>\n",
       "      <td>0</td>\n",
       "    </tr>\n",
       "    <tr>\n",
       "      <th>3213</th>\n",
       "      <td>80.0</td>\n",
       "      <td>566.09</td>\n",
       "      <td>6.0</td>\n",
       "      <td>29480.52</td>\n",
       "      <td>1</td>\n",
       "    </tr>\n",
       "  </tbody>\n",
       "</table>\n",
       "<p>3214 rows × 5 columns</p>\n",
       "</div>"
      ],
      "text/plain": [
       "      calls  minutes  messages   mb_used  is_ultra\n",
       "0      40.0   311.90      83.0  19915.42         0\n",
       "1      85.0   516.75      56.0  22696.96         0\n",
       "2      77.0   467.66      86.0  21060.45         0\n",
       "3     106.0   745.53      81.0   8437.39         1\n",
       "4      66.0   418.74       1.0  14502.75         0\n",
       "...     ...      ...       ...       ...       ...\n",
       "3209  122.0   910.98      20.0  35124.90         1\n",
       "3210   25.0   190.36       0.0   3275.61         0\n",
       "3211   97.0   634.44      70.0  13974.06         0\n",
       "3212   64.0   462.32      90.0  31239.78         0\n",
       "3213   80.0   566.09       6.0  29480.52         1\n",
       "\n",
       "[3214 rows x 5 columns]"
      ]
     },
     "execution_count": 3,
     "metadata": {},
     "output_type": "execute_result"
    }
   ],
   "source": [
    "data"
   ]
  },
  {
   "cell_type": "markdown",
   "metadata": {},
   "source": [
    "Описание данных\n",
    "Каждый объект в наборе данных — это информация о поведении одного пользователя за месяц. Известно:\n",
    "- сalls — количество звонков,\n",
    "- minutes — суммарная длительность звонков в минутах,\n",
    "- messages — количество sms-сообщений,\n",
    "- mb_used — израсходованный интернет-трафик в Мб,\n",
    "- is_ultra — каким тарифом пользовался в течение месяца («Ультра» — 1, «Смарт» — 0)."
   ]
  },
  {
   "cell_type": "code",
   "execution_count": 4,
   "metadata": {},
   "outputs": [
    {
     "name": "stdout",
     "output_type": "stream",
     "text": [
      "<class 'pandas.core.frame.DataFrame'>\n",
      "RangeIndex: 3214 entries, 0 to 3213\n",
      "Data columns (total 5 columns):\n",
      " #   Column    Non-Null Count  Dtype  \n",
      "---  ------    --------------  -----  \n",
      " 0   calls     3214 non-null   float64\n",
      " 1   minutes   3214 non-null   float64\n",
      " 2   messages  3214 non-null   float64\n",
      " 3   mb_used   3214 non-null   float64\n",
      " 4   is_ultra  3214 non-null   int64  \n",
      "dtypes: float64(4), int64(1)\n",
      "memory usage: 125.7 KB\n"
     ]
    }
   ],
   "source": [
    "data.info()"
   ]
  },
  {
   "cell_type": "markdown",
   "metadata": {},
   "source": [
    "Хоть по условию и сказано, что предобработка уже сделана, но очень режет глаза количество звонков и смс типа float."
   ]
  },
  {
   "cell_type": "code",
   "execution_count": 5,
   "metadata": {},
   "outputs": [],
   "source": [
    "data[['calls', 'messages']] = data[['calls', 'messages']].astype(int) # сменим тип данных на int"
   ]
  },
  {
   "cell_type": "markdown",
   "metadata": {},
   "source": [
    "Посмотрим на целевой показатель."
   ]
  },
  {
   "cell_type": "code",
   "execution_count": 6,
   "metadata": {},
   "outputs": [
    {
     "data": {
      "text/plain": [
       "0    2229\n",
       "1     985\n",
       "Name: is_ultra, dtype: int64"
      ]
     },
     "execution_count": 6,
     "metadata": {},
     "output_type": "execute_result"
    }
   ],
   "source": [
    "data['is_ultra'].value_counts()"
   ]
  },
  {
   "cell_type": "markdown",
   "metadata": {},
   "source": [
    "Классы несбалансированы. Соотношение ~2:1."
   ]
  },
  {
   "cell_type": "code",
   "execution_count": 7,
   "metadata": {},
   "outputs": [
    {
     "data": {
      "text/plain": [
       "0"
      ]
     },
     "execution_count": 7,
     "metadata": {},
     "output_type": "execute_result"
    }
   ],
   "source": [
    "data.duplicated().sum()"
   ]
  },
  {
   "cell_type": "code",
   "execution_count": 8,
   "metadata": {},
   "outputs": [
    {
     "data": {
      "text/plain": [
       "calls       0.0\n",
       "minutes     0.0\n",
       "messages    0.0\n",
       "mb_used     0.0\n",
       "is_ultra    0.0\n",
       "dtype: float64"
      ]
     },
     "execution_count": 8,
     "metadata": {},
     "output_type": "execute_result"
    }
   ],
   "source": [
    "data.isna().sum()/len(data)*100"
   ]
  },
  {
   "cell_type": "code",
   "execution_count": 27,
   "metadata": {},
   "outputs": [
    {
     "data": {
      "text/plain": [
       "array([0, 1])"
      ]
     },
     "execution_count": 27,
     "metadata": {},
     "output_type": "execute_result"
    }
   ],
   "source": [
    "data['is_ultra'].unique()"
   ]
  },
  {
   "cell_type": "code",
   "execution_count": 26,
   "metadata": {},
   "outputs": [
    {
     "data": {
      "text/html": [
       "<style  type=\"text/css\" >\n",
       "#T_a397a_row0_col0,#T_a397a_row1_col1,#T_a397a_row2_col2,#T_a397a_row3_col3,#T_a397a_row4_col4{\n",
       "            background-color:  #b40426;\n",
       "            color:  #f1f1f1;\n",
       "        }#T_a397a_row0_col1,#T_a397a_row1_col0{\n",
       "            background-color:  #bb1b2c;\n",
       "            color:  #f1f1f1;\n",
       "        }#T_a397a_row0_col2,#T_a397a_row2_col4{\n",
       "            background-color:  #3c4ec2;\n",
       "            color:  #f1f1f1;\n",
       "        }#T_a397a_row0_col3{\n",
       "            background-color:  #5d7ce6;\n",
       "            color:  #000000;\n",
       "        }#T_a397a_row0_col4,#T_a397a_row1_col4{\n",
       "            background-color:  #3d50c3;\n",
       "            color:  #f1f1f1;\n",
       "        }#T_a397a_row1_col2,#T_a397a_row2_col0,#T_a397a_row2_col1,#T_a397a_row2_col3,#T_a397a_row3_col4,#T_a397a_row4_col3{\n",
       "            background-color:  #3b4cc0;\n",
       "            color:  #f1f1f1;\n",
       "        }#T_a397a_row1_col3{\n",
       "            background-color:  #5b7ae5;\n",
       "            color:  #000000;\n",
       "        }#T_a397a_row3_col0,#T_a397a_row3_col1{\n",
       "            background-color:  #6384eb;\n",
       "            color:  #000000;\n",
       "        }#T_a397a_row3_col2{\n",
       "            background-color:  #4358cb;\n",
       "            color:  #f1f1f1;\n",
       "        }#T_a397a_row4_col0,#T_a397a_row4_col2{\n",
       "            background-color:  #455cce;\n",
       "            color:  #f1f1f1;\n",
       "        }#T_a397a_row4_col1{\n",
       "            background-color:  #465ecf;\n",
       "            color:  #f1f1f1;\n",
       "        }</style><table id=\"T_a397a_\" ><thead>    <tr>        <th class=\"blank level0\" ></th>        <th class=\"col_heading level0 col0\" >calls</th>        <th class=\"col_heading level0 col1\" >minutes</th>        <th class=\"col_heading level0 col2\" >messages</th>        <th class=\"col_heading level0 col3\" >mb_used</th>        <th class=\"col_heading level0 col4\" >is_ultra</th>    </tr></thead><tbody>\n",
       "                <tr>\n",
       "                        <th id=\"T_a397a_level0_row0\" class=\"row_heading level0 row0\" >calls</th>\n",
       "                        <td id=\"T_a397a_row0_col0\" class=\"data row0 col0\" >1.000000</td>\n",
       "                        <td id=\"T_a397a_row0_col1\" class=\"data row0 col1\" >0.982083</td>\n",
       "                        <td id=\"T_a397a_row0_col2\" class=\"data row0 col2\" >0.177385</td>\n",
       "                        <td id=\"T_a397a_row0_col3\" class=\"data row0 col3\" >0.286442</td>\n",
       "                        <td id=\"T_a397a_row0_col4\" class=\"data row0 col4\" >0.207122</td>\n",
       "            </tr>\n",
       "            <tr>\n",
       "                        <th id=\"T_a397a_level0_row1\" class=\"row_heading level0 row1\" >minutes</th>\n",
       "                        <td id=\"T_a397a_row1_col0\" class=\"data row1 col0\" >0.982083</td>\n",
       "                        <td id=\"T_a397a_row1_col1\" class=\"data row1 col1\" >1.000000</td>\n",
       "                        <td id=\"T_a397a_row1_col2\" class=\"data row1 col2\" >0.173110</td>\n",
       "                        <td id=\"T_a397a_row1_col3\" class=\"data row1 col3\" >0.280967</td>\n",
       "                        <td id=\"T_a397a_row1_col4\" class=\"data row1 col4\" >0.206955</td>\n",
       "            </tr>\n",
       "            <tr>\n",
       "                        <th id=\"T_a397a_level0_row2\" class=\"row_heading level0 row2\" >messages</th>\n",
       "                        <td id=\"T_a397a_row2_col0\" class=\"data row2 col0\" >0.177385</td>\n",
       "                        <td id=\"T_a397a_row2_col1\" class=\"data row2 col1\" >0.173110</td>\n",
       "                        <td id=\"T_a397a_row2_col2\" class=\"data row2 col2\" >1.000000</td>\n",
       "                        <td id=\"T_a397a_row2_col3\" class=\"data row2 col3\" >0.195721</td>\n",
       "                        <td id=\"T_a397a_row2_col4\" class=\"data row2 col4\" >0.203830</td>\n",
       "            </tr>\n",
       "            <tr>\n",
       "                        <th id=\"T_a397a_level0_row3\" class=\"row_heading level0 row3\" >mb_used</th>\n",
       "                        <td id=\"T_a397a_row3_col0\" class=\"data row3 col0\" >0.286442</td>\n",
       "                        <td id=\"T_a397a_row3_col1\" class=\"data row3 col1\" >0.280967</td>\n",
       "                        <td id=\"T_a397a_row3_col2\" class=\"data row3 col2\" >0.195721</td>\n",
       "                        <td id=\"T_a397a_row3_col3\" class=\"data row3 col3\" >1.000000</td>\n",
       "                        <td id=\"T_a397a_row3_col4\" class=\"data row3 col4\" >0.198568</td>\n",
       "            </tr>\n",
       "            <tr>\n",
       "                        <th id=\"T_a397a_level0_row4\" class=\"row_heading level0 row4\" >is_ultra</th>\n",
       "                        <td id=\"T_a397a_row4_col0\" class=\"data row4 col0\" >0.207122</td>\n",
       "                        <td id=\"T_a397a_row4_col1\" class=\"data row4 col1\" >0.206955</td>\n",
       "                        <td id=\"T_a397a_row4_col2\" class=\"data row4 col2\" >0.203830</td>\n",
       "                        <td id=\"T_a397a_row4_col3\" class=\"data row4 col3\" >0.198568</td>\n",
       "                        <td id=\"T_a397a_row4_col4\" class=\"data row4 col4\" >1.000000</td>\n",
       "            </tr>\n",
       "    </tbody></table>"
      ],
      "text/plain": [
       "<pandas.io.formats.style.Styler at 0x7f454ab55c40>"
      ]
     },
     "execution_count": 26,
     "metadata": {},
     "output_type": "execute_result"
    }
   ],
   "source": [
    "corr = data.corr()\n",
    "corr.style.background_gradient(cmap='coolwarm')"
   ]
  },
  {
   "cell_type": "markdown",
   "metadata": {},
   "source": [
    "Итак:\n",
    "- данные чистые, без пропусков\n",
    "- нет высокого показателя корреляции с целевым признаком\n",
    "Нам предстоит решить задачу классификации, а точнее бинарной классификации, так как целевой признак имеет два значения (0, 1).\n"
   ]
  },
  {
   "cell_type": "markdown",
   "metadata": {},
   "source": [
    "## Разбейте данные на выборки"
   ]
  },
  {
   "cell_type": "markdown",
   "metadata": {},
   "source": [
    "Теперь мы разделим набор данных на тренировочные(обучающие) и тестовые. Обучающие данные - это данные, на которых модель будет учиться. Тестовые данные - это данные, которые мы будем использовать, чтобы увидеть, насколько хорошо модель работает с невидимыми данными. "
   ]
  },
  {
   "cell_type": "code",
   "execution_count": 9,
   "metadata": {},
   "outputs": [],
   "source": [
    "features = data.drop(['is_ultra'], axis=1)\n",
    "target = data['is_ultra']"
   ]
  },
  {
   "cell_type": "code",
   "execution_count": 10,
   "metadata": {},
   "outputs": [],
   "source": [
    "# разобьем сет на выборки (обучающую и тестовую)\n",
    "features_train, features_test, target_train, target_test = train_test_split(\n",
    "    features, target, test_size=0.3, random_state=123, stratify=target) \n",
    "# отделим от тестовой выборки валидационную\n",
    "features_valid, features_test, target_valid, target_test = train_test_split(\n",
    "    features_test, target_test, test_size=0.5, random_state=123, stratify=target_test)"
   ]
  },
  {
   "cell_type": "markdown",
   "metadata": {},
   "source": [
    "*stratify=target, возвращает стратифицированные складки: каждый набор содержит примерно такой же процент выборок каждого целевого класса, как и полный набор.*"
   ]
  },
  {
   "cell_type": "markdown",
   "metadata": {},
   "source": [
    "Посмотрим на результат разделения"
   ]
  },
  {
   "cell_type": "code",
   "execution_count": 11,
   "metadata": {},
   "outputs": [
    {
     "name": "stdout",
     "output_type": "stream",
     "text": [
      "Размерность набора данных features_train:  (2249, 4)\n",
      "Размерность набора данных target_train:  (2249,)\n",
      "Размерность набора данных features_test:  (483, 4)\n",
      "Размерность набора данных target_test:  (483,)\n"
     ]
    }
   ],
   "source": [
    "print('Размерность набора данных features_train: ', features_train.shape)\n",
    "print('Размерность набора данных target_train: ', target_train.shape)\n",
    "#print('Размерность набора данных features_valid: ', features_valid.shape)\n",
    "#print('Размерность набора данных target_valid: ', target_valid.shape)\n",
    "print('Размерность набора данных features_test: ', features_test.shape)\n",
    "print('Размерность набора данных target_test: ', target_test.shape)"
   ]
  },
  {
   "cell_type": "code",
   "execution_count": 12,
   "metadata": {},
   "outputs": [
    {
     "data": {
      "text/plain": [
       "(0    1560\n",
       " 1     689\n",
       " Name: is_ultra, dtype: int64,\n",
       " 0    334\n",
       " 1    148\n",
       " Name: is_ultra, dtype: int64,\n",
       " 0    335\n",
       " 1    148\n",
       " Name: is_ultra, dtype: int64)"
      ]
     },
     "execution_count": 12,
     "metadata": {},
     "output_type": "execute_result"
    }
   ],
   "source": [
    "target_train.value_counts(), target_valid.value_counts(), target_test.value_counts()"
   ]
  },
  {
   "cell_type": "markdown",
   "metadata": {},
   "source": [
    "Соотношение классов сохранилось, однако данные несбалансированы, необходимо это помнить при обучении моделей."
   ]
  },
  {
   "cell_type": "markdown",
   "metadata": {},
   "source": [
    "## Исследуем модели"
   ]
  },
  {
   "cell_type": "markdown",
   "metadata": {},
   "source": [
    "Далее мы должны построить наши модели. У каждой модели, которую мы строим, есть набор гиперпараметров, которые мы можем настроить. Настройка параметров - это когда вы проходите через процесс, чтобы найти оптимальные параметры для вашей модели для повышения точности.При создании моделей будем пользоваться методом GridSearchCV. Перекрестная проверка - это когда набор данных случайным образом разбивается на группы «k». Одна из групп используется в качестве тестового набора, а остальные используются в качестве тренировочного набора Модель обучается на тренировочном наборе и оценивается на тестовом наборе. Затем процесс повторяется до тех пор, пока каждая уникальная группа не будет использоваться в качестве тестового набора."
   ]
  },
  {
   "cell_type": "markdown",
   "metadata": {},
   "source": [
    "### k-Ближайшие соседи (k-NN)"
   ]
  },
  {
   "cell_type": "markdown",
   "metadata": {},
   "source": [
    "Первая модель, которую мы построим, это k-Nearest Neighbours (k-NN). Модели k-NN работают, беря точку данных и глядя на «k» ближайших помеченных точек данных. Затем точке данных присваивается метка для большинства ближайших точек «k»."
   ]
  },
  {
   "cell_type": "code",
   "execution_count": 13,
   "metadata": {},
   "outputs": [
    {
     "data": {
      "text/plain": [
       "GridSearchCV(cv=5, estimator=KNeighborsClassifier(),\n",
       "             param_grid={'algorithm': ('auto', 'ball_tree', 'kd_tree', 'brute'),\n",
       "                         'n_neighbors': array([ 1,  2,  3,  4,  5,  6,  7,  8,  9, 10, 11, 12, 13, 14, 15, 16, 17,\n",
       "       18, 19, 20, 21, 22, 23, 24, 25, 26, 27, 28, 29, 30]),\n",
       "                         'weights': ('uniform', 'distance')})"
      ]
     },
     "execution_count": 13,
     "metadata": {},
     "output_type": "execute_result"
    }
   ],
   "source": [
    "knn = KNeighborsClassifier()\n",
    "params_knn = {\n",
    "    'n_neighbors': np.arange(1, 31), \n",
    "    'weights': ('uniform', 'distance'), \n",
    "    'algorithm': ('auto', 'ball_tree', 'kd_tree', 'brute') \n",
    "}\n",
    "knn_gs = GridSearchCV(knn, params_knn, cv=5)\n",
    "knn_gs.fit(features_train, target_train)"
   ]
  },
  {
   "cell_type": "markdown",
   "metadata": {},
   "source": [
    "Зададим переменную для классификатора k-NN. Затем нам нужно создать словарь для хранения всех значений, которые мы будем тестировать для «n_neighbors», что является гиперпараметром. \n",
    "\n",
    "- n_neighbors - принимает целое значение, по умолчанию = 5\n",
    "Количество соседей, используемых по умолчанию для kneighborsзапросов.\n",
    "- weights {'uniform', 'distance'} по умолчанию = 'uniform'\n",
    "    Весовая функция, используемая в прогнозировании. Возможные значения:\n",
    "        - uniform : однородные веса. Все точки в каждой окрестности имеют одинаковый вес.\n",
    "        - distance : взвешивание точек обратно их расстоянию. в этом случае более близкие соседи точки запроса будут иметь большее влияние, чем соседи, которые находятся дальше.\n",
    "- algorithm{'auto', 'ball_tree', 'kd_tree', 'brute'}, default='auto'\n",
    "        - Алгоритм, используемый для вычисления ближайших соседей.\n",
    "\n",
    "\n",
    "В нашем случае мы используем 5-кратную перекрестную проверку. Набор данных разбит на 5 групп, и модель обучается и тестируется 5 раз, чтобы у каждой группы был шанс стать тестовым набором. Вот как мы будем оценивать нашу модель, работающую с каждым значением гиперпараметра, чтобы увидеть, какое значение для 'n_neighbors' дает нам лучший результат.\n",
    "\n",
    "Сохраним нашу лучшую модель k-NN в «knn_best», используя функцию «best_estimator_»."
   ]
  },
  {
   "cell_type": "code",
   "execution_count": 14,
   "metadata": {},
   "outputs": [
    {
     "name": "stdout",
     "output_type": "stream",
     "text": [
      "Accuracy лучшей модели на валидационной выборке: 0.7655601659751037\n",
      "Лучший результат у модели при параметрах {'algorithm': 'auto', 'n_neighbors': 13, 'weights': 'uniform'}\n"
     ]
    }
   ],
   "source": [
    "#save best model\n",
    "knn_best = knn_gs.best_estimator_\n",
    "knn_pred = knn_gs.predict(features_valid)\n",
    "accuracy = accuracy_score(target_valid, knn_pred)\n",
    "print(\"Accuracy лучшей модели на валидационной выборке:\", accuracy)\n",
    "print('Лучший результат у модели при параметрах', knn_gs.best_params_) "
   ]
  },
  {
   "cell_type": "markdown",
   "metadata": {},
   "source": [
    "### Случайный Лес (RandomForestClassifier)\n",
    "Следующая модель, которую мы построим, - это случайный лес. Случайный лес сам по себе считается моделью ансамбля, поскольку он представляет собой совокупность деревьев решений, объединенных для создания более точной модели."
   ]
  },
  {
   "cell_type": "code",
   "execution_count": 15,
   "metadata": {},
   "outputs": [
    {
     "data": {
      "text/plain": [
       "GridSearchCV(cv=5, estimator=RandomForestClassifier(random_state=12345),\n",
       "             param_grid={'criterion': ('gini', 'entropy', 'log_loss'),\n",
       "                         'max_depth': range(1, 10),\n",
       "                         'n_estimators': [10, 20, 30, 40, 50]})"
      ]
     },
     "execution_count": 15,
     "metadata": {},
     "output_type": "execute_result"
    }
   ],
   "source": [
    "rf = RandomForestClassifier(random_state=12345)\n",
    "params_rf = {'n_estimators': [10, 20, 30, 40, 50], 'criterion': ('gini', 'entropy', 'log_loss'),'max_depth': range (1, 10, 1)}\n",
    "rf_gs = GridSearchCV(rf, params_rf, cv=5)\n",
    "rf_gs.fit(features_train, target_train)"
   ]
  },
  {
   "cell_type": "markdown",
   "metadata": {},
   "source": [
    "Установим гиперпараметры, которые мы хотим настроить. \n",
    "    - N_estimators - количество деревьев в нашем случайном лесу. \n",
    "    - criterion{'gini', 'entropy', 'log_loss'}, default='gini' - Функция измерения качества разделения. Поддерживаемые критерии: «gini» для примеси Джини, «log_loss» и «entropy» для прироста информации Шеннона.\n",
    "    - max_depth целое, default = None Максимальная глубина дерева. Если None, то узлы расширяются до тех пор, пока все листья не станут чистыми или пока все листья не будут содержать выборок меньше, чем min_samples_split.\n",
    "\n",
    "Как и раньше, мы сохраним нашу лучшую модель и посмотрим ее параметры."
   ]
  },
  {
   "cell_type": "code",
   "execution_count": 16,
   "metadata": {},
   "outputs": [
    {
     "name": "stdout",
     "output_type": "stream",
     "text": [
      "Accuracy лучшей модели на валидационной выборке: 0.7883817427385892\n",
      "Лучший результат у модели при параметрах {'criterion': 'entropy', 'max_depth': 9, 'n_estimators': 40}\n"
     ]
    }
   ],
   "source": [
    "#сохраним лучшую модель\n",
    "rf_best = rf_gs.best_estimator_\n",
    "accuracy = rf_gs.score(features_valid, target_valid)\n",
    "print(\"Accuracy лучшей модели на валидационной выборке:\", accuracy)\n",
    "print('Лучший результат у модели при параметрах', rf_gs.best_params_) "
   ]
  },
  {
   "cell_type": "markdown",
   "metadata": {},
   "source": [
    "### Логистическая регрессия (LogisticRegression)\n",
    "Наша последняя модель - логистическая регрессия. Несмотря на то, что в названии присутствует «регрессия», логистическая регрессия является методом классификации."
   ]
  },
  {
   "cell_type": "code",
   "execution_count": 17,
   "metadata": {},
   "outputs": [
    {
     "data": {
      "text/plain": [
       "LogisticRegression()"
      ]
     },
     "execution_count": 17,
     "metadata": {},
     "output_type": "execute_result"
    }
   ],
   "source": [
    "log_reg = LogisticRegression()\n",
    "params_log_reg = {\n",
    "    'max_iter': [20, 50, 100, 200, 500, 1000], \n",
    "    'solver': ('newton-cg', 'lbfgs', 'liblinear', 'sag', 'saga'), \n",
    "    'class_weight': ('balanced', 'None')\n",
    "} \n",
    "rf_gs = GridSearchCV(log_reg, params_log_reg, cv=5)\n",
    "log_reg.fit(features_train, target_train)"
   ]
  },
  {
   "cell_type": "code",
   "execution_count": 18,
   "metadata": {},
   "outputs": [
    {
     "name": "stdout",
     "output_type": "stream",
     "text": [
      "Accuracy модели на валидационной выборке: 0.6991701244813278\n",
      "              precision    recall  f1-score   support\n",
      "\n",
      "           0       0.70      1.00      0.82       334\n",
      "           1       1.00      0.02      0.04       148\n",
      "\n",
      "    accuracy                           0.70       482\n",
      "   macro avg       0.85      0.51      0.43       482\n",
      "weighted avg       0.79      0.70      0.58       482\n",
      "\n"
     ]
    }
   ],
   "source": [
    "accuracy = log_reg.score(features_valid, target_valid)\n",
    "print(\"Accuracy модели на валидационной выборке:\", accuracy) \n",
    "predict= log_reg.predict(features_valid)\n",
    "print(classification_report(target_valid, predict))"
   ]
  },
  {
   "cell_type": "markdown",
   "metadata": {},
   "source": [
    "Модель плохо предсказывает пользователей тарифа Ультра (1)"
   ]
  },
  {
   "cell_type": "code",
   "execution_count": 19,
   "metadata": {},
   "outputs": [
    {
     "name": "stdout",
     "output_type": "stream",
     "text": [
      "knn: 0.7655601659751037\n",
      "rf: 0.7883817427385892\n",
      "log_reg: 0.6991701244813278\n"
     ]
    }
   ],
   "source": [
    "print(f'knn: {knn_best.score(features_valid, target_valid)}')\n",
    "print(f'rf: {rf_best.score(features_valid, target_valid)}')\n",
    "print(f'log_reg: {log_reg.score(features_valid, target_valid)}')"
   ]
  },
  {
   "cell_type": "markdown",
   "metadata": {},
   "source": [
    "### Классификатор голосования(VotingClassifier)\n",
    "Попробуем создать ансабль из ранее обученных моделей."
   ]
  },
  {
   "cell_type": "code",
   "execution_count": 20,
   "metadata": {},
   "outputs": [],
   "source": [
    "estimators=[('knn', knn_best), ('rf', rf_best), ('log_reg', log_reg)]#создаем классификатор, указываем модели\n",
    "ensemble1 = VotingClassifier(estimators, voting='hard')\n",
    "ensemble2 = VotingClassifier(estimators, voting='soft')"
   ]
  },
  {
   "cell_type": "code",
   "execution_count": 21,
   "metadata": {},
   "outputs": [
    {
     "data": {
      "text/plain": [
       "0.7697095435684648"
      ]
     },
     "execution_count": 21,
     "metadata": {},
     "output_type": "execute_result"
    }
   ],
   "source": [
    "ensemble1.fit(features_train, target_train)\n",
    "ensemble1.score(features_valid, target_valid)"
   ]
  },
  {
   "cell_type": "code",
   "execution_count": 22,
   "metadata": {},
   "outputs": [
    {
     "data": {
      "text/plain": [
       "0.7842323651452282"
      ]
     },
     "execution_count": 22,
     "metadata": {},
     "output_type": "execute_result"
    }
   ],
   "source": [
    "ensemble2.fit(features_train, target_train)\n",
    "ensemble2.score(features_valid, target_valid)"
   ]
  },
  {
   "cell_type": "markdown",
   "metadata": {},
   "source": [
    "Если «жесткий», использует предсказанные метки классов для голосования по правилу большинства. В противном случае, если «мягкий», предсказывает метку класса на основе argmax сумм предсказанных вероятностей, что рекомендуется для ансамбля хорошо откалиброванных классификаторов.\n",
    "Наша модель голосования ensemble2 показала схожий результат с RandomForestClassifier."
   ]
  },
  {
   "cell_type": "markdown",
   "metadata": {},
   "source": [
    "Вывод\n",
    "Мы выбрали и обучили три разных модели:\n",
    "\n",
    "k-Ближайшие соседи (k-NN)\n",
    "Случайный Лес (RandomForestClassifier)\n",
    "Логистическая регрессия (LogisticRegression)\n",
    "\n",
    "Сделали ансамбль из наших моделей:\n",
    "\n",
    "Классификатор голосования(VotingClassifier)\n",
    "\n",
    "Лучший результат: RandomForestClassifier  Accuracy на валидационной выборке: 0.788.\n",
    "\n",
    "Хуже всего справилась: LogisticRegression Accuracy хуже остальных моделей: 0.699.\n",
    "\n",
    "VotingClassifier Показал результат схожий с лучшей моделью Accuracy: 0.784."
   ]
  },
  {
   "cell_type": "markdown",
   "metadata": {},
   "source": [
    "## Проверьте модель на тестовой выборке"
   ]
  },
  {
   "cell_type": "markdown",
   "metadata": {},
   "source": [
    "Теперь давайте проверим оценки точности всех трех наших моделей на наших тестовых данных."
   ]
  },
  {
   "cell_type": "code",
   "execution_count": 23,
   "metadata": {},
   "outputs": [
    {
     "name": "stdout",
     "output_type": "stream",
     "text": [
      "Accuracy knn: 0.7660455486542443\n",
      "Accuracy rf: 0.8240165631469979\n",
      "Accuracy log_reg: 0.7060041407867494\n",
      "Accuracy ensemble2: 0.7971014492753623\n"
     ]
    }
   ],
   "source": [
    "knn_predictions = knn_best.predict(features_test)\n",
    "rf_predictions = rf_best.predict(features_test)\n",
    "log_reg_predictions = log_reg.predict(features_test)\n",
    "ensemble2_predictions = ensemble2.predict(features_test)\n",
    "print(f'Accuracy knn: {knn_best.score(features_test, target_test)}')\n",
    "print(f'Accuracy rf: {rf_best.score(features_test, target_test)}')\n",
    "print(f'Accuracy log_reg: {log_reg.score(features_test, target_test)}')\n",
    "print(f'Accuracy ensemble2: {ensemble2.score(features_test, target_test)}')"
   ]
  },
  {
   "cell_type": "markdown",
   "metadata": {},
   "source": [
    "Лучший результат RandomForestClassifier."
   ]
  },
  {
   "cell_type": "markdown",
   "metadata": {},
   "source": [
    "## (бонус) Проверьте модели на адекватность"
   ]
  },
  {
   "cell_type": "markdown",
   "metadata": {},
   "source": [
    "Для сравнения проверим несколько моделей."
   ]
  },
  {
   "cell_type": "code",
   "execution_count": 24,
   "metadata": {},
   "outputs": [
    {
     "data": {
      "text/plain": [
       "<sklearn.metrics._plot.confusion_matrix.ConfusionMatrixDisplay at 0x7f454ab8e7c0>"
      ]
     },
     "execution_count": 24,
     "metadata": {},
     "output_type": "execute_result"
    },
    {
     "data": {
      "image/png": "[encoded data removed]",
      "text/plain": [
       "<Figure size 432x288 with 2 Axes>"
      ]
     },
     "metadata": {
      "needs_background": "light"
     },
     "output_type": "display_data"
    }
   ],
   "source": [
    "pred=pd.DataFrame(rf_predictions)\n",
    "real=pd.DataFrame(target_test).reset_index().drop(['index'], axis=1)\n",
    "matrix=confusion_matrix(real, pred)\n",
    "disp = ConfusionMatrixDisplay(matrix)\n",
    "disp.plot()"
   ]
  },
  {
   "cell_type": "code",
   "execution_count": 28,
   "metadata": {},
   "outputs": [
    {
     "data": {
      "text/html": [
       "<div>\n",
       "<style scoped>\n",
       "    .dataframe tbody tr th:only-of-type {\n",
       "        vertical-align: middle;\n",
       "    }\n",
       "\n",
       "    .dataframe tbody tr th {\n",
       "        vertical-align: top;\n",
       "    }\n",
       "\n",
       "    .dataframe thead th {\n",
       "        text-align: right;\n",
       "    }\n",
       "</style>\n",
       "<table border=\"1\" class=\"dataframe\">\n",
       "  <thead>\n",
       "    <tr style=\"text-align: right;\">\n",
       "      <th></th>\n",
       "      <th>0</th>\n",
       "      <th>1</th>\n",
       "    </tr>\n",
       "  </thead>\n",
       "  <tbody>\n",
       "    <tr>\n",
       "      <th>0</th>\n",
       "      <td>0.825521</td>\n",
       "      <td>0.818182</td>\n",
       "    </tr>\n",
       "    <tr>\n",
       "      <th>1</th>\n",
       "      <td>0.946269</td>\n",
       "      <td>0.547297</td>\n",
       "    </tr>\n",
       "    <tr>\n",
       "      <th>2</th>\n",
       "      <td>0.881780</td>\n",
       "      <td>0.655870</td>\n",
       "    </tr>\n",
       "    <tr>\n",
       "      <th>3</th>\n",
       "      <td>335.000000</td>\n",
       "      <td>148.000000</td>\n",
       "    </tr>\n",
       "  </tbody>\n",
       "</table>\n",
       "</div>"
      ],
      "text/plain": [
       "            0           1\n",
       "0    0.825521    0.818182\n",
       "1    0.946269    0.547297\n",
       "2    0.881780    0.655870\n",
       "3  335.000000  148.000000"
      ]
     },
     "execution_count": 28,
     "metadata": {},
     "output_type": "execute_result"
    }
   ],
   "source": [
    "pd.DataFrame(precision_recall_fscore_support(real, pred))"
   ]
  },
  {
   "cell_type": "markdown",
   "metadata": {},
   "source": [
    "Точность предсказания тарифа 0 - 94%\n",
    "Точность предсказания тарифа 1 -54%"
   ]
  },
  {
   "cell_type": "code",
   "execution_count": 29,
   "metadata": {},
   "outputs": [
    {
     "data": {
      "text/plain": [
       "<sklearn.metrics._plot.confusion_matrix.ConfusionMatrixDisplay at 0x7f454ab554f0>"
      ]
     },
     "execution_count": 29,
     "metadata": {},
     "output_type": "execute_result"
    },
    {
     "data": {
      "image/png": "[encoded data removed]",
      "text/plain": [
       "<Figure size 432x288 with 2 Axes>"
      ]
     },
     "metadata": {
      "needs_background": "light"
     },
     "output_type": "display_data"
    }
   ],
   "source": [
    "pred2=pd.DataFrame(ensemble2_predictions)\n",
    "real2=pd.DataFrame(target_test).reset_index().drop(['index'], axis=1)\n",
    "matrix=confusion_matrix(real2, pred2)\n",
    "disp = ConfusionMatrixDisplay(matrix)\n",
    "disp.plot()"
   ]
  },
  {
   "cell_type": "code",
   "execution_count": 30,
   "metadata": {},
   "outputs": [
    {
     "data": {
      "text/html": [
       "<div>\n",
       "<style scoped>\n",
       "    .dataframe tbody tr th:only-of-type {\n",
       "        vertical-align: middle;\n",
       "    }\n",
       "\n",
       "    .dataframe tbody tr th {\n",
       "        vertical-align: top;\n",
       "    }\n",
       "\n",
       "    .dataframe thead th {\n",
       "        text-align: right;\n",
       "    }\n",
       "</style>\n",
       "<table border=\"1\" class=\"dataframe\">\n",
       "  <thead>\n",
       "    <tr style=\"text-align: right;\">\n",
       "      <th></th>\n",
       "      <th>0</th>\n",
       "      <th>1</th>\n",
       "    </tr>\n",
       "  </thead>\n",
       "  <tbody>\n",
       "    <tr>\n",
       "      <th>0</th>\n",
       "      <td>0.791155</td>\n",
       "      <td>0.828947</td>\n",
       "    </tr>\n",
       "    <tr>\n",
       "      <th>1</th>\n",
       "      <td>0.961194</td>\n",
       "      <td>0.425676</td>\n",
       "    </tr>\n",
       "    <tr>\n",
       "      <th>2</th>\n",
       "      <td>0.867925</td>\n",
       "      <td>0.562500</td>\n",
       "    </tr>\n",
       "    <tr>\n",
       "      <th>3</th>\n",
       "      <td>335.000000</td>\n",
       "      <td>148.000000</td>\n",
       "    </tr>\n",
       "  </tbody>\n",
       "</table>\n",
       "</div>"
      ],
      "text/plain": [
       "            0           1\n",
       "0    0.791155    0.828947\n",
       "1    0.961194    0.425676\n",
       "2    0.867925    0.562500\n",
       "3  335.000000  148.000000"
      ]
     },
     "execution_count": 30,
     "metadata": {},
     "output_type": "execute_result"
    }
   ],
   "source": [
    "pd.DataFrame(precision_recall_fscore_support(real2, pred2))"
   ]
  },
  {
   "cell_type": "markdown",
   "metadata": {},
   "source": [
    "Точность предсказания тарифа 0 - 96%\n",
    "Точность предсказания тарифа 1 - 42%"
   ]
  },
  {
   "cell_type": "markdown",
   "metadata": {},
   "source": [
    "Наши модели не справляется с определением пользователей тарифа «Ультра» — 1, лес деревьев решений справляется чуть лучше.Пользователи тарифа 0 - «Смарт» определяются с хорошей точностью.\n",
    "\n",
    "Общий вывод\n",
    "\n",
    "Предоставленные данные чистые одняко несбаллансированы, необходимы дополнительные данные по опльзователям тарифа \"Ультра\"\n",
    "\n",
    "Мы построили четыре модели  k-NN, RandomForestClassifier, Logistic Regression и VotingClassifier;\n",
    "Наиболее точные результаты показала модель RandomForestClassifier с параметрами {'criterion': 'entropy', 'max_depth': 9, 'n_estimators': 40}  и Accuracy 0.824 на тестовых данных.\n"
   ]
  }
 ],
 "metadata": {
  "ExecuteTimeLog": [
   {
    "duration": 416,
    "start_time": "2023-03-28T18:49:18.221Z"
   },
   {
    "duration": 59,
    "start_time": "2023-03-28T18:49:18.639Z"
   },
   {
    "duration": 19,
    "start_time": "2023-03-28T18:49:28.943Z"
   },
   {
    "duration": 9,
    "start_time": "2023-03-28T18:51:25.222Z"
   },
   {
    "duration": 7,
    "start_time": "2023-03-28T18:51:32.634Z"
   },
   {
    "duration": 8,
    "start_time": "2023-03-28T18:52:06.306Z"
   },
   {
    "duration": 11,
    "start_time": "2023-03-28T18:52:55.596Z"
   },
   {
    "duration": 4,
    "start_time": "2023-03-28T20:27:10.770Z"
   },
   {
    "duration": 58,
    "start_time": "2023-03-28T20:27:12.164Z"
   },
   {
    "duration": 684,
    "start_time": "2023-03-28T20:32:36.535Z"
   },
   {
    "duration": 28,
    "start_time": "2023-03-28T20:33:33.400Z"
   },
   {
    "duration": 6,
    "start_time": "2023-03-28T20:33:41.182Z"
   },
   {
    "duration": 18,
    "start_time": "2023-03-28T20:35:04.252Z"
   },
   {
    "duration": 304,
    "start_time": "2023-03-28T20:38:14.011Z"
   },
   {
    "duration": 614,
    "start_time": "2023-03-28T20:38:35.618Z"
   },
   {
    "duration": 1526,
    "start_time": "2023-03-28T20:38:42.068Z"
   },
   {
    "duration": 6059,
    "start_time": "2023-03-28T20:38:49.470Z"
   },
   {
    "duration": 2158,
    "start_time": "2023-03-28T20:39:02.169Z"
   },
   {
    "duration": 3,
    "start_time": "2023-03-28T20:39:36.424Z"
   },
   {
    "duration": 33,
    "start_time": "2023-03-28T20:39:39.783Z"
   },
   {
    "duration": 62,
    "start_time": "2023-03-28T20:39:50.466Z"
   },
   {
    "duration": 65,
    "start_time": "2023-03-28T20:39:55.193Z"
   },
   {
    "duration": 105,
    "start_time": "2023-03-28T20:40:02.715Z"
   },
   {
    "duration": 1457,
    "start_time": "2023-03-28T20:40:12.006Z"
   },
   {
    "duration": 66,
    "start_time": "2023-03-28T20:40:43.658Z"
   },
   {
    "duration": 67,
    "start_time": "2023-03-28T20:41:48.268Z"
   },
   {
    "duration": 8,
    "start_time": "2023-03-28T20:42:38.257Z"
   },
   {
    "duration": 137,
    "start_time": "2023-03-28T20:47:21.387Z"
   },
   {
    "duration": 2135,
    "start_time": "2023-03-28T20:47:22.922Z"
   },
   {
    "duration": 2191,
    "start_time": "2023-03-28T20:47:46.628Z"
   },
   {
    "duration": 11,
    "start_time": "2023-03-28T20:48:31.613Z"
   },
   {
    "duration": 5,
    "start_time": "2023-03-28T20:48:37.403Z"
   },
   {
    "duration": 10,
    "start_time": "2023-03-28T20:48:43.637Z"
   },
   {
    "duration": 9,
    "start_time": "2023-03-28T20:48:50.486Z"
   },
   {
    "duration": 45,
    "start_time": "2023-03-28T20:49:18.866Z"
   },
   {
    "duration": 3,
    "start_time": "2023-03-28T20:49:46.957Z"
   },
   {
    "duration": 10,
    "start_time": "2023-03-28T20:49:58.208Z"
   },
   {
    "duration": 9,
    "start_time": "2023-03-28T20:50:25.723Z"
   },
   {
    "duration": 5,
    "start_time": "2023-03-28T20:50:30.514Z"
   },
   {
    "duration": 11,
    "start_time": "2023-03-28T20:50:35.688Z"
   },
   {
    "duration": 139,
    "start_time": "2023-03-28T20:51:42.603Z"
   },
   {
    "duration": 2246,
    "start_time": "2023-03-28T20:54:17.732Z"
   },
   {
    "duration": 13,
    "start_time": "2023-03-28T20:56:31.415Z"
   },
   {
    "duration": 4,
    "start_time": "2023-03-28T20:57:00.429Z"
   },
   {
    "duration": 1612,
    "start_time": "2023-03-28T20:57:05.345Z"
   },
   {
    "duration": 1658,
    "start_time": "2023-03-28T20:58:18.956Z"
   },
   {
    "duration": 7014,
    "start_time": "2023-03-28T21:01:53.093Z"
   },
   {
    "duration": 12,
    "start_time": "2023-03-28T21:02:56.191Z"
   },
   {
    "duration": 6904,
    "start_time": "2023-03-28T21:03:06.195Z"
   },
   {
    "duration": 13,
    "start_time": "2023-03-28T21:04:02.356Z"
   },
   {
    "duration": 6781,
    "start_time": "2023-03-28T21:04:11.800Z"
   },
   {
    "duration": 5173,
    "start_time": "2023-03-28T21:06:30.598Z"
   },
   {
    "duration": 4883,
    "start_time": "2023-03-28T21:06:39.394Z"
   },
   {
    "duration": 4694,
    "start_time": "2023-03-28T21:07:02.259Z"
   },
   {
    "duration": 4805,
    "start_time": "2023-03-28T21:07:13.086Z"
   },
   {
    "duration": 12,
    "start_time": "2023-03-28T21:07:53.647Z"
   },
   {
    "duration": 4836,
    "start_time": "2023-03-28T21:08:05.595Z"
   },
   {
    "duration": 7465,
    "start_time": "2023-03-28T21:10:06.718Z"
   },
   {
    "duration": 7712,
    "start_time": "2023-03-28T21:10:25.747Z"
   },
   {
    "duration": 9,
    "start_time": "2023-03-28T21:12:36.061Z"
   },
   {
    "duration": 3,
    "start_time": "2023-03-28T21:12:59.600Z"
   },
   {
    "duration": 8,
    "start_time": "2023-03-28T21:13:04.159Z"
   },
   {
    "duration": 16,
    "start_time": "2023-03-28T21:13:31.814Z"
   },
   {
    "duration": 20813,
    "start_time": "2023-03-28T21:14:12.159Z"
   },
   {
    "duration": 20,
    "start_time": "2023-03-28T21:16:30.838Z"
   },
   {
    "duration": 15,
    "start_time": "2023-03-28T21:20:25.173Z"
   },
   {
    "duration": 15,
    "start_time": "2023-03-28T21:20:52.710Z"
   },
   {
    "duration": 1466,
    "start_time": "2023-03-28T21:22:26.433Z"
   },
   {
    "duration": 1053,
    "start_time": "2023-04-03T10:21:49.558Z"
   },
   {
    "duration": 63,
    "start_time": "2023-04-03T10:21:54.564Z"
   },
   {
    "duration": 18,
    "start_time": "2023-04-03T10:21:56.003Z"
   },
   {
    "duration": 10,
    "start_time": "2023-04-03T10:21:58.066Z"
   },
   {
    "duration": 5,
    "start_time": "2023-04-03T10:21:59.493Z"
   },
   {
    "duration": 7,
    "start_time": "2023-04-03T10:22:00.903Z"
   },
   {
    "duration": 119,
    "start_time": "2023-04-03T10:25:43.672Z"
   },
   {
    "duration": 5,
    "start_time": "2023-04-03T10:25:49.995Z"
   },
   {
    "duration": 11,
    "start_time": "2023-04-03T10:25:51.578Z"
   },
   {
    "duration": 873,
    "start_time": "2023-04-03T10:26:02.402Z"
   },
   {
    "duration": 5,
    "start_time": "2023-04-03T10:26:14.201Z"
   },
   {
    "duration": 9,
    "start_time": "2023-04-03T10:26:54.416Z"
   },
   {
    "duration": 966,
    "start_time": "2023-04-03T10:27:05.563Z"
   },
   {
    "duration": 5,
    "start_time": "2023-04-03T10:27:29.010Z"
   },
   {
    "duration": 8,
    "start_time": "2023-04-03T10:27:42.618Z"
   },
   {
    "duration": 6,
    "start_time": "2023-04-03T10:28:23.014Z"
   },
   {
    "duration": 5,
    "start_time": "2023-04-03T10:50:47.707Z"
   },
   {
    "duration": 10,
    "start_time": "2023-04-03T10:51:01.786Z"
   },
   {
    "duration": 9,
    "start_time": "2023-04-03T10:51:08.803Z"
   },
   {
    "duration": 4,
    "start_time": "2023-04-03T10:51:22.616Z"
   },
   {
    "duration": 6,
    "start_time": "2023-04-03T10:51:23.099Z"
   },
   {
    "duration": 100,
    "start_time": "2023-04-03T10:51:24.581Z"
   },
   {
    "duration": 821,
    "start_time": "2023-04-03T10:51:31.336Z"
   },
   {
    "duration": 6,
    "start_time": "2023-04-03T10:57:07.823Z"
   },
   {
    "duration": 10,
    "start_time": "2023-04-03T10:59:02.274Z"
   },
   {
    "duration": 25,
    "start_time": "2023-04-03T10:59:07.850Z"
   },
   {
    "duration": 5,
    "start_time": "2023-04-03T10:59:48.303Z"
   },
   {
    "duration": 5,
    "start_time": "2023-04-03T11:02:11.393Z"
   },
   {
    "duration": 13,
    "start_time": "2023-04-03T11:02:25.678Z"
   },
   {
    "duration": 12,
    "start_time": "2023-04-03T11:02:28.089Z"
   },
   {
    "duration": 5,
    "start_time": "2023-04-03T11:02:45.298Z"
   },
   {
    "duration": 10,
    "start_time": "2023-04-03T11:02:50.568Z"
   },
   {
    "duration": 15,
    "start_time": "2023-04-03T11:03:02.666Z"
   },
   {
    "duration": 5,
    "start_time": "2023-04-03T11:03:13.898Z"
   },
   {
    "duration": 6,
    "start_time": "2023-04-03T11:03:37.619Z"
   },
   {
    "duration": 15,
    "start_time": "2023-04-03T11:03:54.164Z"
   },
   {
    "duration": 8,
    "start_time": "2023-04-03T11:04:59.922Z"
   },
   {
    "duration": 11,
    "start_time": "2023-04-03T11:05:01.674Z"
   },
   {
    "duration": 8,
    "start_time": "2023-04-03T11:05:02.418Z"
   },
   {
    "duration": 4,
    "start_time": "2023-04-03T11:05:20.890Z"
   },
   {
    "duration": 7,
    "start_time": "2023-04-03T11:05:21.273Z"
   },
   {
    "duration": 6,
    "start_time": "2023-04-03T11:05:21.975Z"
   },
   {
    "duration": 7,
    "start_time": "2023-04-03T11:05:22.473Z"
   },
   {
    "duration": 13,
    "start_time": "2023-04-03T11:08:36.265Z"
   },
   {
    "duration": 4,
    "start_time": "2023-04-03T11:08:37.875Z"
   },
   {
    "duration": 5,
    "start_time": "2023-04-03T11:08:40.226Z"
   },
   {
    "duration": 13,
    "start_time": "2023-04-03T11:08:48.839Z"
   },
   {
    "duration": 25,
    "start_time": "2023-04-03T11:08:50.266Z"
   },
   {
    "duration": 13,
    "start_time": "2023-04-03T11:08:50.922Z"
   },
   {
    "duration": 10,
    "start_time": "2023-04-03T11:08:52.182Z"
   },
   {
    "duration": 5,
    "start_time": "2023-04-03T11:08:54.067Z"
   },
   {
    "duration": 7,
    "start_time": "2023-04-03T11:08:54.766Z"
   },
   {
    "duration": 21,
    "start_time": "2023-04-03T11:08:56.285Z"
   },
   {
    "duration": 12,
    "start_time": "2023-04-03T11:08:57.347Z"
   },
   {
    "duration": 4,
    "start_time": "2023-04-03T11:08:59.085Z"
   },
   {
    "duration": 10,
    "start_time": "2023-04-03T11:08:59.868Z"
   },
   {
    "duration": 4,
    "start_time": "2023-04-03T11:09:01.793Z"
   },
   {
    "duration": 5,
    "start_time": "2023-04-03T11:09:02.911Z"
   },
   {
    "duration": 11,
    "start_time": "2023-04-03T11:22:13.251Z"
   },
   {
    "duration": 10,
    "start_time": "2023-04-03T11:23:57.673Z"
   },
   {
    "duration": 9,
    "start_time": "2023-04-03T11:26:14.684Z"
   },
   {
    "duration": 9,
    "start_time": "2023-04-03T11:26:31.909Z"
   },
   {
    "duration": 10,
    "start_time": "2023-04-03T11:26:59.213Z"
   },
   {
    "duration": 9,
    "start_time": "2023-04-03T11:27:05.281Z"
   },
   {
    "duration": 11740,
    "start_time": "2023-04-03T11:36:12.019Z"
   },
   {
    "duration": 1121,
    "start_time": "2023-04-03T11:36:33.114Z"
   },
   {
    "duration": 0,
    "start_time": "2023-04-03T11:38:52.958Z"
   },
   {
    "duration": 0,
    "start_time": "2023-04-03T11:40:28.584Z"
   },
   {
    "duration": 382,
    "start_time": "2023-04-03T11:40:33.201Z"
   },
   {
    "duration": 919,
    "start_time": "2023-04-03T11:40:40.382Z"
   },
   {
    "duration": 30,
    "start_time": "2023-04-03T11:42:05.486Z"
   },
   {
    "duration": 23,
    "start_time": "2023-04-03T11:43:03.504Z"
   },
   {
    "duration": 9,
    "start_time": "2023-04-03T11:43:10.636Z"
   },
   {
    "duration": 27,
    "start_time": "2023-04-03T11:43:14.249Z"
   },
   {
    "duration": 4,
    "start_time": "2023-04-03T11:43:40.674Z"
   },
   {
    "duration": 1099,
    "start_time": "2023-04-03T11:47:02.498Z"
   },
   {
    "duration": 4,
    "start_time": "2023-04-03T11:47:09.723Z"
   },
   {
    "duration": 1182,
    "start_time": "2023-04-03T11:47:18.285Z"
   },
   {
    "duration": 1102,
    "start_time": "2023-04-03T11:48:49.610Z"
   },
   {
    "duration": 1160,
    "start_time": "2023-04-03T11:50:50.386Z"
   },
   {
    "duration": 4,
    "start_time": "2023-04-03T11:55:26.373Z"
   },
   {
    "duration": 1229,
    "start_time": "2023-04-03T11:55:42.174Z"
   },
   {
    "duration": 1019,
    "start_time": "2023-04-03T11:56:25.618Z"
   },
   {
    "duration": 3,
    "start_time": "2023-04-03T11:56:32.135Z"
   },
   {
    "duration": 1267,
    "start_time": "2023-04-03T11:56:33.831Z"
   },
   {
    "duration": 6,
    "start_time": "2023-04-03T11:56:48.356Z"
   },
   {
    "duration": 1241,
    "start_time": "2023-04-03T11:56:49.883Z"
   },
   {
    "duration": 4,
    "start_time": "2023-04-03T11:57:17.876Z"
   },
   {
    "duration": 1376,
    "start_time": "2023-04-03T11:57:18.520Z"
   },
   {
    "duration": 5,
    "start_time": "2023-04-03T11:57:44.767Z"
   },
   {
    "duration": 1342,
    "start_time": "2023-04-03T11:57:45.370Z"
   },
   {
    "duration": 4,
    "start_time": "2023-04-03T11:58:41.166Z"
   },
   {
    "duration": 1380,
    "start_time": "2023-04-03T11:58:41.639Z"
   },
   {
    "duration": 4,
    "start_time": "2023-04-03T11:59:03.819Z"
   },
   {
    "duration": 1451,
    "start_time": "2023-04-03T11:59:05.967Z"
   },
   {
    "duration": 4,
    "start_time": "2023-04-03T12:00:18.070Z"
   },
   {
    "duration": 1442,
    "start_time": "2023-04-03T12:00:19.162Z"
   },
   {
    "duration": 1460,
    "start_time": "2023-04-03T12:00:29.269Z"
   },
   {
    "duration": 647,
    "start_time": "2023-04-03T12:00:39.370Z"
   },
   {
    "duration": 6,
    "start_time": "2023-04-03T12:01:35.915Z"
   },
   {
    "duration": 729,
    "start_time": "2023-04-03T12:01:36.605Z"
   },
   {
    "duration": 5,
    "start_time": "2023-04-03T12:04:43.933Z"
   },
   {
    "duration": 435,
    "start_time": "2023-04-03T12:04:44.977Z"
   },
   {
    "duration": 668,
    "start_time": "2023-04-03T12:05:00.643Z"
   },
   {
    "duration": 715,
    "start_time": "2023-04-03T12:06:43.122Z"
   },
   {
    "duration": 4,
    "start_time": "2023-04-03T12:07:06.485Z"
   },
   {
    "duration": 667,
    "start_time": "2023-04-03T12:07:08.101Z"
   },
   {
    "duration": 19,
    "start_time": "2023-04-03T12:08:05.450Z"
   },
   {
    "duration": 623,
    "start_time": "2023-04-03T12:08:17.663Z"
   },
   {
    "duration": 613,
    "start_time": "2023-04-03T12:08:44.507Z"
   },
   {
    "duration": 734,
    "start_time": "2023-04-03T12:08:55.787Z"
   },
   {
    "duration": 5,
    "start_time": "2023-04-03T12:09:54.223Z"
   },
   {
    "duration": 21,
    "start_time": "2023-04-03T12:12:15.228Z"
   },
   {
    "duration": 19,
    "start_time": "2023-04-03T12:13:36.034Z"
   },
   {
    "duration": 11,
    "start_time": "2023-04-03T12:17:12.315Z"
   },
   {
    "duration": 14,
    "start_time": "2023-04-03T12:19:34.772Z"
   },
   {
    "duration": 14,
    "start_time": "2023-04-03T12:21:51.468Z"
   },
   {
    "duration": 10,
    "start_time": "2023-04-03T12:22:01.176Z"
   },
   {
    "duration": 10,
    "start_time": "2023-04-03T12:22:15.376Z"
   },
   {
    "duration": 10,
    "start_time": "2023-04-03T12:22:21.467Z"
   },
   {
    "duration": 12,
    "start_time": "2023-04-03T12:22:33.272Z"
   },
   {
    "duration": 15,
    "start_time": "2023-04-03T12:26:32.307Z"
   },
   {
    "duration": 642,
    "start_time": "2023-04-03T12:26:51.561Z"
   },
   {
    "duration": 4,
    "start_time": "2023-04-03T12:28:47.788Z"
   },
   {
    "duration": 601,
    "start_time": "2023-04-03T12:28:48.605Z"
   },
   {
    "duration": 3,
    "start_time": "2023-04-03T12:29:10.215Z"
   },
   {
    "duration": 611,
    "start_time": "2023-04-03T12:29:10.661Z"
   },
   {
    "duration": 20,
    "start_time": "2023-04-03T12:29:19.938Z"
   },
   {
    "duration": 574,
    "start_time": "2023-04-03T12:29:20.777Z"
   },
   {
    "duration": 4,
    "start_time": "2023-04-03T12:29:35.618Z"
   },
   {
    "duration": 622,
    "start_time": "2023-04-03T12:29:36.523Z"
   },
   {
    "duration": 477,
    "start_time": "2023-04-03T12:29:58.799Z"
   },
   {
    "duration": 503,
    "start_time": "2023-04-03T12:31:42.293Z"
   },
   {
    "duration": 20,
    "start_time": "2023-04-03T12:31:57.793Z"
   },
   {
    "duration": 601,
    "start_time": "2023-04-03T12:32:21.890Z"
   },
   {
    "duration": 474,
    "start_time": "2023-04-03T12:32:38.719Z"
   },
   {
    "duration": 9,
    "start_time": "2023-04-03T12:36:03.700Z"
   },
   {
    "duration": 4,
    "start_time": "2023-04-03T12:36:10.233Z"
   },
   {
    "duration": 13,
    "start_time": "2023-04-03T12:36:17.903Z"
   },
   {
    "duration": 10,
    "start_time": "2023-04-03T12:36:43.717Z"
   },
   {
    "duration": 12,
    "start_time": "2023-04-03T12:37:21.473Z"
   },
   {
    "duration": 332,
    "start_time": "2023-04-03T12:38:15.673Z"
   },
   {
    "duration": 502,
    "start_time": "2023-04-03T12:38:36.423Z"
   },
   {
    "duration": 411,
    "start_time": "2023-04-03T12:39:49.975Z"
   },
   {
    "duration": 434,
    "start_time": "2023-04-03T12:40:20.888Z"
   },
   {
    "duration": 441,
    "start_time": "2023-04-03T12:50:40.678Z"
   },
   {
    "duration": 641,
    "start_time": "2023-04-03T12:51:19.131Z"
   },
   {
    "duration": 605,
    "start_time": "2023-04-03T13:05:33.408Z"
   },
   {
    "duration": 624,
    "start_time": "2023-04-03T13:07:14.140Z"
   },
   {
    "duration": 4,
    "start_time": "2023-04-03T13:08:03.991Z"
   },
   {
    "duration": 648,
    "start_time": "2023-04-03T13:08:10.176Z"
   },
   {
    "duration": 5,
    "start_time": "2023-04-03T13:13:52.668Z"
   },
   {
    "duration": 5,
    "start_time": "2023-04-03T13:13:54.275Z"
   },
   {
    "duration": 687,
    "start_time": "2023-04-03T13:13:58.744Z"
   },
   {
    "duration": 10,
    "start_time": "2023-04-03T13:17:51.391Z"
   },
   {
    "duration": 148,
    "start_time": "2023-04-03T13:19:46.416Z"
   },
   {
    "duration": 42,
    "start_time": "2023-04-03T13:24:21.785Z"
   },
   {
    "duration": 49,
    "start_time": "2023-04-03T13:24:27.242Z"
   },
   {
    "duration": 702,
    "start_time": "2023-04-03T13:25:26.732Z"
   },
   {
    "duration": 1972,
    "start_time": "2023-04-03T13:26:37.011Z"
   },
   {
    "duration": 12,
    "start_time": "2023-04-03T13:27:04.756Z"
   },
   {
    "duration": 4,
    "start_time": "2023-04-03T13:27:10.879Z"
   },
   {
    "duration": 605,
    "start_time": "2023-04-03T13:27:11.377Z"
   },
   {
    "duration": 6,
    "start_time": "2023-04-03T13:27:26.667Z"
   },
   {
    "duration": 8,
    "start_time": "2023-04-03T13:27:28.188Z"
   },
   {
    "duration": 7,
    "start_time": "2023-04-03T13:27:31.190Z"
   },
   {
    "duration": 6,
    "start_time": "2023-04-03T13:27:32.752Z"
   },
   {
    "duration": 9,
    "start_time": "2023-04-03T13:27:33.071Z"
   },
   {
    "duration": 8,
    "start_time": "2023-04-03T13:27:34.373Z"
   },
   {
    "duration": 9,
    "start_time": "2023-04-03T13:27:34.961Z"
   },
   {
    "duration": 4,
    "start_time": "2023-04-03T13:29:39.887Z"
   },
   {
    "duration": 46,
    "start_time": "2023-04-03T16:29:26.025Z"
   },
   {
    "duration": 1360,
    "start_time": "2023-04-03T16:29:29.770Z"
   },
   {
    "duration": 65,
    "start_time": "2023-04-03T16:29:31.131Z"
   },
   {
    "duration": 17,
    "start_time": "2023-04-03T16:29:31.197Z"
   },
   {
    "duration": 18,
    "start_time": "2023-04-03T16:29:31.216Z"
   },
   {
    "duration": 10,
    "start_time": "2023-04-03T16:29:31.236Z"
   },
   {
    "duration": 5,
    "start_time": "2023-04-03T16:29:31.668Z"
   },
   {
    "duration": 6,
    "start_time": "2023-04-03T16:29:31.894Z"
   },
   {
    "duration": 7,
    "start_time": "2023-04-03T16:29:32.082Z"
   },
   {
    "duration": 4,
    "start_time": "2023-04-03T16:29:33.474Z"
   },
   {
    "duration": 9,
    "start_time": "2023-04-03T16:29:34.120Z"
   },
   {
    "duration": 4,
    "start_time": "2023-04-03T16:29:35.284Z"
   },
   {
    "duration": 7,
    "start_time": "2023-04-03T16:29:35.833Z"
   },
   {
    "duration": 4,
    "start_time": "2023-04-03T16:29:36.338Z"
   },
   {
    "duration": 3,
    "start_time": "2023-04-03T16:30:38.810Z"
   },
   {
    "duration": 473,
    "start_time": "2023-04-03T16:30:40.134Z"
   },
   {
    "duration": 474,
    "start_time": "2023-04-03T16:30:50.769Z"
   },
   {
    "duration": 682,
    "start_time": "2023-04-03T16:30:56.838Z"
   },
   {
    "duration": 66,
    "start_time": "2023-04-03T16:32:41.959Z"
   },
   {
    "duration": 1733,
    "start_time": "2023-04-03T16:32:43.977Z"
   },
   {
    "duration": 12,
    "start_time": "2023-04-03T16:32:53.104Z"
   },
   {
    "duration": 4,
    "start_time": "2023-04-03T16:33:49.607Z"
   },
   {
    "duration": 11,
    "start_time": "2023-04-03T16:33:54.920Z"
   },
   {
    "duration": 4,
    "start_time": "2023-04-03T16:34:57.136Z"
   },
   {
    "duration": 11,
    "start_time": "2023-04-03T16:35:01.951Z"
   },
   {
    "duration": 4,
    "start_time": "2023-04-03T16:35:56.179Z"
   },
   {
    "duration": 11,
    "start_time": "2023-04-03T16:36:00.906Z"
   },
   {
    "duration": 3,
    "start_time": "2023-04-03T16:36:44.758Z"
   },
   {
    "duration": 6240,
    "start_time": "2023-04-03T16:36:50.089Z"
   },
   {
    "duration": 84,
    "start_time": "2023-04-03T16:42:15.511Z"
   },
   {
    "duration": 18,
    "start_time": "2023-04-03T16:44:09.641Z"
   },
   {
    "duration": 15,
    "start_time": "2023-04-03T16:45:03.560Z"
   },
   {
    "duration": 16,
    "start_time": "2023-04-03T16:45:10.836Z"
   },
   {
    "duration": 93,
    "start_time": "2023-04-03T16:46:31.900Z"
   },
   {
    "duration": 10,
    "start_time": "2023-04-03T16:49:39.126Z"
   },
   {
    "duration": 3,
    "start_time": "2023-04-03T16:50:01.438Z"
   },
   {
    "duration": 9,
    "start_time": "2023-04-03T16:50:09.665Z"
   },
   {
    "duration": 11,
    "start_time": "2023-04-03T16:51:11.726Z"
   },
   {
    "duration": 28433,
    "start_time": "2023-04-03T16:51:21.359Z"
   },
   {
    "duration": 37291,
    "start_time": "2023-04-03T16:51:54.894Z"
   },
   {
    "duration": 13429,
    "start_time": "2023-04-03T16:53:07.365Z"
   },
   {
    "duration": 15010,
    "start_time": "2023-04-03T16:53:22.447Z"
   },
   {
    "duration": 15205,
    "start_time": "2023-04-03T16:54:04.417Z"
   },
   {
    "duration": 1851,
    "start_time": "2023-04-03T16:56:56.539Z"
   },
   {
    "duration": 14595,
    "start_time": "2023-04-03T16:57:34.032Z"
   },
   {
    "duration": 8,
    "start_time": "2023-04-03T16:59:26.319Z"
   },
   {
    "duration": 24,
    "start_time": "2023-04-03T16:59:37.442Z"
   },
   {
    "duration": 18,
    "start_time": "2023-04-03T17:00:10.212Z"
   },
   {
    "duration": 4,
    "start_time": "2023-04-03T17:02:59.877Z"
   },
   {
    "duration": 129,
    "start_time": "2023-04-03T17:03:00.367Z"
   },
   {
    "duration": 109,
    "start_time": "2023-04-03T17:03:26.112Z"
   },
   {
    "duration": 745,
    "start_time": "2023-04-03T17:03:31.904Z"
   },
   {
    "duration": 745,
    "start_time": "2023-04-03T17:04:38.941Z"
   },
   {
    "duration": 709,
    "start_time": "2023-04-03T17:05:25.639Z"
   },
   {
    "duration": 754,
    "start_time": "2023-04-03T17:05:35.264Z"
   },
   {
    "duration": 740,
    "start_time": "2023-04-03T17:05:50.525Z"
   },
   {
    "duration": 925,
    "start_time": "2023-04-03T17:05:56.057Z"
   },
   {
    "duration": 737,
    "start_time": "2023-04-03T17:07:14.183Z"
   },
   {
    "duration": 182,
    "start_time": "2023-04-03T18:27:14.032Z"
   },
   {
    "duration": 480,
    "start_time": "2023-04-03T18:33:55.943Z"
   },
   {
    "duration": 191,
    "start_time": "2023-04-03T18:35:34.848Z"
   },
   {
    "duration": 16,
    "start_time": "2023-04-03T18:36:15.223Z"
   },
   {
    "duration": 745,
    "start_time": "2023-04-03T18:37:01.204Z"
   },
   {
    "duration": 8,
    "start_time": "2023-04-03T18:39:27.635Z"
   },
   {
    "duration": 279,
    "start_time": "2023-04-03T18:45:06.315Z"
   },
   {
    "duration": 6,
    "start_time": "2023-04-03T18:45:26.429Z"
   },
   {
    "duration": 252,
    "start_time": "2023-04-03T18:45:32.821Z"
   },
   {
    "duration": 113,
    "start_time": "2023-04-03T18:45:55.648Z"
   },
   {
    "duration": 249,
    "start_time": "2023-04-03T18:46:05.030Z"
   },
   {
    "duration": 1865,
    "start_time": "2023-04-04T07:46:31.410Z"
   },
   {
    "duration": 141,
    "start_time": "2023-04-04T07:46:34.367Z"
   },
   {
    "duration": 24,
    "start_time": "2023-04-04T07:46:35.381Z"
   },
   {
    "duration": 13,
    "start_time": "2023-04-04T07:46:40.738Z"
   },
   {
    "duration": 7,
    "start_time": "2023-04-04T07:46:42.505Z"
   },
   {
    "duration": 7,
    "start_time": "2023-04-04T07:46:44.115Z"
   },
   {
    "duration": 7,
    "start_time": "2023-04-04T07:46:44.537Z"
   },
   {
    "duration": 9,
    "start_time": "2023-04-04T07:46:45.114Z"
   },
   {
    "duration": 4,
    "start_time": "2023-04-04T07:54:27.760Z"
   },
   {
    "duration": 136,
    "start_time": "2023-04-04T07:56:16.670Z"
   },
   {
    "duration": 5,
    "start_time": "2023-04-04T07:56:27.484Z"
   },
   {
    "duration": 10,
    "start_time": "2023-04-04T07:56:28.026Z"
   },
   {
    "duration": 6,
    "start_time": "2023-04-04T07:56:30.788Z"
   },
   {
    "duration": 7,
    "start_time": "2023-04-04T07:56:31.705Z"
   },
   {
    "duration": 1935,
    "start_time": "2023-04-04T07:56:43.449Z"
   },
   {
    "duration": 4,
    "start_time": "2023-04-04T07:57:39.466Z"
   },
   {
    "duration": 4296,
    "start_time": "2023-04-04T07:57:46.023Z"
   },
   {
    "duration": 4215,
    "start_time": "2023-04-04T07:57:57.325Z"
   },
   {
    "duration": 3,
    "start_time": "2023-04-04T07:58:03.222Z"
   },
   {
    "duration": 2478,
    "start_time": "2023-04-04T07:58:09.954Z"
   },
   {
    "duration": 3,
    "start_time": "2023-04-04T07:58:13.415Z"
   },
   {
    "duration": 6,
    "start_time": "2023-04-04T08:00:40.117Z"
   },
   {
    "duration": 6,
    "start_time": "2023-04-04T08:00:46.713Z"
   },
   {
    "duration": 7,
    "start_time": "2023-04-04T08:00:48.974Z"
   },
   {
    "duration": 4,
    "start_time": "2023-04-04T08:00:57.259Z"
   },
   {
    "duration": 6,
    "start_time": "2023-04-04T08:00:57.629Z"
   },
   {
    "duration": 5,
    "start_time": "2023-04-04T08:00:59.513Z"
   },
   {
    "duration": 6,
    "start_time": "2023-04-04T08:01:03.277Z"
   },
   {
    "duration": 4,
    "start_time": "2023-04-04T08:01:25.157Z"
   },
   {
    "duration": 29,
    "start_time": "2023-04-04T08:01:26.070Z"
   },
   {
    "duration": 14,
    "start_time": "2023-04-04T08:01:26.626Z"
   },
   {
    "duration": 13,
    "start_time": "2023-04-04T08:01:28.540Z"
   },
   {
    "duration": 5,
    "start_time": "2023-04-04T08:01:29.420Z"
   },
   {
    "duration": 6,
    "start_time": "2023-04-04T08:01:30.310Z"
   },
   {
    "duration": 7,
    "start_time": "2023-04-04T08:01:31.746Z"
   },
   {
    "duration": 7,
    "start_time": "2023-04-04T08:01:32.136Z"
   },
   {
    "duration": 5,
    "start_time": "2023-04-04T08:01:34.154Z"
   },
   {
    "duration": 6,
    "start_time": "2023-04-04T08:01:34.765Z"
   },
   {
    "duration": 5,
    "start_time": "2023-04-04T08:01:43.589Z"
   },
   {
    "duration": 7,
    "start_time": "2023-04-04T08:01:46.013Z"
   },
   {
    "duration": 522,
    "start_time": "2023-04-04T08:01:50.235Z"
   },
   {
    "duration": 347,
    "start_time": "2023-04-04T08:01:52.213Z"
   },
   {
    "duration": 17728,
    "start_time": "2023-04-04T08:01:52.563Z"
   },
   {
    "duration": 29,
    "start_time": "2023-04-04T08:02:10.294Z"
   },
   {
    "duration": 4,
    "start_time": "2023-04-04T08:02:10.325Z"
   },
   {
    "duration": 886,
    "start_time": "2023-04-04T08:02:10.331Z"
   },
   {
    "duration": 2199,
    "start_time": "2023-04-04T08:02:11.219Z"
   },
   {
    "duration": 12,
    "start_time": "2023-04-04T08:02:13.421Z"
   },
   {
    "duration": 0,
    "start_time": "2023-04-04T08:02:13.436Z"
   },
   {
    "duration": 0,
    "start_time": "2023-04-04T08:02:13.437Z"
   },
   {
    "duration": 0,
    "start_time": "2023-04-04T08:02:13.439Z"
   },
   {
    "duration": 0,
    "start_time": "2023-04-04T08:02:13.440Z"
   },
   {
    "duration": 5,
    "start_time": "2023-04-04T08:17:44.282Z"
   },
   {
    "duration": 70802,
    "start_time": "2023-04-04T08:18:19.544Z"
   },
   {
    "duration": 4,
    "start_time": "2023-04-04T08:24:32.659Z"
   },
   {
    "duration": 16,
    "start_time": "2023-04-04T08:30:28.315Z"
   },
   {
    "duration": 12,
    "start_time": "2023-04-04T08:46:39.900Z"
   },
   {
    "duration": 69032,
    "start_time": "2023-04-04T08:46:52.487Z"
   },
   {
    "duration": 643407,
    "start_time": "2023-04-04T08:49:23.546Z"
   },
   {
    "duration": 63506,
    "start_time": "2023-04-04T09:01:35.309Z"
   },
   {
    "duration": 44081,
    "start_time": "2023-04-04T09:03:11.609Z"
   },
   {
    "duration": 4,
    "start_time": "2023-04-04T09:05:16.888Z"
   },
   {
    "duration": 109,
    "start_time": "2023-04-04T09:07:13.951Z"
   },
   {
    "duration": 272,
    "start_time": "2023-04-04T09:14:05.559Z"
   },
   {
    "duration": 26,
    "start_time": "2023-04-04T09:14:39.717Z"
   },
   {
    "duration": 17,
    "start_time": "2023-04-04T09:15:09.658Z"
   },
   {
    "duration": 19,
    "start_time": "2023-04-04T09:17:31.169Z"
   },
   {
    "duration": 17,
    "start_time": "2023-04-04T09:17:43.616Z"
   },
   {
    "duration": 15,
    "start_time": "2023-04-04T09:20:04.774Z"
   },
   {
    "duration": 5,
    "start_time": "2023-04-04T09:20:22.606Z"
   },
   {
    "duration": 11,
    "start_time": "2023-04-04T09:22:04.030Z"
   },
   {
    "duration": 5,
    "start_time": "2023-04-04T09:25:02.100Z"
   },
   {
    "duration": 30,
    "start_time": "2023-04-04T09:25:39.854Z"
   },
   {
    "duration": 107,
    "start_time": "2023-04-04T09:26:28.829Z"
   },
   {
    "duration": 27,
    "start_time": "2023-04-04T09:26:46.052Z"
   },
   {
    "duration": 30,
    "start_time": "2023-04-04T09:27:20.970Z"
   },
   {
    "duration": 39,
    "start_time": "2023-04-04T09:27:41.319Z"
   },
   {
    "duration": 17,
    "start_time": "2023-04-04T09:31:07.868Z"
   },
   {
    "duration": 10,
    "start_time": "2023-04-04T09:32:09.835Z"
   },
   {
    "duration": 16,
    "start_time": "2023-04-04T09:32:35.834Z"
   },
   {
    "duration": 12,
    "start_time": "2023-04-04T09:33:06.267Z"
   },
   {
    "duration": 10,
    "start_time": "2023-04-04T09:33:17.465Z"
   },
   {
    "duration": 10,
    "start_time": "2023-04-04T09:33:39.869Z"
   },
   {
    "duration": 25,
    "start_time": "2023-04-04T09:34:37.300Z"
   },
   {
    "duration": 43904,
    "start_time": "2023-04-04T09:34:50.430Z"
   },
   {
    "duration": 4,
    "start_time": "2023-04-04T09:35:34.337Z"
   },
   {
    "duration": 15,
    "start_time": "2023-04-04T09:36:33.770Z"
   },
   {
    "duration": 13,
    "start_time": "2023-04-04T09:37:47.702Z"
   },
   {
    "duration": 11,
    "start_time": "2023-04-04T09:37:58.454Z"
   },
   {
    "duration": 21,
    "start_time": "2023-04-04T09:38:12.856Z"
   },
   {
    "duration": 14,
    "start_time": "2023-04-04T09:38:23.988Z"
   },
   {
    "duration": 4,
    "start_time": "2023-04-04T09:43:22.897Z"
   },
   {
    "duration": 4,
    "start_time": "2023-04-04T09:43:52.519Z"
   },
   {
    "duration": 415,
    "start_time": "2023-04-04T09:45:42.864Z"
   },
   {
    "duration": 493,
    "start_time": "2023-04-04T09:46:06.020Z"
   },
   {
    "duration": 243,
    "start_time": "2023-04-04T09:46:37.815Z"
   },
   {
    "duration": 201,
    "start_time": "2023-04-04T09:46:38.590Z"
   },
   {
    "duration": 28,
    "start_time": "2023-04-04T09:48:55.452Z"
   },
   {
    "duration": 60,
    "start_time": "2023-04-04T10:10:57.993Z"
   },
   {
    "duration": 113,
    "start_time": "2023-04-04T10:11:06.573Z"
   },
   {
    "duration": 12,
    "start_time": "2023-04-04T10:18:50.801Z"
   },
   {
    "duration": 7,
    "start_time": "2023-04-04T10:19:42.543Z"
   },
   {
    "duration": 14,
    "start_time": "2023-04-04T10:19:55.481Z"
   },
   {
    "duration": 4,
    "start_time": "2023-04-04T10:21:23.584Z"
   },
   {
    "duration": 158,
    "start_time": "2023-04-04T10:21:30.305Z"
   },
   {
    "duration": 4,
    "start_time": "2023-04-04T10:24:25.049Z"
   },
   {
    "duration": 14,
    "start_time": "2023-04-04T10:24:42.539Z"
   },
   {
    "duration": 163,
    "start_time": "2023-04-04T10:27:04.245Z"
   },
   {
    "duration": 10,
    "start_time": "2023-04-04T10:28:38.369Z"
   },
   {
    "duration": 4,
    "start_time": "2023-04-04T10:50:44.500Z"
   },
   {
    "duration": 29,
    "start_time": "2023-04-04T10:50:45.332Z"
   },
   {
    "duration": 15,
    "start_time": "2023-04-04T10:50:45.887Z"
   },
   {
    "duration": 19,
    "start_time": "2023-04-04T10:50:47.173Z"
   },
   {
    "duration": 5,
    "start_time": "2023-04-04T10:50:48.588Z"
   },
   {
    "duration": 6,
    "start_time": "2023-04-04T10:50:49.303Z"
   },
   {
    "duration": 8,
    "start_time": "2023-04-04T10:50:49.471Z"
   },
   {
    "duration": 8,
    "start_time": "2023-04-04T10:50:49.667Z"
   },
   {
    "duration": 5,
    "start_time": "2023-04-04T10:50:50.351Z"
   },
   {
    "duration": 11,
    "start_time": "2023-04-04T10:50:50.552Z"
   },
   {
    "duration": 4,
    "start_time": "2023-04-04T10:50:51.127Z"
   },
   {
    "duration": 7,
    "start_time": "2023-04-04T10:50:51.461Z"
   },
   {
    "duration": 70864,
    "start_time": "2023-04-04T10:50:52.775Z"
   },
   {
    "duration": 18,
    "start_time": "2023-04-04T10:52:03.641Z"
   },
   {
    "duration": 41924,
    "start_time": "2023-04-04T10:52:03.660Z"
   },
   {
    "duration": 13,
    "start_time": "2023-04-04T10:52:45.586Z"
   },
   {
    "duration": 38,
    "start_time": "2023-04-04T10:52:45.601Z"
   },
   {
    "duration": 17,
    "start_time": "2023-04-04T10:52:45.641Z"
   },
   {
    "duration": 31,
    "start_time": "2023-04-04T10:52:45.660Z"
   },
   {
    "duration": 3,
    "start_time": "2023-04-04T10:52:45.693Z"
   },
   {
    "duration": 233,
    "start_time": "2023-04-04T10:52:45.717Z"
   },
   {
    "duration": 216,
    "start_time": "2023-04-04T10:52:45.952Z"
   },
   {
    "duration": 94,
    "start_time": "2023-04-04T10:52:46.170Z"
   },
   {
    "duration": 181,
    "start_time": "2023-04-04T10:52:46.265Z"
   },
   {
    "duration": 9,
    "start_time": "2023-04-04T10:52:46.448Z"
   },
   {
    "duration": 79,
    "start_time": "2023-04-04T10:52:46.459Z"
   },
   {
    "duration": 0,
    "start_time": "2023-04-04T10:52:46.540Z"
   },
   {
    "duration": 0,
    "start_time": "2023-04-04T10:52:46.541Z"
   },
   {
    "duration": 163,
    "start_time": "2023-04-04T10:53:00.305Z"
   },
   {
    "duration": 13,
    "start_time": "2023-04-04T10:53:01.946Z"
   },
   {
    "duration": 1529,
    "start_time": "2023-04-04T11:04:33.453Z"
   },
   {
    "duration": 31,
    "start_time": "2023-04-04T11:04:34.984Z"
   },
   {
    "duration": 32,
    "start_time": "2023-04-04T11:04:35.016Z"
   },
   {
    "duration": 12,
    "start_time": "2023-04-04T11:04:35.049Z"
   },
   {
    "duration": 6,
    "start_time": "2023-04-04T11:04:35.064Z"
   },
   {
    "duration": 30,
    "start_time": "2023-04-04T11:04:35.071Z"
   },
   {
    "duration": 22,
    "start_time": "2023-04-04T11:04:35.118Z"
   },
   {
    "duration": 16,
    "start_time": "2023-04-04T11:04:35.142Z"
   },
   {
    "duration": 8,
    "start_time": "2023-04-04T11:04:35.160Z"
   },
   {
    "duration": 20,
    "start_time": "2023-04-04T11:04:35.169Z"
   },
   {
    "duration": 5,
    "start_time": "2023-04-04T11:04:35.191Z"
   },
   {
    "duration": 39,
    "start_time": "2023-04-04T11:04:35.198Z"
   },
   {
    "duration": 73381,
    "start_time": "2023-04-04T11:04:35.240Z"
   },
   {
    "duration": 20,
    "start_time": "2023-04-04T11:05:48.634Z"
   },
   {
    "duration": 41484,
    "start_time": "2023-04-04T11:05:48.656Z"
   },
   {
    "duration": 13,
    "start_time": "2023-04-04T11:06:30.143Z"
   },
   {
    "duration": 20,
    "start_time": "2023-04-04T11:06:30.158Z"
   },
   {
    "duration": 47,
    "start_time": "2023-04-04T11:06:30.180Z"
   },
   {
    "duration": 34,
    "start_time": "2023-04-04T11:06:30.229Z"
   },
   {
    "duration": 3,
    "start_time": "2023-04-04T11:06:30.264Z"
   },
   {
    "duration": 233,
    "start_time": "2023-04-04T11:06:30.269Z"
   },
   {
    "duration": 231,
    "start_time": "2023-04-04T11:06:30.504Z"
   },
   {
    "duration": 98,
    "start_time": "2023-04-04T11:06:30.737Z"
   },
   {
    "duration": 114,
    "start_time": "2023-04-04T11:06:30.836Z"
   },
   {
    "duration": 0,
    "start_time": "2023-04-04T11:06:30.952Z"
   },
   {
    "duration": 0,
    "start_time": "2023-04-04T11:06:30.953Z"
   },
   {
    "duration": 0,
    "start_time": "2023-04-04T11:06:30.953Z"
   },
   {
    "duration": 0,
    "start_time": "2023-04-04T11:06:30.954Z"
   },
   {
    "duration": 132,
    "start_time": "2023-04-04T11:07:44.119Z"
   },
   {
    "duration": 5,
    "start_time": "2023-04-04T11:08:52.586Z"
   },
   {
    "duration": 1310,
    "start_time": "2023-04-04T11:08:59.550Z"
   },
   {
    "duration": 30,
    "start_time": "2023-04-04T11:09:00.863Z"
   },
   {
    "duration": 44,
    "start_time": "2023-04-04T11:09:00.896Z"
   },
   {
    "duration": 37,
    "start_time": "2023-04-04T11:09:00.943Z"
   },
   {
    "duration": 26,
    "start_time": "2023-04-04T11:09:00.983Z"
   },
   {
    "duration": 44,
    "start_time": "2023-04-04T11:09:01.011Z"
   },
   {
    "duration": 71,
    "start_time": "2023-04-04T11:09:01.057Z"
   },
   {
    "duration": 43,
    "start_time": "2023-04-04T11:09:01.130Z"
   },
   {
    "duration": 59,
    "start_time": "2023-04-04T11:09:01.175Z"
   },
   {
    "duration": 56,
    "start_time": "2023-04-04T11:09:01.236Z"
   },
   {
    "duration": 65,
    "start_time": "2023-04-04T11:09:01.294Z"
   },
   {
    "duration": 58,
    "start_time": "2023-04-04T11:09:01.362Z"
   },
   {
    "duration": 72191,
    "start_time": "2023-04-04T11:09:01.427Z"
   },
   {
    "duration": 25,
    "start_time": "2023-04-04T11:10:13.629Z"
   },
   {
    "duration": 48450,
    "start_time": "2023-04-04T11:10:13.656Z"
   },
   {
    "duration": 45,
    "start_time": "2023-04-04T11:11:02.109Z"
   },
   {
    "duration": 79,
    "start_time": "2023-04-04T11:11:02.157Z"
   },
   {
    "duration": 49,
    "start_time": "2023-04-04T11:11:02.239Z"
   },
   {
    "duration": 94,
    "start_time": "2023-04-04T11:11:02.291Z"
   },
   {
    "duration": 28,
    "start_time": "2023-04-04T11:11:02.387Z"
   },
   {
    "duration": 394,
    "start_time": "2023-04-04T11:11:02.417Z"
   },
   {
    "duration": 321,
    "start_time": "2023-04-04T11:11:02.813Z"
   },
   {
    "duration": 125,
    "start_time": "2023-04-04T11:11:03.140Z"
   },
   {
    "duration": 370,
    "start_time": "2023-04-04T11:11:03.273Z"
   },
   {
    "duration": 0,
    "start_time": "2023-04-04T11:11:03.650Z"
   },
   {
    "duration": 0,
    "start_time": "2023-04-04T11:11:03.653Z"
   },
   {
    "duration": 0,
    "start_time": "2023-04-04T11:11:03.660Z"
   },
   {
    "duration": 0,
    "start_time": "2023-04-04T11:11:03.662Z"
   },
   {
    "duration": 626,
    "start_time": "2023-04-04T11:13:03.685Z"
   },
   {
    "duration": 16,
    "start_time": "2023-04-04T11:13:20.649Z"
   },
   {
    "duration": 252,
    "start_time": "2023-04-04T11:13:24.049Z"
   },
   {
    "duration": 10,
    "start_time": "2023-04-04T11:13:25.797Z"
   },
   {
    "duration": 199,
    "start_time": "2023-04-04T11:13:36.251Z"
   },
   {
    "duration": 229,
    "start_time": "2023-04-04T11:13:42.905Z"
   },
   {
    "duration": 13,
    "start_time": "2023-04-04T11:16:07.622Z"
   },
   {
    "duration": 6,
    "start_time": "2023-04-04T11:17:05.838Z"
   },
   {
    "duration": 19,
    "start_time": "2023-04-04T11:17:12.114Z"
   },
   {
    "duration": 14,
    "start_time": "2023-04-04T11:17:15.674Z"
   },
   {
    "duration": 6,
    "start_time": "2023-04-04T11:17:21.308Z"
   },
   {
    "duration": 32,
    "start_time": "2023-04-04T11:20:43.411Z"
   },
   {
    "duration": 7,
    "start_time": "2023-04-04T11:22:58.539Z"
   },
   {
    "duration": 8,
    "start_time": "2023-04-04T11:23:28.059Z"
   },
   {
    "duration": 9,
    "start_time": "2023-04-04T11:24:45.085Z"
   },
   {
    "duration": 10,
    "start_time": "2023-04-04T11:24:59.692Z"
   },
   {
    "duration": 9,
    "start_time": "2023-04-04T11:25:51.992Z"
   },
   {
    "duration": 2424,
    "start_time": "2023-04-04T15:25:43.484Z"
   },
   {
    "duration": 25,
    "start_time": "2023-04-04T15:25:45.911Z"
   },
   {
    "duration": 22,
    "start_time": "2023-04-04T15:25:45.938Z"
   },
   {
    "duration": 20,
    "start_time": "2023-04-04T15:25:45.966Z"
   },
   {
    "duration": 7,
    "start_time": "2023-04-04T15:25:45.988Z"
   },
   {
    "duration": 23,
    "start_time": "2023-04-04T15:25:45.997Z"
   },
   {
    "duration": 27,
    "start_time": "2023-04-04T15:25:46.021Z"
   },
   {
    "duration": 9,
    "start_time": "2023-04-04T15:25:46.050Z"
   },
   {
    "duration": 18,
    "start_time": "2023-04-04T15:25:46.061Z"
   },
   {
    "duration": 8,
    "start_time": "2023-04-04T15:25:46.081Z"
   },
   {
    "duration": 4,
    "start_time": "2023-04-04T15:25:46.091Z"
   },
   {
    "duration": 12,
    "start_time": "2023-04-04T15:25:46.097Z"
   },
   {
    "duration": 66668,
    "start_time": "2023-04-04T15:25:46.110Z"
   },
   {
    "duration": 18,
    "start_time": "2023-04-04T15:26:52.783Z"
   },
   {
    "duration": 40777,
    "start_time": "2023-04-04T15:26:52.803Z"
   },
   {
    "duration": 15,
    "start_time": "2023-04-04T15:27:33.582Z"
   },
   {
    "duration": 23,
    "start_time": "2023-04-04T15:27:33.599Z"
   },
   {
    "duration": 15,
    "start_time": "2023-04-04T15:27:33.624Z"
   },
   {
    "duration": 56,
    "start_time": "2023-04-04T15:27:33.642Z"
   },
   {
    "duration": 4,
    "start_time": "2023-04-04T15:27:33.700Z"
   },
   {
    "duration": 229,
    "start_time": "2023-04-04T15:27:33.705Z"
   },
   {
    "duration": 242,
    "start_time": "2023-04-04T15:27:33.935Z"
   },
   {
    "duration": 106,
    "start_time": "2023-04-04T15:27:34.179Z"
   },
   {
    "duration": 431,
    "start_time": "2023-04-04T15:27:34.287Z"
   },
   {
    "duration": 11,
    "start_time": "2023-04-04T15:27:34.720Z"
   },
   {
    "duration": 255,
    "start_time": "2023-04-04T15:27:34.733Z"
   },
   {
    "duration": 10,
    "start_time": "2023-04-04T15:27:34.989Z"
   },
   {
    "duration": 6,
    "start_time": "2023-04-04T16:52:54.788Z"
   },
   {
    "duration": 31,
    "start_time": "2023-04-04T16:52:55.650Z"
   },
   {
    "duration": 15,
    "start_time": "2023-04-04T16:52:56.792Z"
   },
   {
    "duration": 12,
    "start_time": "2023-04-04T16:52:58.643Z"
   },
   {
    "duration": 6,
    "start_time": "2023-04-04T16:52:59.778Z"
   },
   {
    "duration": 7,
    "start_time": "2023-04-04T16:53:00.409Z"
   },
   {
    "duration": 9,
    "start_time": "2023-04-04T16:53:01.595Z"
   },
   {
    "duration": 13,
    "start_time": "2023-04-04T16:53:01.969Z"
   },
   {
    "duration": 5,
    "start_time": "2023-04-04T16:53:04.805Z"
   },
   {
    "duration": 9,
    "start_time": "2023-04-04T16:53:05.771Z"
   },
   {
    "duration": 5,
    "start_time": "2023-04-04T16:53:08.762Z"
   },
   {
    "duration": 9,
    "start_time": "2023-04-04T16:53:09.614Z"
   },
   {
    "duration": 71031,
    "start_time": "2023-04-04T16:53:16.788Z"
   },
   {
    "duration": 24,
    "start_time": "2023-04-04T16:56:01.434Z"
   },
   {
    "duration": 39711,
    "start_time": "2023-04-04T16:56:03.257Z"
   },
   {
    "duration": 12,
    "start_time": "2023-04-04T16:56:42.970Z"
   },
   {
    "duration": 10,
    "start_time": "2023-04-04T17:00:00.233Z"
   },
   {
    "duration": 15,
    "start_time": "2023-04-04T17:00:05.348Z"
   },
   {
    "duration": 1164,
    "start_time": "2023-04-06T08:22:47.852Z"
   },
   {
    "duration": 121,
    "start_time": "2023-04-06T08:22:49.018Z"
   },
   {
    "duration": 20,
    "start_time": "2023-04-06T08:22:49.141Z"
   },
   {
    "duration": 35,
    "start_time": "2023-04-06T08:22:49.163Z"
   },
   {
    "duration": 25,
    "start_time": "2023-04-06T08:22:49.200Z"
   },
   {
    "duration": 62,
    "start_time": "2023-04-06T08:22:49.228Z"
   },
   {
    "duration": 48,
    "start_time": "2023-04-06T08:22:49.291Z"
   },
   {
    "duration": 32,
    "start_time": "2023-04-06T08:22:49.341Z"
   },
   {
    "duration": 19,
    "start_time": "2023-04-06T08:22:49.374Z"
   },
   {
    "duration": 34,
    "start_time": "2023-04-06T08:22:49.396Z"
   },
   {
    "duration": 19,
    "start_time": "2023-04-06T08:22:49.432Z"
   },
   {
    "duration": 49,
    "start_time": "2023-04-06T08:22:49.452Z"
   },
   {
    "duration": 70189,
    "start_time": "2023-04-06T08:22:49.502Z"
   },
   {
    "duration": 17,
    "start_time": "2023-04-06T08:23:59.693Z"
   },
   {
    "duration": 36200,
    "start_time": "2023-04-06T08:23:59.712Z"
   },
   {
    "duration": 14,
    "start_time": "2023-04-06T08:24:35.914Z"
   },
   {
    "duration": 21,
    "start_time": "2023-04-06T08:24:35.929Z"
   },
   {
    "duration": 45,
    "start_time": "2023-04-06T08:24:35.951Z"
   },
   {
    "duration": 48,
    "start_time": "2023-04-06T08:24:35.997Z"
   },
   {
    "duration": 4,
    "start_time": "2023-04-06T08:24:36.047Z"
   },
   {
    "duration": 234,
    "start_time": "2023-04-06T08:24:36.053Z"
   },
   {
    "duration": 207,
    "start_time": "2023-04-06T08:24:36.288Z"
   },
   {
    "duration": 93,
    "start_time": "2023-04-06T08:24:36.497Z"
   },
   {
    "duration": 600,
    "start_time": "2023-04-06T08:24:36.592Z"
   },
   {
    "duration": 13,
    "start_time": "2023-04-06T08:24:37.195Z"
   },
   {
    "duration": 252,
    "start_time": "2023-04-06T08:24:37.210Z"
   },
   {
    "duration": 22,
    "start_time": "2023-04-06T08:24:37.464Z"
   },
   {
    "duration": 31,
    "start_time": "2023-04-06T08:39:34.941Z"
   },
   {
    "duration": 18,
    "start_time": "2023-04-06T08:40:46.517Z"
   },
   {
    "duration": 17,
    "start_time": "2023-04-06T08:40:53.221Z"
   },
   {
    "duration": 121,
    "start_time": "2023-04-06T08:42:13.281Z"
   },
   {
    "duration": 10,
    "start_time": "2023-04-06T08:42:36.319Z"
   },
   {
    "duration": 10,
    "start_time": "2023-04-06T08:42:48.725Z"
   },
   {
    "duration": 1156,
    "start_time": "2023-04-06T08:42:56.963Z"
   },
   {
    "duration": 29,
    "start_time": "2023-04-06T08:42:58.121Z"
   },
   {
    "duration": 21,
    "start_time": "2023-04-06T08:42:58.152Z"
   },
   {
    "duration": 19,
    "start_time": "2023-04-06T08:42:58.175Z"
   },
   {
    "duration": 18,
    "start_time": "2023-04-06T08:42:58.196Z"
   },
   {
    "duration": 19,
    "start_time": "2023-04-06T08:42:58.216Z"
   },
   {
    "duration": 33,
    "start_time": "2023-04-06T08:42:58.237Z"
   },
   {
    "duration": 49,
    "start_time": "2023-04-06T08:42:58.272Z"
   },
   {
    "duration": 25,
    "start_time": "2023-04-06T08:42:58.323Z"
   },
   {
    "duration": 31,
    "start_time": "2023-04-06T08:42:58.352Z"
   },
   {
    "duration": 41,
    "start_time": "2023-04-06T08:42:58.384Z"
   },
   {
    "duration": 24,
    "start_time": "2023-04-06T08:42:58.427Z"
   },
   {
    "duration": 70743,
    "start_time": "2023-04-06T08:42:58.453Z"
   },
   {
    "duration": 16,
    "start_time": "2023-04-06T08:44:09.198Z"
   },
   {
    "duration": 34768,
    "start_time": "2023-04-06T08:44:09.216Z"
   },
   {
    "duration": 12,
    "start_time": "2023-04-06T08:44:43.985Z"
   },
   {
    "duration": 16,
    "start_time": "2023-04-06T08:44:43.999Z"
   },
   {
    "duration": 11,
    "start_time": "2023-04-06T08:44:44.016Z"
   },
   {
    "duration": 66,
    "start_time": "2023-04-06T08:44:44.029Z"
   },
   {
    "duration": 4,
    "start_time": "2023-04-06T08:44:44.096Z"
   },
   {
    "duration": 189,
    "start_time": "2023-04-06T08:44:44.102Z"
   },
   {
    "duration": 181,
    "start_time": "2023-04-06T08:44:44.292Z"
   },
   {
    "duration": 75,
    "start_time": "2023-04-06T08:44:44.475Z"
   },
   {
    "duration": 349,
    "start_time": "2023-04-06T08:44:44.552Z"
   },
   {
    "duration": 146,
    "start_time": "2023-04-06T08:44:44.904Z"
   },
   {
    "duration": 0,
    "start_time": "2023-04-06T08:44:45.053Z"
   },
   {
    "duration": 0,
    "start_time": "2023-04-06T08:44:45.055Z"
   },
   {
    "duration": 0,
    "start_time": "2023-04-06T08:44:45.056Z"
   },
   {
    "duration": 10,
    "start_time": "2023-04-06T08:45:39.941Z"
   },
   {
    "duration": 9,
    "start_time": "2023-04-06T08:46:05.415Z"
   },
   {
    "duration": 1156,
    "start_time": "2023-04-06T08:46:19.208Z"
   },
   {
    "duration": 30,
    "start_time": "2023-04-06T08:46:20.366Z"
   },
   {
    "duration": 21,
    "start_time": "2023-04-06T08:46:20.397Z"
   },
   {
    "duration": 12,
    "start_time": "2023-04-06T08:46:20.421Z"
   },
   {
    "duration": 12,
    "start_time": "2023-04-06T08:46:20.435Z"
   },
   {
    "duration": 6,
    "start_time": "2023-04-06T08:46:20.449Z"
   },
   {
    "duration": 30,
    "start_time": "2023-04-06T08:46:20.457Z"
   },
   {
    "duration": 10,
    "start_time": "2023-04-06T08:46:20.489Z"
   },
   {
    "duration": 10,
    "start_time": "2023-04-06T08:46:20.500Z"
   },
   {
    "duration": 15,
    "start_time": "2023-04-06T08:46:20.513Z"
   },
   {
    "duration": 4,
    "start_time": "2023-04-06T08:46:20.530Z"
   },
   {
    "duration": 49,
    "start_time": "2023-04-06T08:46:20.536Z"
   },
   {
    "duration": 70508,
    "start_time": "2023-04-06T08:46:20.586Z"
   },
   {
    "duration": 22,
    "start_time": "2023-04-06T08:47:31.096Z"
   },
   {
    "duration": 35869,
    "start_time": "2023-04-06T08:47:31.120Z"
   },
   {
    "duration": 14,
    "start_time": "2023-04-06T08:48:06.991Z"
   },
   {
    "duration": 45,
    "start_time": "2023-04-06T08:48:07.006Z"
   },
   {
    "duration": 12,
    "start_time": "2023-04-06T08:48:07.052Z"
   },
   {
    "duration": 47,
    "start_time": "2023-04-06T08:48:07.065Z"
   },
   {
    "duration": 3,
    "start_time": "2023-04-06T08:48:07.114Z"
   },
   {
    "duration": 190,
    "start_time": "2023-04-06T08:48:07.118Z"
   },
   {
    "duration": 196,
    "start_time": "2023-04-06T08:48:07.309Z"
   },
   {
    "duration": 86,
    "start_time": "2023-04-06T08:48:07.507Z"
   },
   {
    "duration": 356,
    "start_time": "2023-04-06T08:48:07.595Z"
   },
   {
    "duration": 136,
    "start_time": "2023-04-06T08:48:07.953Z"
   },
   {
    "duration": 0,
    "start_time": "2023-04-06T08:48:08.091Z"
   },
   {
    "duration": 0,
    "start_time": "2023-04-06T08:48:08.092Z"
   },
   {
    "duration": 0,
    "start_time": "2023-04-06T08:48:08.094Z"
   },
   {
    "duration": 119,
    "start_time": "2023-04-06T08:50:26.697Z"
   },
   {
    "duration": 6,
    "start_time": "2023-04-06T08:54:11.566Z"
   },
   {
    "duration": 11,
    "start_time": "2023-04-06T09:05:49.778Z"
   },
   {
    "duration": 131,
    "start_time": "2023-04-06T09:05:50.698Z"
   },
   {
    "duration": 9,
    "start_time": "2023-04-06T09:05:52.124Z"
   }
  ],
  "kernelspec": {
   "display_name": "Python 3 (ipykernel)",
   "language": "python",
   "name": "python3"
  },
  "language_info": {
   "codemirror_mode": {
    "name": "ipython",
    "version": 3
   },
   "file_extension": ".py",
   "mimetype": "text/x-python",
   "name": "python",
   "nbconvert_exporter": "python",
   "pygments_lexer": "ipython3",
   "version": "3.9.13"
  },
  "toc": {
   "base_numbering": 1,
   "nav_menu": {},
   "number_sections": true,
   "sideBar": true,
   "skip_h1_title": true,
   "title_cell": "Table of Contents",
   "title_sidebar": "Contents",
   "toc_cell": false,
   "toc_position": {},
   "toc_section_display": true,
   "toc_window_display": true
  }
 },
 "nbformat": 4,
 "nbformat_minor": 2
}
