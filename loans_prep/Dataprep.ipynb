{
 "cells": [
  {
   "cell_type": "markdown",
   "id": "e0237aa2",
   "metadata": {
    "deletable": false,
    "editable": false,
    "id": "c81daeeb"
   },
   "source": [
    "# Исследование надежности заемщиков\n"
   ]
  },
  {
   "cell_type": "markdown",
   "id": "34b3388a",
   "metadata": {
    "deletable": false,
    "editable": false,
    "id": "827c20bf"
   },
   "source": [
    "Во второй части проекта вы выполните шаги 3 и 4. Их вручную проверит ревьюер.\n",
    "Чтобы вам не пришлось писать код заново для шагов 1 и 2, мы добавили авторские решения в ячейки с кодом. \n",
    "\n"
   ]
  },
  {
   "cell_type": "markdown",
   "id": "4a574dc6",
   "metadata": {
    "deletable": false,
    "editable": false,
    "id": "744d7639"
   },
   "source": [
    "## Откройте таблицу и изучите общую информацию о данных"
   ]
  },
  {
   "cell_type": "markdown",
   "id": "25b8f2a0",
   "metadata": {
    "deletable": false,
    "editable": false,
    "id": "e7a14c31"
   },
   "source": [
    "**Задание 1. Импортируйте библиотеку pandas. Считайте данные из csv-файла в датафрейм и сохраните в переменную `data`. Путь к файлу:**\n",
    "\n",
    "`/datasets/data.csv`"
   ]
  },
  {
   "cell_type": "code",
   "execution_count": 1,
   "id": "dc499c3b",
   "metadata": {
    "deletable": false,
    "id": "7bcf75c9"
   },
   "outputs": [],
   "source": [
    "import pandas as pd\n",
    "\n",
    "try:\n",
    "    data = pd.read_csv('/datasets/data.csv')\n",
    "except:\n",
    "    data = pd.read_csv('https://code.s3.yandex.net/datasets/data.csv')"
   ]
  },
  {
   "cell_type": "markdown",
   "id": "74c4170a",
   "metadata": {
    "deletable": false,
    "editable": false,
    "id": "b8038fe3"
   },
   "source": [
    "**Задание 2. Выведите первые 20 строчек датафрейма `data` на экран.**"
   ]
  },
  {
   "cell_type": "code",
   "execution_count": 2,
   "id": "595fa3b7",
   "metadata": {
    "deletable": false,
    "id": "2a7cab99",
    "outputId": "1a8f3ef2-d323-4ec2-ddf7-89670b5944c4"
   },
   "outputs": [
    {
     "data": {
      "text/html": [
       "<div>\n",
       "<style scoped>\n",
       "    .dataframe tbody tr th:only-of-type {\n",
       "        vertical-align: middle;\n",
       "    }\n",
       "\n",
       "    .dataframe tbody tr th {\n",
       "        vertical-align: top;\n",
       "    }\n",
       "\n",
       "    .dataframe thead th {\n",
       "        text-align: right;\n",
       "    }\n",
       "</style>\n",
       "<table border=\"1\" class=\"dataframe\">\n",
       "  <thead>\n",
       "    <tr style=\"text-align: right;\">\n",
       "      <th></th>\n",
       "      <th>children</th>\n",
       "      <th>days_employed</th>\n",
       "      <th>dob_years</th>\n",
       "      <th>education</th>\n",
       "      <th>education_id</th>\n",
       "      <th>family_status</th>\n",
       "      <th>family_status_id</th>\n",
       "      <th>gender</th>\n",
       "      <th>income_type</th>\n",
       "      <th>debt</th>\n",
       "      <th>total_income</th>\n",
       "      <th>purpose</th>\n",
       "    </tr>\n",
       "  </thead>\n",
       "  <tbody>\n",
       "    <tr>\n",
       "      <th>0</th>\n",
       "      <td>1</td>\n",
       "      <td>-8437.673028</td>\n",
       "      <td>42</td>\n",
       "      <td>высшее</td>\n",
       "      <td>0</td>\n",
       "      <td>женат / замужем</td>\n",
       "      <td>0</td>\n",
       "      <td>F</td>\n",
       "      <td>сотрудник</td>\n",
       "      <td>0</td>\n",
       "      <td>253875.639453</td>\n",
       "      <td>покупка жилья</td>\n",
       "    </tr>\n",
       "    <tr>\n",
       "      <th>1</th>\n",
       "      <td>1</td>\n",
       "      <td>-4024.803754</td>\n",
       "      <td>36</td>\n",
       "      <td>среднее</td>\n",
       "      <td>1</td>\n",
       "      <td>женат / замужем</td>\n",
       "      <td>0</td>\n",
       "      <td>F</td>\n",
       "      <td>сотрудник</td>\n",
       "      <td>0</td>\n",
       "      <td>112080.014102</td>\n",
       "      <td>приобретение автомобиля</td>\n",
       "    </tr>\n",
       "    <tr>\n",
       "      <th>2</th>\n",
       "      <td>0</td>\n",
       "      <td>-5623.422610</td>\n",
       "      <td>33</td>\n",
       "      <td>Среднее</td>\n",
       "      <td>1</td>\n",
       "      <td>женат / замужем</td>\n",
       "      <td>0</td>\n",
       "      <td>M</td>\n",
       "      <td>сотрудник</td>\n",
       "      <td>0</td>\n",
       "      <td>145885.952297</td>\n",
       "      <td>покупка жилья</td>\n",
       "    </tr>\n",
       "    <tr>\n",
       "      <th>3</th>\n",
       "      <td>3</td>\n",
       "      <td>-4124.747207</td>\n",
       "      <td>32</td>\n",
       "      <td>среднее</td>\n",
       "      <td>1</td>\n",
       "      <td>женат / замужем</td>\n",
       "      <td>0</td>\n",
       "      <td>M</td>\n",
       "      <td>сотрудник</td>\n",
       "      <td>0</td>\n",
       "      <td>267628.550329</td>\n",
       "      <td>дополнительное образование</td>\n",
       "    </tr>\n",
       "    <tr>\n",
       "      <th>4</th>\n",
       "      <td>0</td>\n",
       "      <td>340266.072047</td>\n",
       "      <td>53</td>\n",
       "      <td>среднее</td>\n",
       "      <td>1</td>\n",
       "      <td>гражданский брак</td>\n",
       "      <td>1</td>\n",
       "      <td>F</td>\n",
       "      <td>пенсионер</td>\n",
       "      <td>0</td>\n",
       "      <td>158616.077870</td>\n",
       "      <td>сыграть свадьбу</td>\n",
       "    </tr>\n",
       "    <tr>\n",
       "      <th>5</th>\n",
       "      <td>0</td>\n",
       "      <td>-926.185831</td>\n",
       "      <td>27</td>\n",
       "      <td>высшее</td>\n",
       "      <td>0</td>\n",
       "      <td>гражданский брак</td>\n",
       "      <td>1</td>\n",
       "      <td>M</td>\n",
       "      <td>компаньон</td>\n",
       "      <td>0</td>\n",
       "      <td>255763.565419</td>\n",
       "      <td>покупка жилья</td>\n",
       "    </tr>\n",
       "    <tr>\n",
       "      <th>6</th>\n",
       "      <td>0</td>\n",
       "      <td>-2879.202052</td>\n",
       "      <td>43</td>\n",
       "      <td>высшее</td>\n",
       "      <td>0</td>\n",
       "      <td>женат / замужем</td>\n",
       "      <td>0</td>\n",
       "      <td>F</td>\n",
       "      <td>компаньон</td>\n",
       "      <td>0</td>\n",
       "      <td>240525.971920</td>\n",
       "      <td>операции с жильем</td>\n",
       "    </tr>\n",
       "    <tr>\n",
       "      <th>7</th>\n",
       "      <td>0</td>\n",
       "      <td>-152.779569</td>\n",
       "      <td>50</td>\n",
       "      <td>СРЕДНЕЕ</td>\n",
       "      <td>1</td>\n",
       "      <td>женат / замужем</td>\n",
       "      <td>0</td>\n",
       "      <td>M</td>\n",
       "      <td>сотрудник</td>\n",
       "      <td>0</td>\n",
       "      <td>135823.934197</td>\n",
       "      <td>образование</td>\n",
       "    </tr>\n",
       "    <tr>\n",
       "      <th>8</th>\n",
       "      <td>2</td>\n",
       "      <td>-6929.865299</td>\n",
       "      <td>35</td>\n",
       "      <td>ВЫСШЕЕ</td>\n",
       "      <td>0</td>\n",
       "      <td>гражданский брак</td>\n",
       "      <td>1</td>\n",
       "      <td>F</td>\n",
       "      <td>сотрудник</td>\n",
       "      <td>0</td>\n",
       "      <td>95856.832424</td>\n",
       "      <td>на проведение свадьбы</td>\n",
       "    </tr>\n",
       "    <tr>\n",
       "      <th>9</th>\n",
       "      <td>0</td>\n",
       "      <td>-2188.756445</td>\n",
       "      <td>41</td>\n",
       "      <td>среднее</td>\n",
       "      <td>1</td>\n",
       "      <td>женат / замужем</td>\n",
       "      <td>0</td>\n",
       "      <td>M</td>\n",
       "      <td>сотрудник</td>\n",
       "      <td>0</td>\n",
       "      <td>144425.938277</td>\n",
       "      <td>покупка жилья для семьи</td>\n",
       "    </tr>\n",
       "    <tr>\n",
       "      <th>10</th>\n",
       "      <td>2</td>\n",
       "      <td>-4171.483647</td>\n",
       "      <td>36</td>\n",
       "      <td>высшее</td>\n",
       "      <td>0</td>\n",
       "      <td>женат / замужем</td>\n",
       "      <td>0</td>\n",
       "      <td>M</td>\n",
       "      <td>компаньон</td>\n",
       "      <td>0</td>\n",
       "      <td>113943.491460</td>\n",
       "      <td>покупка недвижимости</td>\n",
       "    </tr>\n",
       "    <tr>\n",
       "      <th>11</th>\n",
       "      <td>0</td>\n",
       "      <td>-792.701887</td>\n",
       "      <td>40</td>\n",
       "      <td>среднее</td>\n",
       "      <td>1</td>\n",
       "      <td>женат / замужем</td>\n",
       "      <td>0</td>\n",
       "      <td>F</td>\n",
       "      <td>сотрудник</td>\n",
       "      <td>0</td>\n",
       "      <td>77069.234271</td>\n",
       "      <td>покупка коммерческой недвижимости</td>\n",
       "    </tr>\n",
       "    <tr>\n",
       "      <th>12</th>\n",
       "      <td>0</td>\n",
       "      <td>NaN</td>\n",
       "      <td>65</td>\n",
       "      <td>среднее</td>\n",
       "      <td>1</td>\n",
       "      <td>гражданский брак</td>\n",
       "      <td>1</td>\n",
       "      <td>M</td>\n",
       "      <td>пенсионер</td>\n",
       "      <td>0</td>\n",
       "      <td>NaN</td>\n",
       "      <td>сыграть свадьбу</td>\n",
       "    </tr>\n",
       "    <tr>\n",
       "      <th>13</th>\n",
       "      <td>0</td>\n",
       "      <td>-1846.641941</td>\n",
       "      <td>54</td>\n",
       "      <td>неоконченное высшее</td>\n",
       "      <td>2</td>\n",
       "      <td>женат / замужем</td>\n",
       "      <td>0</td>\n",
       "      <td>F</td>\n",
       "      <td>сотрудник</td>\n",
       "      <td>0</td>\n",
       "      <td>130458.228857</td>\n",
       "      <td>приобретение автомобиля</td>\n",
       "    </tr>\n",
       "    <tr>\n",
       "      <th>14</th>\n",
       "      <td>0</td>\n",
       "      <td>-1844.956182</td>\n",
       "      <td>56</td>\n",
       "      <td>высшее</td>\n",
       "      <td>0</td>\n",
       "      <td>гражданский брак</td>\n",
       "      <td>1</td>\n",
       "      <td>F</td>\n",
       "      <td>компаньон</td>\n",
       "      <td>1</td>\n",
       "      <td>165127.911772</td>\n",
       "      <td>покупка жилой недвижимости</td>\n",
       "    </tr>\n",
       "    <tr>\n",
       "      <th>15</th>\n",
       "      <td>1</td>\n",
       "      <td>-972.364419</td>\n",
       "      <td>26</td>\n",
       "      <td>среднее</td>\n",
       "      <td>1</td>\n",
       "      <td>женат / замужем</td>\n",
       "      <td>0</td>\n",
       "      <td>F</td>\n",
       "      <td>сотрудник</td>\n",
       "      <td>0</td>\n",
       "      <td>116820.904450</td>\n",
       "      <td>строительство собственной недвижимости</td>\n",
       "    </tr>\n",
       "    <tr>\n",
       "      <th>16</th>\n",
       "      <td>0</td>\n",
       "      <td>-1719.934226</td>\n",
       "      <td>35</td>\n",
       "      <td>среднее</td>\n",
       "      <td>1</td>\n",
       "      <td>женат / замужем</td>\n",
       "      <td>0</td>\n",
       "      <td>F</td>\n",
       "      <td>сотрудник</td>\n",
       "      <td>0</td>\n",
       "      <td>289202.704229</td>\n",
       "      <td>недвижимость</td>\n",
       "    </tr>\n",
       "    <tr>\n",
       "      <th>17</th>\n",
       "      <td>0</td>\n",
       "      <td>-2369.999720</td>\n",
       "      <td>33</td>\n",
       "      <td>высшее</td>\n",
       "      <td>0</td>\n",
       "      <td>гражданский брак</td>\n",
       "      <td>1</td>\n",
       "      <td>M</td>\n",
       "      <td>сотрудник</td>\n",
       "      <td>0</td>\n",
       "      <td>90410.586745</td>\n",
       "      <td>строительство недвижимости</td>\n",
       "    </tr>\n",
       "    <tr>\n",
       "      <th>18</th>\n",
       "      <td>0</td>\n",
       "      <td>400281.136913</td>\n",
       "      <td>53</td>\n",
       "      <td>среднее</td>\n",
       "      <td>1</td>\n",
       "      <td>вдовец / вдова</td>\n",
       "      <td>2</td>\n",
       "      <td>F</td>\n",
       "      <td>пенсионер</td>\n",
       "      <td>0</td>\n",
       "      <td>56823.777243</td>\n",
       "      <td>на покупку подержанного автомобиля</td>\n",
       "    </tr>\n",
       "    <tr>\n",
       "      <th>19</th>\n",
       "      <td>0</td>\n",
       "      <td>-10038.818549</td>\n",
       "      <td>48</td>\n",
       "      <td>СРЕДНЕЕ</td>\n",
       "      <td>1</td>\n",
       "      <td>в разводе</td>\n",
       "      <td>3</td>\n",
       "      <td>F</td>\n",
       "      <td>сотрудник</td>\n",
       "      <td>0</td>\n",
       "      <td>242831.107982</td>\n",
       "      <td>на покупку своего автомобиля</td>\n",
       "    </tr>\n",
       "  </tbody>\n",
       "</table>\n",
       "</div>"
      ],
      "text/plain": [
       "    children  days_employed  dob_years            education  education_id  \\\n",
       "0          1   -8437.673028         42               высшее             0   \n",
       "1          1   -4024.803754         36              среднее             1   \n",
       "2          0   -5623.422610         33              Среднее             1   \n",
       "3          3   -4124.747207         32              среднее             1   \n",
       "4          0  340266.072047         53              среднее             1   \n",
       "5          0    -926.185831         27               высшее             0   \n",
       "6          0   -2879.202052         43               высшее             0   \n",
       "7          0    -152.779569         50              СРЕДНЕЕ             1   \n",
       "8          2   -6929.865299         35               ВЫСШЕЕ             0   \n",
       "9          0   -2188.756445         41              среднее             1   \n",
       "10         2   -4171.483647         36               высшее             0   \n",
       "11         0    -792.701887         40              среднее             1   \n",
       "12         0            NaN         65              среднее             1   \n",
       "13         0   -1846.641941         54  неоконченное высшее             2   \n",
       "14         0   -1844.956182         56               высшее             0   \n",
       "15         1    -972.364419         26              среднее             1   \n",
       "16         0   -1719.934226         35              среднее             1   \n",
       "17         0   -2369.999720         33               высшее             0   \n",
       "18         0  400281.136913         53              среднее             1   \n",
       "19         0  -10038.818549         48              СРЕДНЕЕ             1   \n",
       "\n",
       "       family_status  family_status_id gender income_type  debt  \\\n",
       "0    женат / замужем                 0      F   сотрудник     0   \n",
       "1    женат / замужем                 0      F   сотрудник     0   \n",
       "2    женат / замужем                 0      M   сотрудник     0   \n",
       "3    женат / замужем                 0      M   сотрудник     0   \n",
       "4   гражданский брак                 1      F   пенсионер     0   \n",
       "5   гражданский брак                 1      M   компаньон     0   \n",
       "6    женат / замужем                 0      F   компаньон     0   \n",
       "7    женат / замужем                 0      M   сотрудник     0   \n",
       "8   гражданский брак                 1      F   сотрудник     0   \n",
       "9    женат / замужем                 0      M   сотрудник     0   \n",
       "10   женат / замужем                 0      M   компаньон     0   \n",
       "11   женат / замужем                 0      F   сотрудник     0   \n",
       "12  гражданский брак                 1      M   пенсионер     0   \n",
       "13   женат / замужем                 0      F   сотрудник     0   \n",
       "14  гражданский брак                 1      F   компаньон     1   \n",
       "15   женат / замужем                 0      F   сотрудник     0   \n",
       "16   женат / замужем                 0      F   сотрудник     0   \n",
       "17  гражданский брак                 1      M   сотрудник     0   \n",
       "18    вдовец / вдова                 2      F   пенсионер     0   \n",
       "19         в разводе                 3      F   сотрудник     0   \n",
       "\n",
       "     total_income                                 purpose  \n",
       "0   253875.639453                           покупка жилья  \n",
       "1   112080.014102                 приобретение автомобиля  \n",
       "2   145885.952297                           покупка жилья  \n",
       "3   267628.550329              дополнительное образование  \n",
       "4   158616.077870                         сыграть свадьбу  \n",
       "5   255763.565419                           покупка жилья  \n",
       "6   240525.971920                       операции с жильем  \n",
       "7   135823.934197                             образование  \n",
       "8    95856.832424                   на проведение свадьбы  \n",
       "9   144425.938277                 покупка жилья для семьи  \n",
       "10  113943.491460                    покупка недвижимости  \n",
       "11   77069.234271       покупка коммерческой недвижимости  \n",
       "12            NaN                         сыграть свадьбу  \n",
       "13  130458.228857                 приобретение автомобиля  \n",
       "14  165127.911772              покупка жилой недвижимости  \n",
       "15  116820.904450  строительство собственной недвижимости  \n",
       "16  289202.704229                            недвижимость  \n",
       "17   90410.586745              строительство недвижимости  \n",
       "18   56823.777243      на покупку подержанного автомобиля  \n",
       "19  242831.107982            на покупку своего автомобиля  "
      ]
     },
     "execution_count": 2,
     "metadata": {},
     "output_type": "execute_result"
    }
   ],
   "source": [
    "data.head(20)"
   ]
  },
  {
   "cell_type": "markdown",
   "id": "9bb1fc52",
   "metadata": {
    "deletable": false,
    "editable": false,
    "id": "1c12e233"
   },
   "source": [
    "**Задание 3. Выведите основную информацию о датафрейме с помощью метода `info()`.**"
   ]
  },
  {
   "cell_type": "code",
   "execution_count": 3,
   "id": "25e7cabf",
   "metadata": {
    "deletable": false,
    "id": "2b757bca",
    "outputId": "15376089-8dad-46c9-b520-c05248d43158"
   },
   "outputs": [
    {
     "name": "stdout",
     "output_type": "stream",
     "text": [
      "<class 'pandas.core.frame.DataFrame'>\n",
      "RangeIndex: 21525 entries, 0 to 21524\n",
      "Data columns (total 12 columns):\n",
      " #   Column            Non-Null Count  Dtype  \n",
      "---  ------            --------------  -----  \n",
      " 0   children          21525 non-null  int64  \n",
      " 1   days_employed     19351 non-null  float64\n",
      " 2   dob_years         21525 non-null  int64  \n",
      " 3   education         21525 non-null  object \n",
      " 4   education_id      21525 non-null  int64  \n",
      " 5   family_status     21525 non-null  object \n",
      " 6   family_status_id  21525 non-null  int64  \n",
      " 7   gender            21525 non-null  object \n",
      " 8   income_type       21525 non-null  object \n",
      " 9   debt              21525 non-null  int64  \n",
      " 10  total_income      19351 non-null  float64\n",
      " 11  purpose           21525 non-null  object \n",
      "dtypes: float64(2), int64(5), object(5)\n",
      "memory usage: 2.0+ MB\n"
     ]
    }
   ],
   "source": [
    "data.info()"
   ]
  },
  {
   "cell_type": "code",
   "execution_count": 4,
   "id": "04fe4c2c",
   "metadata": {},
   "outputs": [],
   "source": [
    "prep = data.copy()"
   ]
  },
  {
   "cell_type": "markdown",
   "id": "87f73a46",
   "metadata": {
    "deletable": false,
    "editable": false,
    "id": "333ec665"
   },
   "source": [
    "## Предобработка данных"
   ]
  },
  {
   "cell_type": "markdown",
   "id": "b6493f33",
   "metadata": {
    "deletable": false,
    "editable": false,
    "id": "02d92d53"
   },
   "source": [
    "### Удаление пропусков"
   ]
  },
  {
   "cell_type": "markdown",
   "id": "21847c51",
   "metadata": {
    "deletable": false,
    "editable": false,
    "id": "cd84967c"
   },
   "source": [
    "**Задание 4. Выведите количество пропущенных значений для каждого столбца. Используйте комбинацию двух методов.**"
   ]
  },
  {
   "cell_type": "code",
   "execution_count": 5,
   "id": "6a92509c",
   "metadata": {
    "deletable": false,
    "id": "7f9b2309",
    "outputId": "81f4d817-781c-465c-ed15-91ce4446810d"
   },
   "outputs": [
    {
     "data": {
      "text/plain": [
       "children               0\n",
       "days_employed       2174\n",
       "dob_years              0\n",
       "education              0\n",
       "education_id           0\n",
       "family_status          0\n",
       "family_status_id       0\n",
       "gender                 0\n",
       "income_type            0\n",
       "debt                   0\n",
       "total_income        2174\n",
       "purpose                0\n",
       "dtype: int64"
      ]
     },
     "execution_count": 5,
     "metadata": {},
     "output_type": "execute_result"
    }
   ],
   "source": [
    "data.isna().sum()"
   ]
  },
  {
   "cell_type": "markdown",
   "id": "f908ffea",
   "metadata": {
    "deletable": false,
    "editable": false,
    "id": "db86e27b"
   },
   "source": [
    "**Задание 5. В двух столбцах есть пропущенные значения. Один из них — `days_employed`. Пропуски в этом столбце вы обработаете на следующем этапе. Другой столбец с пропущенными значениями — `total_income` — хранит данные о доходах. На сумму дохода сильнее всего влияет тип занятости, поэтому заполнить пропуски в этом столбце нужно медианным значением по каждому типу из столбца `income_type`. Например, у человека с типом занятости `сотрудник` пропуск в столбце `total_income` должен быть заполнен медианным доходом среди всех записей с тем же типом.**"
   ]
  },
  {
   "cell_type": "code",
   "execution_count": 6,
   "id": "cd5eab2b",
   "metadata": {
    "deletable": false,
    "id": "42006a93"
   },
   "outputs": [],
   "source": [
    "for t in data['income_type'].unique():\n",
    "    data.loc[(data['income_type'] == t) & (data['total_income'].isna()), 'total_income'] = \\\n",
    "    data.loc[(data['income_type'] == t), 'total_income'].median()"
   ]
  },
  {
   "cell_type": "markdown",
   "id": "4ba65676",
   "metadata": {
    "deletable": false,
    "editable": false,
    "id": "89da5ece"
   },
   "source": [
    "### Обработка аномальных значений"
   ]
  },
  {
   "cell_type": "markdown",
   "id": "044a184a",
   "metadata": {
    "deletable": false,
    "editable": false,
    "id": "57964554"
   },
   "source": [
    "**Задание 6. В данных могут встречаться артефакты (аномалии) — значения, которые не отражают действительность и появились по какой-то ошибке. таким артефактом будет отрицательное количество дней трудового стажа в столбце `days_employed`. Для реальных данных это нормально. Обработайте значения в этом столбце: замените все отрицательные значения положительными с помощью метода `abs()`.**"
   ]
  },
  {
   "cell_type": "code",
   "execution_count": 7,
   "id": "11729aeb",
   "metadata": {
    "deletable": false,
    "id": "f6f055bf"
   },
   "outputs": [],
   "source": [
    "data['days_employed'] = data['days_employed'].abs()"
   ]
  },
  {
   "cell_type": "markdown",
   "id": "bd55009e",
   "metadata": {
    "deletable": false,
    "editable": false,
    "id": "6107dd2f"
   },
   "source": [
    "**Задание 7. Для каждого типа занятости выведите медианное значение трудового стажа `days_employed` в днях.**"
   ]
  },
  {
   "cell_type": "code",
   "execution_count": 8,
   "id": "9aacf591",
   "metadata": {
    "deletable": false,
    "id": "85a5faf6",
    "outputId": "801ef80e-522b-4668-f34e-565af7432bcf"
   },
   "outputs": [
    {
     "data": {
      "text/plain": [
       "income_type\n",
       "безработный        366413.652744\n",
       "в декрете            3296.759962\n",
       "госслужащий          2689.368353\n",
       "компаньон            1547.382223\n",
       "пенсионер          365213.306266\n",
       "предприниматель       520.848083\n",
       "сотрудник            1574.202821\n",
       "студент               578.751554\n",
       "Name: days_employed, dtype: float64"
      ]
     },
     "execution_count": 8,
     "metadata": {},
     "output_type": "execute_result"
    }
   ],
   "source": [
    "data.groupby('income_type')['days_employed'].agg('median')"
   ]
  },
  {
   "cell_type": "markdown",
   "id": "a4b01602",
   "metadata": {
    "deletable": false,
    "editable": false,
    "id": "38d1a030"
   },
   "source": [
    "У двух типов (безработные и пенсионеры) получатся аномально большие значения. Исправить такие значения сложно, поэтому оставьте их как есть. Тем более этот столбец не понадобится вам для исследования."
   ]
  },
  {
   "cell_type": "markdown",
   "id": "b816ea12",
   "metadata": {
    "deletable": false,
    "editable": false,
    "id": "d8a9f147"
   },
   "source": [
    "**Задание 8. Выведите перечень уникальных значений столбца `children`.**"
   ]
  },
  {
   "cell_type": "code",
   "execution_count": 9,
   "id": "453e54fe",
   "metadata": {
    "deletable": false,
    "id": "ef5056eb",
    "outputId": "6975b15c-7f95-4697-d16d-a0c79b657b03"
   },
   "outputs": [
    {
     "data": {
      "text/plain": [
       "array([ 1,  0,  3,  2, -1,  4, 20,  5])"
      ]
     },
     "execution_count": 9,
     "metadata": {},
     "output_type": "execute_result"
    }
   ],
   "source": [
    "data['children'].unique()"
   ]
  },
  {
   "cell_type": "markdown",
   "id": "5c3a8ed1",
   "metadata": {
    "deletable": false,
    "editable": false,
    "id": "40b9ebf2"
   },
   "source": [
    "**Задание 9. В столбце `children` есть два аномальных значения. Удалите строки, в которых встречаются такие аномальные значения из датафрейма `data`.**"
   ]
  },
  {
   "cell_type": "code",
   "execution_count": 10,
   "id": "287da2db",
   "metadata": {
    "deletable": false,
    "id": "3ff9801d"
   },
   "outputs": [],
   "source": [
    "data = data[(data['children'] != -1) & (data['children'] != 20)]"
   ]
  },
  {
   "cell_type": "markdown",
   "id": "49d63e75",
   "metadata": {
    "deletable": false,
    "editable": false,
    "id": "bbc4d0ce"
   },
   "source": [
    "**Задание 10. Ещё раз выведите перечень уникальных значений столбца `children`, чтобы убедиться, что артефакты удалены.**"
   ]
  },
  {
   "cell_type": "code",
   "execution_count": 11,
   "id": "4ae37920",
   "metadata": {
    "deletable": false,
    "id": "ad4fa8b7",
    "outputId": "b2097101-d49d-44d9-901b-32a65c9463d1"
   },
   "outputs": [
    {
     "data": {
      "text/plain": [
       "array([1, 0, 3, 2, 4, 5])"
      ]
     },
     "execution_count": 11,
     "metadata": {},
     "output_type": "execute_result"
    }
   ],
   "source": [
    "data['children'].unique()"
   ]
  },
  {
   "cell_type": "markdown",
   "id": "d7bf9b5c",
   "metadata": {
    "deletable": false,
    "editable": false,
    "id": "75440b63"
   },
   "source": [
    "### Удаление пропусков (продолжение)"
   ]
  },
  {
   "cell_type": "markdown",
   "id": "c49415a1",
   "metadata": {
    "deletable": false,
    "editable": false,
    "id": "f4ea573f"
   },
   "source": [
    "**Задание 11. Заполните пропуски в столбце `days_employed` медианными значениями по каждого типа занятости `income_type`.**"
   ]
  },
  {
   "cell_type": "code",
   "execution_count": 12,
   "id": "c6ee18e2",
   "metadata": {
    "deletable": false,
    "id": "af6b1a7e"
   },
   "outputs": [],
   "source": [
    "for t in data['income_type'].unique():\n",
    "    data.loc[(data['income_type'] == t) & (data['days_employed'].isna()), 'days_employed'] = \\\n",
    "    data.loc[(data['income_type'] == t), 'days_employed'].median()"
   ]
  },
  {
   "cell_type": "markdown",
   "id": "9fa1fb34",
   "metadata": {
    "deletable": false,
    "editable": false,
    "id": "2753f40d"
   },
   "source": [
    "**Задание 12. Убедитесь, что все пропуски заполнены. Проверьте себя и ещё раз выведите количество пропущенных значений для каждого столбца с помощью двух методов.**"
   ]
  },
  {
   "cell_type": "code",
   "execution_count": 13,
   "id": "7ed5e358",
   "metadata": {
    "deletable": false,
    "id": "55f78bc2",
    "outputId": "8da1e4e1-358e-4e87-98c9-f261bce0a7b2"
   },
   "outputs": [
    {
     "data": {
      "text/plain": [
       "children            0\n",
       "days_employed       0\n",
       "dob_years           0\n",
       "education           0\n",
       "education_id        0\n",
       "family_status       0\n",
       "family_status_id    0\n",
       "gender              0\n",
       "income_type         0\n",
       "debt                0\n",
       "total_income        0\n",
       "purpose             0\n",
       "dtype: int64"
      ]
     },
     "execution_count": 13,
     "metadata": {},
     "output_type": "execute_result"
    }
   ],
   "source": [
    "data.isna().sum()"
   ]
  },
  {
   "cell_type": "markdown",
   "id": "01393b0d",
   "metadata": {
    "deletable": false,
    "editable": false,
    "id": "ddc81e43"
   },
   "source": [
    "### Изменение типов данных"
   ]
  },
  {
   "cell_type": "markdown",
   "id": "3f4e7836",
   "metadata": {
    "deletable": false,
    "editable": false,
    "id": "42d19d24"
   },
   "source": [
    "**Задание 13. Замените вещественный тип данных в столбце `total_income` на целочисленный с помощью метода `astype()`.**"
   ]
  },
  {
   "cell_type": "code",
   "execution_count": 14,
   "id": "de10d5e5",
   "metadata": {
    "deletable": false,
    "id": "920b65ad"
   },
   "outputs": [],
   "source": [
    "data['total_income'] = data['total_income'].astype(int)"
   ]
  },
  {
   "cell_type": "markdown",
   "id": "eb7f31b2",
   "metadata": {
    "deletable": false,
    "editable": false,
    "id": "80c420ba"
   },
   "source": [
    "### Обработка дубликатов"
   ]
  },
  {
   "cell_type": "markdown",
   "id": "59cfc1a4",
   "metadata": {
    "deletable": false,
    "editable": false
   },
   "source": [
    "**Задание 14. Обработайте неявные дубликаты в столбце `education`. В этом столбце есть одни и те же значения, но записанные по-разному: с использованием заглавных и строчных букв. Приведите их к нижнему регистру. Проверьте остальные столбцы.**"
   ]
  },
  {
   "cell_type": "code",
   "execution_count": 15,
   "id": "23ac1f98",
   "metadata": {
    "deletable": false
   },
   "outputs": [],
   "source": [
    "data['education'] = data['education'].str.lower()"
   ]
  },
  {
   "cell_type": "markdown",
   "id": "03dc8aee",
   "metadata": {
    "deletable": false,
    "editable": false,
    "id": "dc587695"
   },
   "source": [
    "**Задание 15. Выведите на экран количество строк-дубликатов в данных. Если такие строки присутствуют, удалите их.**"
   ]
  },
  {
   "cell_type": "code",
   "execution_count": 16,
   "id": "92fa6a98",
   "metadata": {
    "deletable": false,
    "id": "3ee445e4",
    "outputId": "9684deba-1934-42d1-99e1-cda61740f822"
   },
   "outputs": [
    {
     "data": {
      "text/plain": [
       "71"
      ]
     },
     "execution_count": 16,
     "metadata": {},
     "output_type": "execute_result"
    }
   ],
   "source": [
    "data.duplicated().sum()"
   ]
  },
  {
   "cell_type": "code",
   "execution_count": 17,
   "id": "6befbf7c",
   "metadata": {
    "deletable": false,
    "id": "8575fe05"
   },
   "outputs": [],
   "source": [
    "data = data.drop_duplicates()"
   ]
  },
  {
   "cell_type": "markdown",
   "id": "e39e8f0f",
   "metadata": {
    "deletable": false,
    "editable": false,
    "id": "9904cf55"
   },
   "source": [
    "### Категоризация данных"
   ]
  },
  {
   "cell_type": "markdown",
   "id": "6e895eea",
   "metadata": {
    "deletable": false,
    "editable": false,
    "id": "72fcc8a2"
   },
   "source": [
    "**Задание 16. На основании диапазонов, указанных ниже, создайте в датафрейме `data` столбец `total_income_category` с категориями:**\n",
    "\n",
    "- 0–30000 — `'E'`;\n",
    "- 30001–50000 — `'D'`;\n",
    "- 50001–200000 — `'C'`;\n",
    "- 200001–1000000 — `'B'`;\n",
    "- 1000001 и выше — `'A'`.\n",
    "\n",
    "\n",
    "**Например, кредитополучателю с доходом 25000 нужно назначить категорию `'E'`, а клиенту, получающему 235000, — `'B'`. Используйте собственную функцию с именем `categorize_income()` и метод `apply()`.**"
   ]
  },
  {
   "cell_type": "code",
   "execution_count": 18,
   "id": "90725d0d",
   "metadata": {
    "deletable": false,
    "id": "e1771346"
   },
   "outputs": [],
   "source": [
    "def categorize_income(income):\n",
    "    try:\n",
    "        if 0 <= income <= 30000:\n",
    "            return 'E'\n",
    "        elif 30001 <= income <= 50000:\n",
    "            return 'D'\n",
    "        elif 50001 <= income <= 200000:\n",
    "            return 'C'\n",
    "        elif 200001 <= income <= 1000000:\n",
    "            return 'B'\n",
    "        elif income >= 1000001:\n",
    "            return 'A'\n",
    "    except:\n",
    "        pass"
   ]
  },
  {
   "cell_type": "code",
   "execution_count": 19,
   "id": "83caa932",
   "metadata": {
    "deletable": false,
    "id": "d5f3586d"
   },
   "outputs": [],
   "source": [
    "data['total_income_category'] = data['total_income'].apply(categorize_income)"
   ]
  },
  {
   "cell_type": "markdown",
   "id": "6c1216df",
   "metadata": {
    "deletable": false,
    "editable": false,
    "id": "dde49b5c"
   },
   "source": [
    "**Задание 17. Выведите на экран перечень уникальных целей взятия кредита из столбца `purpose`.**"
   ]
  },
  {
   "cell_type": "code",
   "execution_count": 20,
   "id": "291e9adc",
   "metadata": {
    "deletable": false,
    "id": "f67ce9b3",
    "outputId": "673c12d9-7d7e-4ae0-9812-c622c89dd244"
   },
   "outputs": [
    {
     "data": {
      "text/plain": [
       "array(['покупка жилья', 'приобретение автомобиля',\n",
       "       'дополнительное образование', 'сыграть свадьбу',\n",
       "       'операции с жильем', 'образование', 'на проведение свадьбы',\n",
       "       'покупка жилья для семьи', 'покупка недвижимости',\n",
       "       'покупка коммерческой недвижимости', 'покупка жилой недвижимости',\n",
       "       'строительство собственной недвижимости', 'недвижимость',\n",
       "       'строительство недвижимости', 'на покупку подержанного автомобиля',\n",
       "       'на покупку своего автомобиля',\n",
       "       'операции с коммерческой недвижимостью',\n",
       "       'строительство жилой недвижимости', 'жилье',\n",
       "       'операции со своей недвижимостью', 'автомобили',\n",
       "       'заняться образованием', 'сделка с подержанным автомобилем',\n",
       "       'получение образования', 'автомобиль', 'свадьба',\n",
       "       'получение дополнительного образования', 'покупка своего жилья',\n",
       "       'операции с недвижимостью', 'получение высшего образования',\n",
       "       'свой автомобиль', 'сделка с автомобилем',\n",
       "       'профильное образование', 'высшее образование',\n",
       "       'покупка жилья для сдачи', 'на покупку автомобиля', 'ремонт жилью',\n",
       "       'заняться высшим образованием'], dtype=object)"
      ]
     },
     "execution_count": 20,
     "metadata": {},
     "output_type": "execute_result"
    }
   ],
   "source": [
    "data['purpose'].unique()"
   ]
  },
  {
   "cell_type": "markdown",
   "id": "7be27344",
   "metadata": {
    "deletable": false,
    "editable": false,
    "id": "85d0aef0"
   },
   "source": [
    "**Задание 18. Создайте функцию, которая на основании данных из столбца `purpose` сформирует новый столбец `purpose_category`, в который войдут следующие категории:**\n",
    "\n",
    "- `'операции с автомобилем'`,\n",
    "- `'операции с недвижимостью'`,\n",
    "- `'проведение свадьбы'`,\n",
    "- `'получение образования'`.\n",
    "\n",
    "**Например, если в столбце `purpose` находится подстрока `'на покупку автомобиля'`, то в столбце `purpose_category` должна появиться строка `'операции с автомобилем'`.**\n",
    "\n",
    "**Используйте собственную функцию с именем `categorize_purpose()` и метод `apply()`. Изучите данные в столбце `purpose` и определите, какие подстроки помогут вам правильно определить категорию.**"
   ]
  },
  {
   "cell_type": "code",
   "execution_count": 21,
   "id": "6709f7bc",
   "metadata": {
    "deletable": false,
    "id": "e149fab4"
   },
   "outputs": [],
   "source": [
    "def categorize_purpose(row):\n",
    "    try:\n",
    "        if 'автом' in row:\n",
    "            return 'операции с автомобилем'\n",
    "        elif 'жил' in row or 'недвиж' in row:\n",
    "            return 'операции с недвижимостью'\n",
    "        elif 'свад' in row:\n",
    "            return 'проведение свадьбы'\n",
    "        elif 'образов' in row:\n",
    "            return 'получение образования'\n",
    "    except:\n",
    "        return 'нет категории'"
   ]
  },
  {
   "cell_type": "code",
   "execution_count": 22,
   "id": "5dc8031d",
   "metadata": {
    "deletable": false,
    "id": "bf36e69b"
   },
   "outputs": [],
   "source": [
    "data['purpose_category'] = data['purpose'].apply(categorize_purpose)"
   ]
  },
  {
   "cell_type": "markdown",
   "id": "00c8e36f",
   "metadata": {
    "deletable": false,
    "editable": false,
    "id": "09b242bf"
   },
   "source": [
    "### Шаг 3. Исследуйте данные и ответьте на вопросы"
   ]
  },
  {
   "cell_type": "markdown",
   "id": "c86a8570",
   "metadata": {
    "deletable": false,
    "editable": false,
    "id": "c5d66278"
   },
   "source": [
    "#### 3.1 Есть ли зависимость между количеством детей и возвратом кредита в срок?"
   ]
  },
  {
   "cell_type": "code",
   "execution_count": 23,
   "id": "e919afe0",
   "metadata": {
    "deletable": false,
    "id": "2cacfc4a"
   },
   "outputs": [
    {
     "data": {
      "text/html": [
       "<div>\n",
       "<style scoped>\n",
       "    .dataframe tbody tr th:only-of-type {\n",
       "        vertical-align: middle;\n",
       "    }\n",
       "\n",
       "    .dataframe tbody tr th {\n",
       "        vertical-align: top;\n",
       "    }\n",
       "\n",
       "    .dataframe thead th {\n",
       "        text-align: right;\n",
       "    }\n",
       "</style>\n",
       "<table border=\"1\" class=\"dataframe\">\n",
       "  <thead>\n",
       "    <tr style=\"text-align: right;\">\n",
       "      <th>debt</th>\n",
       "      <th>Дети</th>\n",
       "      <th>Нет долгов</th>\n",
       "      <th>Должник</th>\n",
       "      <th>Всего клиентов</th>\n",
       "      <th>Процент Должников</th>\n",
       "    </tr>\n",
       "  </thead>\n",
       "  <tbody>\n",
       "    <tr>\n",
       "      <th>0</th>\n",
       "      <td>0</td>\n",
       "      <td>13028</td>\n",
       "      <td>1063</td>\n",
       "      <td>14091</td>\n",
       "      <td>7.543822</td>\n",
       "    </tr>\n",
       "    <tr>\n",
       "      <th>1</th>\n",
       "      <td>1</td>\n",
       "      <td>4364</td>\n",
       "      <td>444</td>\n",
       "      <td>4808</td>\n",
       "      <td>9.234609</td>\n",
       "    </tr>\n",
       "    <tr>\n",
       "      <th>2</th>\n",
       "      <td>2</td>\n",
       "      <td>1858</td>\n",
       "      <td>194</td>\n",
       "      <td>2052</td>\n",
       "      <td>9.454191</td>\n",
       "    </tr>\n",
       "    <tr>\n",
       "      <th>3</th>\n",
       "      <td>3</td>\n",
       "      <td>303</td>\n",
       "      <td>27</td>\n",
       "      <td>330</td>\n",
       "      <td>8.181818</td>\n",
       "    </tr>\n",
       "    <tr>\n",
       "      <th>4</th>\n",
       "      <td>4</td>\n",
       "      <td>37</td>\n",
       "      <td>4</td>\n",
       "      <td>41</td>\n",
       "      <td>9.756098</td>\n",
       "    </tr>\n",
       "    <tr>\n",
       "      <th>5</th>\n",
       "      <td>5</td>\n",
       "      <td>9</td>\n",
       "      <td>0</td>\n",
       "      <td>9</td>\n",
       "      <td>0.000000</td>\n",
       "    </tr>\n",
       "    <tr>\n",
       "      <th>6</th>\n",
       "      <td>All</td>\n",
       "      <td>19599</td>\n",
       "      <td>1732</td>\n",
       "      <td>21331</td>\n",
       "      <td>8.119638</td>\n",
       "    </tr>\n",
       "  </tbody>\n",
       "</table>\n",
       "</div>"
      ],
      "text/plain": [
       "debt Дети  Нет долгов  Должник  Всего клиентов  Процент Должников\n",
       "0       0       13028     1063           14091           7.543822\n",
       "1       1        4364      444            4808           9.234609\n",
       "2       2        1858      194            2052           9.454191\n",
       "3       3         303       27             330           8.181818\n",
       "4       4          37        4              41           9.756098\n",
       "5       5           9        0               9           0.000000\n",
       "6     All       19599     1732           21331           8.119638"
      ]
     },
     "execution_count": 23,
     "metadata": {},
     "output_type": "execute_result"
    }
   ],
   "source": [
    "#создадим сводную таблицу с группировкой по количеству детей\n",
    "childs = data.pivot_table(index='children', columns='debt', values='total_income', aggfunc='count', margins=True, fill_value=0)\n",
    "childs['debtors'] = childs[1] / childs['All'] * 100 # доля должников\n",
    "childs.reset_index(inplace=True)\n",
    "childs.rename(columns = {'children' : 'Дети', 0 : 'Нет долгов', 1 :'Должник', 'All' : 'Всего клиентов', 'debtors' : 'Процент Должников'}, inplace = True)\n",
    "childs# выводим на экран результат"
   ]
  },
  {
   "cell_type": "code",
   "execution_count": 24,
   "id": "6aca56c3",
   "metadata": {},
   "outputs": [
    {
     "data": {
      "text/plain": [
       "<seaborn.axisgrid.FacetGrid at 0x7f4f706cafd0>"
      ]
     },
     "execution_count": 24,
     "metadata": {},
     "output_type": "execute_result"
    },
    {
     "data": {
      "image/png": "[encoded data removed]",
      "text/plain": [
       "<Figure size 402.375x360 with 1 Axes>"
      ]
     },
     "metadata": {
      "needs_background": "light"
     },
     "output_type": "display_data"
    },
    {
     "data": {
      "image/png": "[encoded data removed]",
      "text/plain": [
       "<Figure size 402.375x360 with 1 Axes>"
      ]
     },
     "metadata": {
      "needs_background": "light"
     },
     "output_type": "display_data"
    }
   ],
   "source": [
    "import seaborn as sns # импортируем библиотеку seaborn\n",
    "childs_graph = data[data['children'] != 5] # исключим клиентов у которых 5 детей, т.к. данные по ним не репрезентативны\n",
    "sns.displot(data=childs_graph, x='children', hue='debt', multiple='stack', kind='kde') # строим график 0-нет долгов, 1 - должник\n",
    "child_graph_debtors = data[data['debt'] == 1] # оставим только должников и посмотрим распределение\n",
    "sns.displot(data=child_graph_debtors, x='children', hue='debt', multiple='stack', kind='kde')"
   ]
  },
  {
   "cell_type": "markdown",
   "id": "485b1926",
   "metadata": {
    "deletable": false,
    "id": "3a6b99ec"
   },
   "source": [
    "**Вывод:** Процент должников среди бездетных клиентов несколько ниже (=1-2%) по сравнению с клиентами у которых есть дети. Среди родителей количество должников примерно одинаковое (=9%), хотя счастливые обладатели троих представляются немного более ответственными. "
   ]
  },
  {
   "cell_type": "markdown",
   "id": "876be629",
   "metadata": {
    "deletable": false,
    "editable": false,
    "id": "97be82ca"
   },
   "source": [
    "#### 3.2 Есть ли зависимость между семейным положением и возвратом кредита в срок?"
   ]
  },
  {
   "cell_type": "code",
   "execution_count": 25,
   "id": "8476a761",
   "metadata": {
    "deletable": false,
    "id": "dc3f7ee8"
   },
   "outputs": [
    {
     "data": {
      "text/html": [
       "<div>\n",
       "<style scoped>\n",
       "    .dataframe tbody tr th:only-of-type {\n",
       "        vertical-align: middle;\n",
       "    }\n",
       "\n",
       "    .dataframe tbody tr th {\n",
       "        vertical-align: top;\n",
       "    }\n",
       "\n",
       "    .dataframe thead th {\n",
       "        text-align: right;\n",
       "    }\n",
       "</style>\n",
       "<table border=\"1\" class=\"dataframe\">\n",
       "  <thead>\n",
       "    <tr style=\"text-align: right;\">\n",
       "      <th>debt</th>\n",
       "      <th>Статус</th>\n",
       "      <th>Нет долгов</th>\n",
       "      <th>Должник</th>\n",
       "      <th>Всего клиентов</th>\n",
       "      <th>Процент Должников</th>\n",
       "    </tr>\n",
       "  </thead>\n",
       "  <tbody>\n",
       "    <tr>\n",
       "      <th>0</th>\n",
       "      <td>0</td>\n",
       "      <td>11334</td>\n",
       "      <td>927</td>\n",
       "      <td>12261</td>\n",
       "      <td>7.560558</td>\n",
       "    </tr>\n",
       "    <tr>\n",
       "      <th>1</th>\n",
       "      <td>1</td>\n",
       "      <td>3749</td>\n",
       "      <td>385</td>\n",
       "      <td>4134</td>\n",
       "      <td>9.313014</td>\n",
       "    </tr>\n",
       "    <tr>\n",
       "      <th>2</th>\n",
       "      <td>2</td>\n",
       "      <td>888</td>\n",
       "      <td>63</td>\n",
       "      <td>951</td>\n",
       "      <td>6.624606</td>\n",
       "    </tr>\n",
       "    <tr>\n",
       "      <th>3</th>\n",
       "      <td>3</td>\n",
       "      <td>1105</td>\n",
       "      <td>84</td>\n",
       "      <td>1189</td>\n",
       "      <td>7.064760</td>\n",
       "    </tr>\n",
       "    <tr>\n",
       "      <th>4</th>\n",
       "      <td>4</td>\n",
       "      <td>2523</td>\n",
       "      <td>273</td>\n",
       "      <td>2796</td>\n",
       "      <td>9.763948</td>\n",
       "    </tr>\n",
       "    <tr>\n",
       "      <th>5</th>\n",
       "      <td>All</td>\n",
       "      <td>19599</td>\n",
       "      <td>1732</td>\n",
       "      <td>21331</td>\n",
       "      <td>8.119638</td>\n",
       "    </tr>\n",
       "  </tbody>\n",
       "</table>\n",
       "</div>"
      ],
      "text/plain": [
       "debt Статус  Нет долгов  Должник  Всего клиентов  Процент Должников\n",
       "0         0       11334      927           12261           7.560558\n",
       "1         1        3749      385            4134           9.313014\n",
       "2         2         888       63             951           6.624606\n",
       "3         3        1105       84            1189           7.064760\n",
       "4         4        2523      273            2796           9.763948\n",
       "5       All       19599     1732           21331           8.119638"
      ]
     },
     "execution_count": 25,
     "metadata": {},
     "output_type": "execute_result"
    }
   ],
   "source": [
    "#создадим сводную таблицу с группировкой по семейному положению\n",
    "married = data.pivot_table(index='family_status_id', columns='debt', values='total_income', aggfunc='count', margins=True, fill_value=0)\n",
    "married['debtors'] = married[1] / married['All'] * 100 # доля должников\n",
    "married.reset_index(inplace=True)\n",
    "married.rename(columns = {'family_status_id' : 'Статус', 0 : 'Нет долгов', 1 :'Должник', 'All' : 'Всего клиентов', 'debtors' : 'Процент Должников'}, inplace = True)\n",
    "# переименовали столбцы\n",
    "married# выводим на экран результат"
   ]
  },
  {
   "cell_type": "markdown",
   "id": "fb05fdcf",
   "metadata": {},
   "source": [
    "0 - женат / замужем\n",
    "1 - гражданский брак\n",
    "2 - вдовец / вдова\t\n",
    "3 - в разводе\n",
    "4 - Не женат / не замужем\t"
   ]
  },
  {
   "cell_type": "code",
   "execution_count": 26,
   "id": "c37f9f50",
   "metadata": {},
   "outputs": [
    {
     "data": {
      "text/plain": [
       "<seaborn.axisgrid.FacetGrid at 0x7f4f66596850>"
      ]
     },
     "execution_count": 26,
     "metadata": {},
     "output_type": "execute_result"
    },
    {
     "data": {
      "image/png": "[encoded data removed]",
      "text/plain": [
       "<Figure size 402.375x360 with 1 Axes>"
      ]
     },
     "metadata": {
      "needs_background": "light"
     },
     "output_type": "display_data"
    }
   ],
   "source": [
    "sns.displot(data=data, x='family_status_id', hue='debt', multiple='stack', kind='kde')"
   ]
  },
  {
   "cell_type": "markdown",
   "id": "2fc96635",
   "metadata": {
    "deletable": false,
    "id": "1cef7837"
   },
   "source": [
    "**Вывод:** Холостые, либо живущие в гражданском браке на ~2% чаще попадают в просрочку, нежели люди в отношениях или имевших такой опыт."
   ]
  },
  {
   "cell_type": "markdown",
   "id": "fa21fb36",
   "metadata": {
    "deletable": false,
    "editable": false,
    "id": "1e8b2fca"
   },
   "source": [
    "#### 3.3 Есть ли зависимость между уровнем дохода и возвратом кредита в срок?"
   ]
  },
  {
   "cell_type": "code",
   "execution_count": 27,
   "id": "06e49d7f",
   "metadata": {
    "deletable": false,
    "id": "cd7e3720"
   },
   "outputs": [
    {
     "data": {
      "text/html": [
       "<div>\n",
       "<style scoped>\n",
       "    .dataframe tbody tr th:only-of-type {\n",
       "        vertical-align: middle;\n",
       "    }\n",
       "\n",
       "    .dataframe tbody tr th {\n",
       "        vertical-align: top;\n",
       "    }\n",
       "\n",
       "    .dataframe thead th {\n",
       "        text-align: right;\n",
       "    }\n",
       "</style>\n",
       "<table border=\"1\" class=\"dataframe\">\n",
       "  <thead>\n",
       "    <tr style=\"text-align: right;\">\n",
       "      <th>debt</th>\n",
       "      <th>Категория</th>\n",
       "      <th>Нет долгов</th>\n",
       "      <th>Должник</th>\n",
       "      <th>Всего клиентов</th>\n",
       "      <th>Процент Должников</th>\n",
       "    </tr>\n",
       "  </thead>\n",
       "  <tbody>\n",
       "    <tr>\n",
       "      <th>0</th>\n",
       "      <td>A</td>\n",
       "      <td>23</td>\n",
       "      <td>2</td>\n",
       "      <td>25</td>\n",
       "      <td>8.000000</td>\n",
       "    </tr>\n",
       "    <tr>\n",
       "      <th>1</th>\n",
       "      <td>B</td>\n",
       "      <td>4660</td>\n",
       "      <td>354</td>\n",
       "      <td>5014</td>\n",
       "      <td>7.060231</td>\n",
       "    </tr>\n",
       "    <tr>\n",
       "      <th>2</th>\n",
       "      <td>C</td>\n",
       "      <td>14568</td>\n",
       "      <td>1353</td>\n",
       "      <td>15921</td>\n",
       "      <td>8.498210</td>\n",
       "    </tr>\n",
       "    <tr>\n",
       "      <th>3</th>\n",
       "      <td>D</td>\n",
       "      <td>328</td>\n",
       "      <td>21</td>\n",
       "      <td>349</td>\n",
       "      <td>6.017192</td>\n",
       "    </tr>\n",
       "    <tr>\n",
       "      <th>4</th>\n",
       "      <td>E</td>\n",
       "      <td>20</td>\n",
       "      <td>2</td>\n",
       "      <td>22</td>\n",
       "      <td>9.090909</td>\n",
       "    </tr>\n",
       "    <tr>\n",
       "      <th>5</th>\n",
       "      <td>All</td>\n",
       "      <td>19599</td>\n",
       "      <td>1732</td>\n",
       "      <td>21331</td>\n",
       "      <td>8.119638</td>\n",
       "    </tr>\n",
       "  </tbody>\n",
       "</table>\n",
       "</div>"
      ],
      "text/plain": [
       "debt Категория  Нет долгов  Должник  Всего клиентов  Процент Должников\n",
       "0            A          23        2              25           8.000000\n",
       "1            B        4660      354            5014           7.060231\n",
       "2            C       14568     1353           15921           8.498210\n",
       "3            D         328       21             349           6.017192\n",
       "4            E          20        2              22           9.090909\n",
       "5          All       19599     1732           21331           8.119638"
      ]
     },
     "execution_count": 27,
     "metadata": {},
     "output_type": "execute_result"
    }
   ],
   "source": [
    "#создадим сводную таблицу с группировкой по категории дохода\n",
    "income = data.pivot_table(index='total_income_category', columns='debt', values='total_income', aggfunc='count', margins=True, fill_value=0)\n",
    "income['debtors'] = income[1] / income['All'] * 100 # доля должников\n",
    "income.reset_index(inplace=True)\n",
    "income.rename(columns = {'total_income_category' : 'Категория', 0 : 'Нет долгов', 1 :'Должник', 'All' : 'Всего клиентов', 'debtors' : 'Процент Должников'}, inplace = True)\n",
    "income # выводим на экран результат"
   ]
  },
  {
   "cell_type": "markdown",
   "id": "ec5d3074",
   "metadata": {},
   "source": [
    "A - более 1млн\n",
    "B - 200т.р. - 1млн\n",
    "C - 50т.р - 200т.р.\n",
    "D - 30т.р. - 50т.р.\n",
    "E - менее 30т.р."
   ]
  },
  {
   "cell_type": "code",
   "execution_count": 28,
   "id": "9f814092",
   "metadata": {},
   "outputs": [
    {
     "data": {
      "text/plain": [
       "<AxesSubplot:xlabel='total_income_category', ylabel='Count'>"
      ]
     },
     "execution_count": 28,
     "metadata": {},
     "output_type": "execute_result"
    },
    {
     "data": {
      "image/png": "[encoded data removed]",
      "text/plain": [
       "<Figure size 432x288 with 1 Axes>"
      ]
     },
     "metadata": {
      "needs_background": "light"
     },
     "output_type": "display_data"
    }
   ],
   "source": [
    "income_graph = data[data['total_income_category'] != 'A']\n",
    "income_graph = income_graph[income_graph['total_income_category'] != 'E']\n",
    "# перед построение графика исключим категории 'A' и 'E', как нерепрезентативные\n",
    "sns.histplot(data=income_graph, x='total_income_category', hue='debt')"
   ]
  },
  {
   "cell_type": "markdown",
   "id": "1526fe81",
   "metadata": {
    "deletable": false,
    "id": "e8593def"
   },
   "source": [
    "**Вывод:** По уровню дохода колебания процента должников тоже сотавляют ~1-2%. Прямой зависимости не наблюдается. Если исключить категории А и Е, по которым мало данных, видим процент невозврата в районе 6-8.5%."
   ]
  },
  {
   "cell_type": "markdown",
   "id": "7c435963",
   "metadata": {
    "deletable": false,
    "editable": false,
    "id": "99ecbd1f"
   },
   "source": [
    "#### 3.4 Как разные цели кредита влияют на его возврат в срок?"
   ]
  },
  {
   "cell_type": "code",
   "execution_count": 29,
   "id": "f9ce878f",
   "metadata": {
    "deletable": false,
    "id": "2b687290"
   },
   "outputs": [
    {
     "data": {
      "text/html": [
       "<div>\n",
       "<style scoped>\n",
       "    .dataframe tbody tr th:only-of-type {\n",
       "        vertical-align: middle;\n",
       "    }\n",
       "\n",
       "    .dataframe tbody tr th {\n",
       "        vertical-align: top;\n",
       "    }\n",
       "\n",
       "    .dataframe thead th {\n",
       "        text-align: right;\n",
       "    }\n",
       "</style>\n",
       "<table border=\"1\" class=\"dataframe\">\n",
       "  <thead>\n",
       "    <tr style=\"text-align: right;\">\n",
       "      <th>debt</th>\n",
       "      <th>Цель кредита</th>\n",
       "      <th>Нет долгов</th>\n",
       "      <th>Должник</th>\n",
       "      <th>Всего клиентов</th>\n",
       "      <th>Процент Должников</th>\n",
       "    </tr>\n",
       "  </thead>\n",
       "  <tbody>\n",
       "    <tr>\n",
       "      <th>0</th>\n",
       "      <td>операции с автомобилем</td>\n",
       "      <td>3879</td>\n",
       "      <td>400</td>\n",
       "      <td>4279</td>\n",
       "      <td>9.347978</td>\n",
       "    </tr>\n",
       "    <tr>\n",
       "      <th>1</th>\n",
       "      <td>операции с недвижимостью</td>\n",
       "      <td>9971</td>\n",
       "      <td>780</td>\n",
       "      <td>10751</td>\n",
       "      <td>7.255139</td>\n",
       "    </tr>\n",
       "    <tr>\n",
       "      <th>2</th>\n",
       "      <td>получение образования</td>\n",
       "      <td>3619</td>\n",
       "      <td>369</td>\n",
       "      <td>3988</td>\n",
       "      <td>9.252758</td>\n",
       "    </tr>\n",
       "    <tr>\n",
       "      <th>3</th>\n",
       "      <td>проведение свадьбы</td>\n",
       "      <td>2130</td>\n",
       "      <td>183</td>\n",
       "      <td>2313</td>\n",
       "      <td>7.911803</td>\n",
       "    </tr>\n",
       "    <tr>\n",
       "      <th>4</th>\n",
       "      <td>All</td>\n",
       "      <td>19599</td>\n",
       "      <td>1732</td>\n",
       "      <td>21331</td>\n",
       "      <td>8.119638</td>\n",
       "    </tr>\n",
       "  </tbody>\n",
       "</table>\n",
       "</div>"
      ],
      "text/plain": [
       "debt              Цель кредита  Нет долгов  Должник  Всего клиентов  \\\n",
       "0       операции с автомобилем        3879      400            4279   \n",
       "1     операции с недвижимостью        9971      780           10751   \n",
       "2        получение образования        3619      369            3988   \n",
       "3           проведение свадьбы        2130      183            2313   \n",
       "4                          All       19599     1732           21331   \n",
       "\n",
       "debt  Процент Должников  \n",
       "0              9.347978  \n",
       "1              7.255139  \n",
       "2              9.252758  \n",
       "3              7.911803  \n",
       "4              8.119638  "
      ]
     },
     "execution_count": 29,
     "metadata": {},
     "output_type": "execute_result"
    }
   ],
   "source": [
    "#создадим сводную таблицу с группировкой по цели кредита\n",
    "purpose = data.pivot_table(index='purpose_category', columns='debt', values='total_income', aggfunc='count', margins=True, fill_value=0)\n",
    "purpose['debtors'] = purpose[1] / purpose['All'] * 100 # доля должников\n",
    "purpose.reset_index(inplace=True)\n",
    "purpose.rename(columns = {'purpose_category' : 'Цель кредита', 0 : 'Нет долгов', 1 :'Должник', 'All' : 'Всего клиентов', 'debtors' : 'Процент Должников'}, inplace = True)\n",
    "purpose # выводим на экран результат"
   ]
  },
  {
   "cell_type": "code",
   "execution_count": 30,
   "id": "005dbcf9",
   "metadata": {},
   "outputs": [
    {
     "data": {
      "text/plain": [
       "<AxesSubplot:xlabel='purpose_category', ylabel='Count'>"
      ]
     },
     "execution_count": 30,
     "metadata": {},
     "output_type": "execute_result"
    },
    {
     "data": {
      "image/png": "[encoded data removed]",
      "text/plain": [
       "<Figure size 432x288 with 1 Axes>"
      ]
     },
     "metadata": {
      "needs_background": "light"
     },
     "output_type": "display_data"
    }
   ],
   "source": [
    "sns.histplot(data=income_graph, x='purpose_category', hue='debt', multiple=\"dodge\")"
   ]
  },
  {
   "cell_type": "markdown",
   "id": "2606fc49",
   "metadata": {
    "deletable": false,
    "id": "b4bb2ce6"
   },
   "source": [
    "**Вывод:** Кредит на авто и образование на ~2% чаще не возвращается в срок"
   ]
  },
  {
   "cell_type": "markdown",
   "id": "d8f8a1e6",
   "metadata": {
    "deletable": false,
    "editable": false,
    "id": "09c3ac4c"
   },
   "source": [
    "#### 3.5 Приведите возможные причины появления пропусков в исходных данных."
   ]
  },
  {
   "cell_type": "code",
   "execution_count": 31,
   "id": "b7721a87",
   "metadata": {},
   "outputs": [
    {
     "name": "stdout",
     "output_type": "stream",
     "text": [
      "<class 'pandas.core.frame.DataFrame'>\n",
      "Int64Index: 2174 entries, 12 to 21510\n",
      "Data columns (total 12 columns):\n",
      " #   Column            Non-Null Count  Dtype  \n",
      "---  ------            --------------  -----  \n",
      " 0   children          2174 non-null   int64  \n",
      " 1   days_employed     0 non-null      float64\n",
      " 2   dob_years         2174 non-null   int64  \n",
      " 3   education         2174 non-null   object \n",
      " 4   education_id      2174 non-null   int64  \n",
      " 5   family_status     2174 non-null   object \n",
      " 6   family_status_id  2174 non-null   int64  \n",
      " 7   gender            2174 non-null   object \n",
      " 8   income_type       2174 non-null   object \n",
      " 9   debt              2174 non-null   int64  \n",
      " 10  total_income      0 non-null      float64\n",
      " 11  purpose           2174 non-null   object \n",
      "dtypes: float64(2), int64(5), object(5)\n",
      "memory usage: 220.8+ KB\n"
     ]
    }
   ],
   "source": [
    "# prep - DataFrame скопированный до заполнения пропусков\n",
    "prep = prep[prep['total_income'].isna()] # отфильтруем по пропускам в столбце 'total_income'\n",
    "prep.info() # описание"
   ]
  },
  {
   "cell_type": "markdown",
   "id": "51cf30b2",
   "metadata": {
    "deletable": false,
    "id": "9da2ceda"
   },
   "source": [
    "*Ответ:* Так как значения пропущенные в столбцах 'days_employed' и 'total_income' принадлежат одной группе клиентов в размере 2174 записи мы можем предположить, что данные полученны из однго(нескольких) источника(ов), где:\n",
    "- имеет место проблема выгрузки данных;\n",
    "- кредит выдается по неполному пакету документов(без подтверждения стажа и уровня дохода)."
   ]
  },
  {
   "cell_type": "markdown",
   "id": "fd05baa7",
   "metadata": {
    "deletable": false,
    "editable": false,
    "id": "7b0487d6"
   },
   "source": [
    "#### 3.6 Объясните, почему заполнить пропуски медианным значением — лучшее решение для количественных переменных."
   ]
  },
  {
   "cell_type": "markdown",
   "id": "27bffa60",
   "metadata": {
    "deletable": false,
    "id": "7ecf2b8e"
   },
   "source": [
    "*Ответ:* Медиана - серединное значение набора чисел, в нашем случае обЪекта типа Series. Таким образом аномальные значения и выбросы не приведут к искажению среднего значения."
   ]
  },
  {
   "cell_type": "markdown",
   "id": "003640b7",
   "metadata": {
    "deletable": false,
    "editable": false,
    "id": "6db5255a"
   },
   "source": [
    "### Шаг 4: общий вывод."
   ]
  },
  {
   "cell_type": "markdown",
   "id": "04e07799",
   "metadata": {
    "deletable": false,
    "id": "bad65432"
   },
   "source": [
    "Итог: Если клиент - бездетный вдовец, со средним достатком и пришли в банк за кредитом дом/квартиру - шанс что он вернете кредит вовремя несколько выше, нежели у родителя одиночки, решившего купить машину, либо заняться саморазвитием. Прямой зависимости не возврата от перечисленных фаторов не наблюдается. Процент невозрата в среднем - 8.11%, отклонение доли по выбранным параметрам не велико и в большей выборке может измениться."
   ]
  }
 ],
 "metadata": {
  "ExecuteTimeLog": [
   {
    "duration": 47,
    "start_time": "2023-02-07T07:18:05.045Z"
   },
   {
    "duration": 1109,
    "start_time": "2023-02-07T07:18:16.289Z"
   },
   {
    "duration": 21,
    "start_time": "2023-02-07T07:18:21.017Z"
   },
   {
    "duration": 14,
    "start_time": "2023-02-07T07:18:24.135Z"
   },
   {
    "duration": 9,
    "start_time": "2023-02-07T07:18:26.558Z"
   },
   {
    "duration": 34,
    "start_time": "2023-02-07T07:18:29.243Z"
   },
   {
    "duration": 3,
    "start_time": "2023-02-07T07:18:31.710Z"
   },
   {
    "duration": 9,
    "start_time": "2023-02-07T07:18:33.553Z"
   },
   {
    "duration": 4,
    "start_time": "2023-02-07T07:18:36.457Z"
   },
   {
    "duration": 6,
    "start_time": "2023-02-07T07:18:38.109Z"
   },
   {
    "duration": 5,
    "start_time": "2023-02-07T07:18:39.726Z"
   },
   {
    "duration": 463,
    "start_time": "2023-02-07T07:18:43.814Z"
   },
   {
    "duration": 30,
    "start_time": "2023-02-07T07:18:44.280Z"
   },
   {
    "duration": 18,
    "start_time": "2023-02-07T07:18:44.312Z"
   },
   {
    "duration": 18,
    "start_time": "2023-02-07T07:18:44.332Z"
   },
   {
    "duration": 37,
    "start_time": "2023-02-07T07:18:44.351Z"
   },
   {
    "duration": 3,
    "start_time": "2023-02-07T07:18:44.390Z"
   },
   {
    "duration": 9,
    "start_time": "2023-02-07T07:18:44.395Z"
   },
   {
    "duration": 5,
    "start_time": "2023-02-07T07:18:44.406Z"
   },
   {
    "duration": 22,
    "start_time": "2023-02-07T07:18:44.413Z"
   },
   {
    "duration": 4,
    "start_time": "2023-02-07T07:18:44.440Z"
   },
   {
    "duration": 32,
    "start_time": "2023-02-07T07:18:44.445Z"
   },
   {
    "duration": 8,
    "start_time": "2023-02-07T07:18:44.478Z"
   },
   {
    "duration": 5,
    "start_time": "2023-02-07T07:18:44.488Z"
   },
   {
    "duration": 36,
    "start_time": "2023-02-07T07:18:44.494Z"
   },
   {
    "duration": 17,
    "start_time": "2023-02-07T07:18:44.532Z"
   },
   {
    "duration": 17,
    "start_time": "2023-02-07T07:18:44.551Z"
   },
   {
    "duration": 4,
    "start_time": "2023-02-07T07:18:44.569Z"
   },
   {
    "duration": 14,
    "start_time": "2023-02-07T07:18:44.575Z"
   },
   {
    "duration": 6,
    "start_time": "2023-02-07T07:18:44.591Z"
   },
   {
    "duration": 38,
    "start_time": "2023-02-07T07:18:44.599Z"
   },
   {
    "duration": 13,
    "start_time": "2023-02-07T07:18:44.638Z"
   },
   {
    "duration": 65,
    "start_time": "2023-02-07T07:18:44.652Z"
   },
   {
    "duration": 0,
    "start_time": "2023-02-07T07:18:44.719Z"
   },
   {
    "duration": 0,
    "start_time": "2023-02-07T07:18:44.720Z"
   },
   {
    "duration": 0,
    "start_time": "2023-02-07T07:18:44.721Z"
   },
   {
    "duration": 18,
    "start_time": "2023-02-07T07:19:04.063Z"
   },
   {
    "duration": 21,
    "start_time": "2023-02-07T07:19:19.310Z"
   },
   {
    "duration": 34,
    "start_time": "2023-02-07T07:20:04.071Z"
   },
   {
    "duration": 48,
    "start_time": "2023-02-07T07:22:08.510Z"
   },
   {
    "duration": 32,
    "start_time": "2023-02-07T07:22:32.629Z"
   },
   {
    "duration": 36,
    "start_time": "2023-02-07T07:22:40.395Z"
   },
   {
    "duration": 32,
    "start_time": "2023-02-07T07:23:34.708Z"
   },
   {
    "duration": 958,
    "start_time": "2023-02-07T07:29:44.471Z"
   },
   {
    "duration": 458,
    "start_time": "2023-02-07T07:30:13.682Z"
   },
   {
    "duration": 23,
    "start_time": "2023-02-07T07:30:14.142Z"
   },
   {
    "duration": 19,
    "start_time": "2023-02-07T07:30:14.167Z"
   },
   {
    "duration": 9,
    "start_time": "2023-02-07T07:30:14.187Z"
   },
   {
    "duration": 64,
    "start_time": "2023-02-07T07:30:14.199Z"
   },
   {
    "duration": 4,
    "start_time": "2023-02-07T07:30:14.264Z"
   },
   {
    "duration": 13,
    "start_time": "2023-02-07T07:30:14.270Z"
   },
   {
    "duration": 5,
    "start_time": "2023-02-07T07:30:14.285Z"
   },
   {
    "duration": 27,
    "start_time": "2023-02-07T07:30:14.292Z"
   },
   {
    "duration": 16,
    "start_time": "2023-02-07T07:30:14.321Z"
   },
   {
    "duration": 74,
    "start_time": "2023-02-07T07:30:14.339Z"
   },
   {
    "duration": 12,
    "start_time": "2023-02-07T07:30:14.415Z"
   },
   {
    "duration": 13,
    "start_time": "2023-02-07T07:30:14.429Z"
   },
   {
    "duration": 19,
    "start_time": "2023-02-07T07:30:14.445Z"
   },
   {
    "duration": 27,
    "start_time": "2023-02-07T07:30:14.466Z"
   },
   {
    "duration": 16,
    "start_time": "2023-02-07T07:30:14.494Z"
   },
   {
    "duration": 4,
    "start_time": "2023-02-07T07:30:14.527Z"
   },
   {
    "duration": 12,
    "start_time": "2023-02-07T07:30:14.532Z"
   },
   {
    "duration": 12,
    "start_time": "2023-02-07T07:30:14.546Z"
   },
   {
    "duration": 5,
    "start_time": "2023-02-07T07:30:14.560Z"
   },
   {
    "duration": 11,
    "start_time": "2023-02-07T07:30:14.567Z"
   },
   {
    "duration": 66,
    "start_time": "2023-02-07T07:30:14.580Z"
   },
   {
    "duration": 824,
    "start_time": "2023-02-07T07:30:14.648Z"
   },
   {
    "duration": 0,
    "start_time": "2023-02-07T07:30:15.474Z"
   },
   {
    "duration": 0,
    "start_time": "2023-02-07T07:30:15.475Z"
   },
   {
    "duration": 0,
    "start_time": "2023-02-07T07:30:15.475Z"
   },
   {
    "duration": 21,
    "start_time": "2023-02-07T07:30:43.229Z"
   },
   {
    "duration": 23,
    "start_time": "2023-02-07T07:32:33.975Z"
   },
   {
    "duration": 22,
    "start_time": "2023-02-07T07:32:53.193Z"
   },
   {
    "duration": 452,
    "start_time": "2023-02-07T07:33:01.369Z"
   },
   {
    "duration": 26,
    "start_time": "2023-02-07T07:33:01.823Z"
   },
   {
    "duration": 42,
    "start_time": "2023-02-07T07:33:01.851Z"
   },
   {
    "duration": 16,
    "start_time": "2023-02-07T07:33:01.894Z"
   },
   {
    "duration": 42,
    "start_time": "2023-02-07T07:33:01.912Z"
   },
   {
    "duration": 4,
    "start_time": "2023-02-07T07:33:01.956Z"
   },
   {
    "duration": 29,
    "start_time": "2023-02-07T07:33:01.962Z"
   },
   {
    "duration": 12,
    "start_time": "2023-02-07T07:33:01.993Z"
   },
   {
    "duration": 19,
    "start_time": "2023-02-07T07:33:02.007Z"
   },
   {
    "duration": 11,
    "start_time": "2023-02-07T07:33:02.029Z"
   },
   {
    "duration": 68,
    "start_time": "2023-02-07T07:33:02.042Z"
   },
   {
    "duration": 13,
    "start_time": "2023-02-07T07:33:02.112Z"
   },
   {
    "duration": 5,
    "start_time": "2023-02-07T07:33:02.127Z"
   },
   {
    "duration": 40,
    "start_time": "2023-02-07T07:33:02.135Z"
   },
   {
    "duration": 32,
    "start_time": "2023-02-07T07:33:02.177Z"
   },
   {
    "duration": 22,
    "start_time": "2023-02-07T07:33:02.211Z"
   },
   {
    "duration": 16,
    "start_time": "2023-02-07T07:33:02.235Z"
   },
   {
    "duration": 26,
    "start_time": "2023-02-07T07:33:02.253Z"
   },
   {
    "duration": 14,
    "start_time": "2023-02-07T07:33:02.281Z"
   },
   {
    "duration": 4,
    "start_time": "2023-02-07T07:33:02.297Z"
   },
   {
    "duration": 13,
    "start_time": "2023-02-07T07:33:02.302Z"
   },
   {
    "duration": 55,
    "start_time": "2023-02-07T07:33:02.316Z"
   },
   {
    "duration": 803,
    "start_time": "2023-02-07T07:33:02.373Z"
   },
   {
    "duration": 0,
    "start_time": "2023-02-07T07:33:03.178Z"
   },
   {
    "duration": 0,
    "start_time": "2023-02-07T07:33:03.179Z"
   },
   {
    "duration": 0,
    "start_time": "2023-02-07T07:33:03.181Z"
   },
   {
    "duration": 746,
    "start_time": "2023-02-07T07:33:45.953Z"
   },
   {
    "duration": 4,
    "start_time": "2023-02-07T07:34:32.219Z"
   },
   {
    "duration": 700,
    "start_time": "2023-02-07T07:34:39.101Z"
   },
   {
    "duration": 610,
    "start_time": "2023-02-07T07:35:18.158Z"
   },
   {
    "duration": 641,
    "start_time": "2023-02-07T07:36:33.962Z"
   },
   {
    "duration": 1027,
    "start_time": "2023-02-07T07:36:51.655Z"
   },
   {
    "duration": 40,
    "start_time": "2023-02-07T07:37:55.447Z"
   },
   {
    "duration": 43,
    "start_time": "2023-02-07T07:38:15.719Z"
   },
   {
    "duration": 49,
    "start_time": "2023-02-07T07:39:02.181Z"
   },
   {
    "duration": 1008,
    "start_time": "2023-02-07T07:39:50.251Z"
   },
   {
    "duration": 28,
    "start_time": "2023-02-07T07:42:08.660Z"
   },
   {
    "duration": 14,
    "start_time": "2023-02-07T07:45:53.052Z"
   },
   {
    "duration": 44,
    "start_time": "2023-02-07T07:46:25.858Z"
   },
   {
    "duration": 359,
    "start_time": "2023-02-07T07:48:01.718Z"
   },
   {
    "duration": 428,
    "start_time": "2023-02-07T07:48:25.654Z"
   },
   {
    "duration": 17,
    "start_time": "2023-02-07T07:49:06.754Z"
   },
   {
    "duration": 24,
    "start_time": "2023-02-07T07:49:30.194Z"
   },
   {
    "duration": 19,
    "start_time": "2023-02-07T07:51:22.390Z"
   },
   {
    "duration": 24,
    "start_time": "2023-02-07T07:52:05.997Z"
   },
   {
    "duration": 11,
    "start_time": "2023-02-07T07:52:25.072Z"
   },
   {
    "duration": 10,
    "start_time": "2023-02-07T07:53:32.873Z"
   },
   {
    "duration": 16,
    "start_time": "2023-02-07T07:53:39.939Z"
   },
   {
    "duration": 21,
    "start_time": "2023-02-07T07:53:57.491Z"
   },
   {
    "duration": 22,
    "start_time": "2023-02-07T07:54:12.448Z"
   },
   {
    "duration": 4,
    "start_time": "2023-02-07T07:54:53.010Z"
   },
   {
    "duration": 830,
    "start_time": "2023-02-07T07:55:00.129Z"
   },
   {
    "duration": 217,
    "start_time": "2023-02-07T07:55:50.952Z"
   },
   {
    "duration": 154,
    "start_time": "2023-02-07T07:56:33.163Z"
   },
   {
    "duration": 191,
    "start_time": "2023-02-07T07:56:49.794Z"
   },
   {
    "duration": 8,
    "start_time": "2023-02-07T07:59:08.056Z"
   },
   {
    "duration": 9,
    "start_time": "2023-02-07T07:59:34.460Z"
   },
   {
    "duration": 10,
    "start_time": "2023-02-07T08:00:20.453Z"
   },
   {
    "duration": 22,
    "start_time": "2023-02-07T08:00:35.555Z"
   },
   {
    "duration": 14,
    "start_time": "2023-02-07T08:00:56.318Z"
   },
   {
    "duration": 4,
    "start_time": "2023-02-07T08:01:10.717Z"
   },
   {
    "duration": 3,
    "start_time": "2023-02-07T08:01:17.029Z"
   },
   {
    "duration": 10,
    "start_time": "2023-02-07T08:01:26.438Z"
   },
   {
    "duration": 4,
    "start_time": "2023-02-07T08:02:00.573Z"
   },
   {
    "duration": 5,
    "start_time": "2023-02-07T08:03:32.846Z"
   },
   {
    "duration": 21,
    "start_time": "2023-02-07T08:04:00.442Z"
   },
   {
    "duration": 10,
    "start_time": "2023-02-07T08:04:08.322Z"
   },
   {
    "duration": 188,
    "start_time": "2023-02-07T08:04:27.712Z"
   },
   {
    "duration": 15,
    "start_time": "2023-02-07T08:07:30.493Z"
   },
   {
    "duration": 204,
    "start_time": "2023-02-07T08:08:15.113Z"
   },
   {
    "duration": 178,
    "start_time": "2023-02-07T08:09:02.879Z"
   },
   {
    "duration": 184,
    "start_time": "2023-02-07T08:09:10.111Z"
   },
   {
    "duration": 35,
    "start_time": "2023-02-07T08:11:10.544Z"
   },
   {
    "duration": 36,
    "start_time": "2023-02-07T08:11:16.594Z"
   },
   {
    "duration": 251,
    "start_time": "2023-02-07T08:12:13.415Z"
   },
   {
    "duration": 165,
    "start_time": "2023-02-07T08:12:44.211Z"
   },
   {
    "duration": 474,
    "start_time": "2023-02-07T08:18:22.441Z"
   },
   {
    "duration": 22,
    "start_time": "2023-02-07T08:18:22.917Z"
   },
   {
    "duration": 15,
    "start_time": "2023-02-07T08:18:22.941Z"
   },
   {
    "duration": 75,
    "start_time": "2023-02-07T08:18:22.958Z"
   },
   {
    "duration": 0,
    "start_time": "2023-02-07T08:18:23.035Z"
   },
   {
    "duration": 0,
    "start_time": "2023-02-07T08:18:23.036Z"
   },
   {
    "duration": 0,
    "start_time": "2023-02-07T08:18:23.037Z"
   },
   {
    "duration": 0,
    "start_time": "2023-02-07T08:18:23.038Z"
   },
   {
    "duration": 0,
    "start_time": "2023-02-07T08:18:23.040Z"
   },
   {
    "duration": 0,
    "start_time": "2023-02-07T08:18:23.041Z"
   },
   {
    "duration": 0,
    "start_time": "2023-02-07T08:18:23.042Z"
   },
   {
    "duration": 0,
    "start_time": "2023-02-07T08:18:23.043Z"
   },
   {
    "duration": 0,
    "start_time": "2023-02-07T08:18:23.044Z"
   },
   {
    "duration": 0,
    "start_time": "2023-02-07T08:18:23.045Z"
   },
   {
    "duration": 0,
    "start_time": "2023-02-07T08:18:23.045Z"
   },
   {
    "duration": 0,
    "start_time": "2023-02-07T08:18:23.047Z"
   },
   {
    "duration": 0,
    "start_time": "2023-02-07T08:18:23.047Z"
   },
   {
    "duration": 0,
    "start_time": "2023-02-07T08:18:23.048Z"
   },
   {
    "duration": 0,
    "start_time": "2023-02-07T08:18:23.049Z"
   },
   {
    "duration": 0,
    "start_time": "2023-02-07T08:18:23.050Z"
   },
   {
    "duration": 0,
    "start_time": "2023-02-07T08:18:23.051Z"
   },
   {
    "duration": 0,
    "start_time": "2023-02-07T08:18:23.053Z"
   },
   {
    "duration": 0,
    "start_time": "2023-02-07T08:18:23.053Z"
   },
   {
    "duration": 0,
    "start_time": "2023-02-07T08:18:23.055Z"
   },
   {
    "duration": 0,
    "start_time": "2023-02-07T08:18:23.056Z"
   },
   {
    "duration": 0,
    "start_time": "2023-02-07T08:18:23.057Z"
   },
   {
    "duration": 0,
    "start_time": "2023-02-07T08:18:23.059Z"
   },
   {
    "duration": 0,
    "start_time": "2023-02-07T08:18:23.061Z"
   },
   {
    "duration": 0,
    "start_time": "2023-02-07T08:18:23.062Z"
   },
   {
    "duration": 0,
    "start_time": "2023-02-07T08:18:23.063Z"
   },
   {
    "duration": 66,
    "start_time": "2023-02-07T08:19:45.881Z"
   },
   {
    "duration": 15,
    "start_time": "2023-02-07T08:19:45.949Z"
   },
   {
    "duration": 15,
    "start_time": "2023-02-07T08:19:45.965Z"
   },
   {
    "duration": 3,
    "start_time": "2023-02-07T08:19:45.981Z"
   },
   {
    "duration": 11,
    "start_time": "2023-02-07T08:19:45.986Z"
   },
   {
    "duration": 48,
    "start_time": "2023-02-07T08:19:45.998Z"
   },
   {
    "duration": 3,
    "start_time": "2023-02-07T08:19:46.048Z"
   },
   {
    "duration": 14,
    "start_time": "2023-02-07T08:19:46.053Z"
   },
   {
    "duration": 4,
    "start_time": "2023-02-07T08:19:46.069Z"
   },
   {
    "duration": 7,
    "start_time": "2023-02-07T08:19:46.075Z"
   },
   {
    "duration": 5,
    "start_time": "2023-02-07T08:19:46.084Z"
   },
   {
    "duration": 57,
    "start_time": "2023-02-07T08:19:46.090Z"
   },
   {
    "duration": 9,
    "start_time": "2023-02-07T08:19:46.149Z"
   },
   {
    "duration": 11,
    "start_time": "2023-02-07T08:19:46.159Z"
   },
   {
    "duration": 15,
    "start_time": "2023-02-07T08:19:46.172Z"
   },
   {
    "duration": 35,
    "start_time": "2023-02-07T08:19:46.189Z"
   },
   {
    "duration": 18,
    "start_time": "2023-02-07T08:19:46.228Z"
   },
   {
    "duration": 3,
    "start_time": "2023-02-07T08:19:46.248Z"
   },
   {
    "duration": 12,
    "start_time": "2023-02-07T08:19:46.253Z"
   },
   {
    "duration": 9,
    "start_time": "2023-02-07T08:19:46.267Z"
   },
   {
    "duration": 10,
    "start_time": "2023-02-07T08:19:46.278Z"
   },
   {
    "duration": 13,
    "start_time": "2023-02-07T08:19:46.290Z"
   },
   {
    "duration": 58,
    "start_time": "2023-02-07T08:19:46.304Z"
   },
   {
    "duration": 1054,
    "start_time": "2023-02-07T08:19:46.364Z"
   },
   {
    "duration": 47,
    "start_time": "2023-02-07T08:19:47.420Z"
   },
   {
    "duration": 701,
    "start_time": "2023-02-07T08:19:47.469Z"
   },
   {
    "duration": 37,
    "start_time": "2023-02-07T08:19:48.172Z"
   },
   {
    "duration": 193,
    "start_time": "2023-02-07T08:19:48.210Z"
   },
   {
    "duration": 41,
    "start_time": "2023-02-07T08:19:48.404Z"
   },
   {
    "duration": 157,
    "start_time": "2023-02-07T08:19:48.446Z"
   },
   {
    "duration": 23,
    "start_time": "2023-02-07T08:20:16.119Z"
   },
   {
    "duration": 6,
    "start_time": "2023-02-07T08:20:57.805Z"
   },
   {
    "duration": 10,
    "start_time": "2023-02-07T08:21:14.274Z"
   },
   {
    "duration": 33,
    "start_time": "2023-02-07T08:21:38.392Z"
   },
   {
    "duration": 39,
    "start_time": "2023-02-07T08:21:48.672Z"
   },
   {
    "duration": 59,
    "start_time": "2023-02-07T08:25:37.291Z"
   },
   {
    "duration": 46,
    "start_time": "2023-02-07T08:25:51.899Z"
   },
   {
    "duration": 62,
    "start_time": "2023-02-07T08:26:53.999Z"
   },
   {
    "duration": 113,
    "start_time": "2023-02-07T08:27:23.788Z"
   },
   {
    "duration": 31,
    "start_time": "2023-02-07T08:28:30.173Z"
   },
   {
    "duration": 13,
    "start_time": "2023-02-07T08:28:43.002Z"
   },
   {
    "duration": 96,
    "start_time": "2023-02-07T08:30:34.838Z"
   },
   {
    "duration": 15,
    "start_time": "2023-02-07T08:30:41.026Z"
   },
   {
    "duration": 11,
    "start_time": "2023-02-07T08:31:09.741Z"
   },
   {
    "duration": 11,
    "start_time": "2023-02-07T08:31:53.399Z"
   },
   {
    "duration": 30,
    "start_time": "2023-02-07T08:32:08.220Z"
   },
   {
    "duration": 13,
    "start_time": "2023-02-07T08:34:55.037Z"
   },
   {
    "duration": 14,
    "start_time": "2023-02-07T08:35:49.709Z"
   },
   {
    "duration": 27,
    "start_time": "2023-02-07T08:36:07.712Z"
   },
   {
    "duration": 33,
    "start_time": "2023-02-07T08:36:32.108Z"
   },
   {
    "duration": 35,
    "start_time": "2023-02-07T08:37:02.699Z"
   },
   {
    "duration": 22,
    "start_time": "2023-02-07T08:37:21.645Z"
   },
   {
    "duration": 28,
    "start_time": "2023-02-07T08:38:01.250Z"
   },
   {
    "duration": 473,
    "start_time": "2023-02-07T08:38:18.507Z"
   },
   {
    "duration": 29,
    "start_time": "2023-02-07T08:38:18.982Z"
   },
   {
    "duration": 36,
    "start_time": "2023-02-07T08:38:19.013Z"
   },
   {
    "duration": 35,
    "start_time": "2023-02-07T08:38:19.051Z"
   },
   {
    "duration": 9,
    "start_time": "2023-02-07T08:38:19.087Z"
   },
   {
    "duration": 45,
    "start_time": "2023-02-07T08:38:19.097Z"
   },
   {
    "duration": 6,
    "start_time": "2023-02-07T08:38:19.145Z"
   },
   {
    "duration": 28,
    "start_time": "2023-02-07T08:38:19.152Z"
   },
   {
    "duration": 9,
    "start_time": "2023-02-07T08:38:19.181Z"
   },
   {
    "duration": 8,
    "start_time": "2023-02-07T08:38:19.193Z"
   },
   {
    "duration": 4,
    "start_time": "2023-02-07T08:38:19.203Z"
   },
   {
    "duration": 36,
    "start_time": "2023-02-07T08:38:19.208Z"
   },
   {
    "duration": 13,
    "start_time": "2023-02-07T08:38:19.245Z"
   },
   {
    "duration": 14,
    "start_time": "2023-02-07T08:38:19.259Z"
   },
   {
    "duration": 16,
    "start_time": "2023-02-07T08:38:19.276Z"
   },
   {
    "duration": 40,
    "start_time": "2023-02-07T08:38:19.294Z"
   },
   {
    "duration": 23,
    "start_time": "2023-02-07T08:38:19.336Z"
   },
   {
    "duration": 26,
    "start_time": "2023-02-07T08:38:19.361Z"
   },
   {
    "duration": 18,
    "start_time": "2023-02-07T08:38:19.389Z"
   },
   {
    "duration": 7,
    "start_time": "2023-02-07T08:38:19.409Z"
   },
   {
    "duration": 6,
    "start_time": "2023-02-07T08:38:19.417Z"
   },
   {
    "duration": 50,
    "start_time": "2023-02-07T08:38:19.425Z"
   },
   {
    "duration": 40,
    "start_time": "2023-02-07T08:38:19.477Z"
   },
   {
    "duration": 1879,
    "start_time": "2023-02-07T08:38:19.519Z"
   },
   {
    "duration": 55,
    "start_time": "2023-02-07T08:38:21.399Z"
   },
   {
    "duration": 625,
    "start_time": "2023-02-07T08:38:21.462Z"
   },
   {
    "duration": 84,
    "start_time": "2023-02-07T08:38:22.089Z"
   },
   {
    "duration": 199,
    "start_time": "2023-02-07T08:38:22.177Z"
   },
   {
    "duration": 40,
    "start_time": "2023-02-07T08:38:22.377Z"
   },
   {
    "duration": 190,
    "start_time": "2023-02-07T08:38:22.418Z"
   },
   {
    "duration": 33,
    "start_time": "2023-02-07T08:38:46.331Z"
   },
   {
    "duration": 23,
    "start_time": "2023-02-07T08:38:59.766Z"
   },
   {
    "duration": 28,
    "start_time": "2023-02-07T08:39:11.986Z"
   },
   {
    "duration": 470,
    "start_time": "2023-02-07T08:39:32.091Z"
   },
   {
    "duration": 24,
    "start_time": "2023-02-07T08:39:32.563Z"
   },
   {
    "duration": 15,
    "start_time": "2023-02-07T08:39:32.589Z"
   },
   {
    "duration": 48,
    "start_time": "2023-02-07T08:39:32.606Z"
   },
   {
    "duration": 13,
    "start_time": "2023-02-07T08:39:32.658Z"
   },
   {
    "duration": 37,
    "start_time": "2023-02-07T08:39:32.673Z"
   },
   {
    "duration": 3,
    "start_time": "2023-02-07T08:39:32.712Z"
   },
   {
    "duration": 14,
    "start_time": "2023-02-07T08:39:32.730Z"
   },
   {
    "duration": 30,
    "start_time": "2023-02-07T08:39:32.748Z"
   },
   {
    "duration": 13,
    "start_time": "2023-02-07T08:39:32.780Z"
   },
   {
    "duration": 13,
    "start_time": "2023-02-07T08:39:32.794Z"
   },
   {
    "duration": 55,
    "start_time": "2023-02-07T08:39:32.809Z"
   },
   {
    "duration": 21,
    "start_time": "2023-02-07T08:39:32.866Z"
   },
   {
    "duration": 5,
    "start_time": "2023-02-07T08:39:32.894Z"
   },
   {
    "duration": 21,
    "start_time": "2023-02-07T08:39:32.901Z"
   },
   {
    "duration": 83,
    "start_time": "2023-02-07T08:39:32.924Z"
   },
   {
    "duration": 23,
    "start_time": "2023-02-07T08:39:33.009Z"
   },
   {
    "duration": 13,
    "start_time": "2023-02-07T08:39:33.037Z"
   },
   {
    "duration": 32,
    "start_time": "2023-02-07T08:39:33.056Z"
   },
   {
    "duration": 10,
    "start_time": "2023-02-07T08:39:33.090Z"
   },
   {
    "duration": 5,
    "start_time": "2023-02-07T08:39:33.102Z"
   },
   {
    "duration": 18,
    "start_time": "2023-02-07T08:39:33.108Z"
   },
   {
    "duration": 71,
    "start_time": "2023-02-07T08:39:33.128Z"
   },
   {
    "duration": 2065,
    "start_time": "2023-02-07T08:39:33.201Z"
   },
   {
    "duration": 40,
    "start_time": "2023-02-07T08:39:35.273Z"
   },
   {
    "duration": 687,
    "start_time": "2023-02-07T08:39:35.315Z"
   },
   {
    "duration": 53,
    "start_time": "2023-02-07T08:39:36.004Z"
   },
   {
    "duration": 202,
    "start_time": "2023-02-07T08:39:36.063Z"
   },
   {
    "duration": 40,
    "start_time": "2023-02-07T08:39:36.267Z"
   },
   {
    "duration": 207,
    "start_time": "2023-02-07T08:39:36.309Z"
   },
   {
    "duration": 20,
    "start_time": "2023-02-07T08:39:55.626Z"
   },
   {
    "duration": 21,
    "start_time": "2023-02-07T08:40:17.385Z"
   },
   {
    "duration": 35,
    "start_time": "2023-02-07T08:40:28.904Z"
   },
   {
    "duration": 21,
    "start_time": "2023-02-07T08:40:55.155Z"
   },
   {
    "duration": 23,
    "start_time": "2023-02-07T08:41:22.064Z"
   },
   {
    "duration": 36,
    "start_time": "2023-02-07T08:41:39.913Z"
   },
   {
    "duration": 15,
    "start_time": "2023-02-07T08:42:46.569Z"
   },
   {
    "duration": 13,
    "start_time": "2023-02-07T08:53:00.261Z"
   },
   {
    "duration": 434,
    "start_time": "2023-02-07T08:53:09.298Z"
   },
   {
    "duration": 22,
    "start_time": "2023-02-07T08:53:09.734Z"
   },
   {
    "duration": 22,
    "start_time": "2023-02-07T08:53:09.758Z"
   },
   {
    "duration": 68,
    "start_time": "2023-02-07T08:53:09.782Z"
   },
   {
    "duration": 0,
    "start_time": "2023-02-07T08:53:09.853Z"
   },
   {
    "duration": 0,
    "start_time": "2023-02-07T08:53:09.853Z"
   },
   {
    "duration": 0,
    "start_time": "2023-02-07T08:53:09.855Z"
   },
   {
    "duration": 0,
    "start_time": "2023-02-07T08:53:09.859Z"
   },
   {
    "duration": 0,
    "start_time": "2023-02-07T08:53:09.860Z"
   },
   {
    "duration": 0,
    "start_time": "2023-02-07T08:53:09.861Z"
   },
   {
    "duration": 0,
    "start_time": "2023-02-07T08:53:09.864Z"
   },
   {
    "duration": 0,
    "start_time": "2023-02-07T08:53:09.865Z"
   },
   {
    "duration": 0,
    "start_time": "2023-02-07T08:53:09.866Z"
   },
   {
    "duration": 0,
    "start_time": "2023-02-07T08:53:09.867Z"
   },
   {
    "duration": 0,
    "start_time": "2023-02-07T08:53:09.868Z"
   },
   {
    "duration": 0,
    "start_time": "2023-02-07T08:53:09.869Z"
   },
   {
    "duration": 0,
    "start_time": "2023-02-07T08:53:09.870Z"
   },
   {
    "duration": 0,
    "start_time": "2023-02-07T08:53:09.871Z"
   },
   {
    "duration": 0,
    "start_time": "2023-02-07T08:53:09.871Z"
   },
   {
    "duration": 0,
    "start_time": "2023-02-07T08:53:09.872Z"
   },
   {
    "duration": 0,
    "start_time": "2023-02-07T08:53:09.874Z"
   },
   {
    "duration": 0,
    "start_time": "2023-02-07T08:53:09.875Z"
   },
   {
    "duration": 0,
    "start_time": "2023-02-07T08:53:09.876Z"
   },
   {
    "duration": 0,
    "start_time": "2023-02-07T08:53:09.877Z"
   },
   {
    "duration": 0,
    "start_time": "2023-02-07T08:53:09.877Z"
   },
   {
    "duration": 0,
    "start_time": "2023-02-07T08:53:09.878Z"
   },
   {
    "duration": 0,
    "start_time": "2023-02-07T08:53:09.879Z"
   },
   {
    "duration": 0,
    "start_time": "2023-02-07T08:53:09.882Z"
   },
   {
    "duration": 0,
    "start_time": "2023-02-07T08:53:09.883Z"
   },
   {
    "duration": 0,
    "start_time": "2023-02-07T08:53:09.884Z"
   },
   {
    "duration": 0,
    "start_time": "2023-02-07T08:53:09.928Z"
   },
   {
    "duration": 466,
    "start_time": "2023-02-07T08:53:34.743Z"
   },
   {
    "duration": 31,
    "start_time": "2023-02-07T08:53:35.211Z"
   },
   {
    "duration": 31,
    "start_time": "2023-02-07T08:53:35.244Z"
   },
   {
    "duration": 23,
    "start_time": "2023-02-07T08:53:35.277Z"
   },
   {
    "duration": 22,
    "start_time": "2023-02-07T08:53:35.303Z"
   },
   {
    "duration": 53,
    "start_time": "2023-02-07T08:53:35.327Z"
   },
   {
    "duration": 3,
    "start_time": "2023-02-07T08:53:35.381Z"
   },
   {
    "duration": 18,
    "start_time": "2023-02-07T08:53:35.386Z"
   },
   {
    "duration": 8,
    "start_time": "2023-02-07T08:53:35.405Z"
   },
   {
    "duration": 11,
    "start_time": "2023-02-07T08:53:35.414Z"
   },
   {
    "duration": 24,
    "start_time": "2023-02-07T08:53:35.431Z"
   },
   {
    "duration": 49,
    "start_time": "2023-02-07T08:53:35.457Z"
   },
   {
    "duration": 9,
    "start_time": "2023-02-07T08:53:35.507Z"
   },
   {
    "duration": 5,
    "start_time": "2023-02-07T08:53:35.518Z"
   },
   {
    "duration": 53,
    "start_time": "2023-02-07T08:53:35.524Z"
   },
   {
    "duration": 24,
    "start_time": "2023-02-07T08:53:35.579Z"
   },
   {
    "duration": 17,
    "start_time": "2023-02-07T08:53:35.605Z"
   },
   {
    "duration": 4,
    "start_time": "2023-02-07T08:53:35.623Z"
   },
   {
    "duration": 27,
    "start_time": "2023-02-07T08:53:35.634Z"
   },
   {
    "duration": 7,
    "start_time": "2023-02-07T08:53:35.663Z"
   },
   {
    "duration": 18,
    "start_time": "2023-02-07T08:53:35.671Z"
   },
   {
    "duration": 24,
    "start_time": "2023-02-07T08:53:35.691Z"
   },
   {
    "duration": 46,
    "start_time": "2023-02-07T08:53:35.717Z"
   },
   {
    "duration": 1927,
    "start_time": "2023-02-07T08:53:35.765Z"
   },
   {
    "duration": 47,
    "start_time": "2023-02-07T08:53:37.693Z"
   },
   {
    "duration": 792,
    "start_time": "2023-02-07T08:53:37.745Z"
   },
   {
    "duration": 44,
    "start_time": "2023-02-07T08:53:38.539Z"
   },
   {
    "duration": 177,
    "start_time": "2023-02-07T08:53:38.585Z"
   },
   {
    "duration": 38,
    "start_time": "2023-02-07T08:53:38.764Z"
   },
   {
    "duration": 187,
    "start_time": "2023-02-07T08:53:38.805Z"
   },
   {
    "duration": 16,
    "start_time": "2023-02-07T08:53:38.994Z"
   },
   {
    "duration": 470,
    "start_time": "2023-02-07T08:55:34.951Z"
   },
   {
    "duration": 29,
    "start_time": "2023-02-07T08:55:35.423Z"
   },
   {
    "duration": 18,
    "start_time": "2023-02-07T08:55:35.457Z"
   },
   {
    "duration": 5,
    "start_time": "2023-02-07T08:55:35.476Z"
   },
   {
    "duration": 11,
    "start_time": "2023-02-07T08:55:35.483Z"
   },
   {
    "duration": 56,
    "start_time": "2023-02-07T08:55:35.495Z"
   },
   {
    "duration": 5,
    "start_time": "2023-02-07T08:55:35.555Z"
   },
   {
    "duration": 23,
    "start_time": "2023-02-07T08:55:35.562Z"
   },
   {
    "duration": 14,
    "start_time": "2023-02-07T08:55:35.587Z"
   },
   {
    "duration": 10,
    "start_time": "2023-02-07T08:55:35.603Z"
   },
   {
    "duration": 5,
    "start_time": "2023-02-07T08:55:35.614Z"
   },
   {
    "duration": 52,
    "start_time": "2023-02-07T08:55:35.621Z"
   },
   {
    "duration": 13,
    "start_time": "2023-02-07T08:55:35.674Z"
   },
   {
    "duration": 4,
    "start_time": "2023-02-07T08:55:35.691Z"
   },
   {
    "duration": 13,
    "start_time": "2023-02-07T08:55:35.697Z"
   },
   {
    "duration": 24,
    "start_time": "2023-02-07T08:55:35.738Z"
   },
   {
    "duration": 17,
    "start_time": "2023-02-07T08:55:35.764Z"
   },
   {
    "duration": 4,
    "start_time": "2023-02-07T08:55:35.782Z"
   },
   {
    "duration": 14,
    "start_time": "2023-02-07T08:55:35.788Z"
   },
   {
    "duration": 11,
    "start_time": "2023-02-07T08:55:35.804Z"
   },
   {
    "duration": 5,
    "start_time": "2023-02-07T08:55:35.816Z"
   },
   {
    "duration": 41,
    "start_time": "2023-02-07T08:55:35.828Z"
   },
   {
    "duration": 41,
    "start_time": "2023-02-07T08:55:35.871Z"
   },
   {
    "duration": 1992,
    "start_time": "2023-02-07T08:55:35.913Z"
   },
   {
    "duration": 63,
    "start_time": "2023-02-07T08:55:37.906Z"
   },
   {
    "duration": 717,
    "start_time": "2023-02-07T08:55:37.973Z"
   },
   {
    "duration": 49,
    "start_time": "2023-02-07T08:55:38.692Z"
   },
   {
    "duration": 180,
    "start_time": "2023-02-07T08:55:38.745Z"
   },
   {
    "duration": 46,
    "start_time": "2023-02-07T08:55:38.927Z"
   },
   {
    "duration": 200,
    "start_time": "2023-02-07T08:55:38.975Z"
   },
   {
    "duration": 12,
    "start_time": "2023-02-07T08:55:39.177Z"
   },
   {
    "duration": 37,
    "start_time": "2023-02-07T09:42:30.397Z"
   },
   {
    "duration": 128,
    "start_time": "2023-02-07T09:43:06.089Z"
   },
   {
    "duration": 36,
    "start_time": "2023-02-07T09:43:22.644Z"
   },
   {
    "duration": 44,
    "start_time": "2023-02-07T09:45:05.045Z"
   },
   {
    "duration": 49,
    "start_time": "2023-02-07T09:47:21.976Z"
   },
   {
    "duration": 36,
    "start_time": "2023-02-07T09:47:44.435Z"
   },
   {
    "duration": 35,
    "start_time": "2023-02-07T09:50:40.639Z"
   },
   {
    "duration": 39,
    "start_time": "2023-02-07T09:54:38.147Z"
   },
   {
    "duration": 32,
    "start_time": "2023-02-07T09:55:02.959Z"
   },
   {
    "duration": 37,
    "start_time": "2023-02-07T09:57:08.763Z"
   },
   {
    "duration": 45,
    "start_time": "2023-02-07T09:57:22.345Z"
   },
   {
    "duration": 41,
    "start_time": "2023-02-07T09:57:41.713Z"
   },
   {
    "duration": 34,
    "start_time": "2023-02-07T09:58:39.781Z"
   },
   {
    "duration": 5,
    "start_time": "2023-02-07T09:58:57.798Z"
   },
   {
    "duration": 5,
    "start_time": "2023-02-07T09:59:57.518Z"
   },
   {
    "duration": 39,
    "start_time": "2023-02-07T10:01:23.017Z"
   },
   {
    "duration": 48,
    "start_time": "2023-02-07T10:01:37.569Z"
   },
   {
    "duration": 59,
    "start_time": "2023-02-07T10:02:28.694Z"
   },
   {
    "duration": 52,
    "start_time": "2023-02-07T10:08:18.636Z"
   },
   {
    "duration": 1296,
    "start_time": "2023-02-07T10:08:53.010Z"
   },
   {
    "duration": 34,
    "start_time": "2023-02-07T10:08:57.759Z"
   },
   {
    "duration": 52,
    "start_time": "2023-02-07T10:09:27.901Z"
   },
   {
    "duration": 43,
    "start_time": "2023-02-07T10:09:38.308Z"
   },
   {
    "duration": 41,
    "start_time": "2023-02-07T10:11:29.711Z"
   },
   {
    "duration": 35,
    "start_time": "2023-02-07T10:11:41.889Z"
   },
   {
    "duration": 37,
    "start_time": "2023-02-07T10:11:55.920Z"
   },
   {
    "duration": 48,
    "start_time": "2023-02-07T10:15:46.794Z"
   },
   {
    "duration": 48,
    "start_time": "2023-02-07T10:16:13.914Z"
   },
   {
    "duration": 47,
    "start_time": "2023-02-07T10:17:10.091Z"
   },
   {
    "duration": 35,
    "start_time": "2023-02-07T10:18:14.855Z"
   },
   {
    "duration": 45,
    "start_time": "2023-02-07T10:18:23.202Z"
   },
   {
    "duration": 36,
    "start_time": "2023-02-07T10:20:27.009Z"
   },
   {
    "duration": 36,
    "start_time": "2023-02-07T10:21:53.858Z"
   },
   {
    "duration": 34,
    "start_time": "2023-02-07T10:22:09.648Z"
   },
   {
    "duration": 43,
    "start_time": "2023-02-07T10:22:57.423Z"
   },
   {
    "duration": 32,
    "start_time": "2023-02-07T10:24:21.792Z"
   },
   {
    "duration": 40,
    "start_time": "2023-02-07T10:24:30.736Z"
   },
   {
    "duration": 35,
    "start_time": "2023-02-07T10:25:10.524Z"
   },
   {
    "duration": 38,
    "start_time": "2023-02-07T10:26:09.309Z"
   },
   {
    "duration": 37,
    "start_time": "2023-02-07T10:26:20.986Z"
   },
   {
    "duration": 36,
    "start_time": "2023-02-07T10:27:31.775Z"
   },
   {
    "duration": 160,
    "start_time": "2023-02-07T11:34:36.646Z"
   },
   {
    "duration": 173,
    "start_time": "2023-02-07T11:34:47.646Z"
   },
   {
    "duration": 175,
    "start_time": "2023-02-07T11:34:56.718Z"
   },
   {
    "duration": 264,
    "start_time": "2023-02-07T11:39:00.906Z"
   },
   {
    "duration": 444,
    "start_time": "2023-02-07T12:22:09.749Z"
   },
   {
    "duration": 21,
    "start_time": "2023-02-07T12:22:10.195Z"
   },
   {
    "duration": 14,
    "start_time": "2023-02-07T12:22:10.218Z"
   },
   {
    "duration": 3,
    "start_time": "2023-02-07T12:22:10.233Z"
   },
   {
    "duration": 19,
    "start_time": "2023-02-07T12:22:10.237Z"
   },
   {
    "duration": 31,
    "start_time": "2023-02-07T12:22:10.257Z"
   },
   {
    "duration": 3,
    "start_time": "2023-02-07T12:22:10.290Z"
   },
   {
    "duration": 13,
    "start_time": "2023-02-07T12:22:10.295Z"
   },
   {
    "duration": 5,
    "start_time": "2023-02-07T12:22:10.328Z"
   },
   {
    "duration": 9,
    "start_time": "2023-02-07T12:22:10.336Z"
   },
   {
    "duration": 5,
    "start_time": "2023-02-07T12:22:10.347Z"
   },
   {
    "duration": 31,
    "start_time": "2023-02-07T12:22:10.353Z"
   },
   {
    "duration": 8,
    "start_time": "2023-02-07T12:22:10.386Z"
   },
   {
    "duration": 33,
    "start_time": "2023-02-07T12:22:10.395Z"
   },
   {
    "duration": 11,
    "start_time": "2023-02-07T12:22:10.429Z"
   },
   {
    "duration": 25,
    "start_time": "2023-02-07T12:22:10.441Z"
   },
   {
    "duration": 16,
    "start_time": "2023-02-07T12:22:10.468Z"
   },
   {
    "duration": 3,
    "start_time": "2023-02-07T12:22:10.486Z"
   },
   {
    "duration": 14,
    "start_time": "2023-02-07T12:22:10.491Z"
   },
   {
    "duration": 21,
    "start_time": "2023-02-07T12:22:10.507Z"
   },
   {
    "duration": 3,
    "start_time": "2023-02-07T12:22:10.530Z"
   },
   {
    "duration": 14,
    "start_time": "2023-02-07T12:22:10.535Z"
   },
   {
    "duration": 36,
    "start_time": "2023-02-07T12:22:10.551Z"
   },
   {
    "duration": 1804,
    "start_time": "2023-02-07T12:22:10.589Z"
   },
   {
    "duration": 38,
    "start_time": "2023-02-07T12:22:12.395Z"
   },
   {
    "duration": 727,
    "start_time": "2023-02-07T12:22:12.434Z"
   },
   {
    "duration": 35,
    "start_time": "2023-02-07T12:22:13.163Z"
   },
   {
    "duration": 185,
    "start_time": "2023-02-07T12:22:13.201Z"
   },
   {
    "duration": 46,
    "start_time": "2023-02-07T12:22:13.387Z"
   },
   {
    "duration": 184,
    "start_time": "2023-02-07T12:22:13.435Z"
   },
   {
    "duration": 18,
    "start_time": "2023-02-07T12:22:13.621Z"
   }
  ],
  "colab": {
   "name": "dpp_template_part2.ipynb",
   "provenance": []
  },
  "kernelspec": {
   "display_name": "Python 3 (ipykernel)",
   "language": "python",
   "name": "python3"
  },
  "language_info": {
   "codemirror_mode": {
    "name": "ipython",
    "version": 3
   },
   "file_extension": ".py",
   "mimetype": "text/x-python",
   "name": "python",
   "nbconvert_exporter": "python",
   "pygments_lexer": "ipython3",
   "version": "3.9.13"
  },
  "toc": {
   "base_numbering": 1,
   "nav_menu": {},
   "number_sections": true,
   "sideBar": true,
   "skip_h1_title": true,
   "title_cell": "Table of Contents",
   "title_sidebar": "Contents",
   "toc_cell": false,
   "toc_position": {
    "height": "calc(100% - 180px)",
    "left": "10px",
    "top": "150px",
    "width": "424px"
   },
   "toc_section_display": true,
   "toc_window_display": false
  }
 },
 "nbformat": 4,
 "nbformat_minor": 5
}
